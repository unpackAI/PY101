{
 "cells": [
  {
   "cell_type": "markdown",
   "metadata": {},
   "source": [
    "# Introduction to Web Apps with Streamlit 🚀"
   ]
  },
  {
   "cell_type": "markdown",
   "metadata": {},
   "source": [
    "## Intro about Streamlit"
   ]
  },
  {
   "cell_type": "markdown",
   "metadata": {},
   "source": [
    "### What is Streamlit?"
   ]
  },
  {
   "cell_type": "markdown",
   "metadata": {},
   "source": [
    "`streamlit` is a Python library that helps to create nice looking Web Apps with only few lines of code. You can even deploy the app in few minutes so everyone in the world can use it.\n",
    "\n",
    "It is easy to use 🤟, versatile 🎚️, and powerful 💪.\n",
    "\n",
    "To install it, you can just install like any Python Library with:\n",
    "`pip install streamlit`\n",
    "\n",
    "You can check their cool website here:\n",
    "\n",
    "https://streamlit.io/\n",
    "\n"
   ]
  },
  {
   "cell_type": "markdown",
   "metadata": {},
   "source": [
    "The Web App is designed using \"Widgets\" (which are interactive blocks on your web page).\n",
    "\n",
    "Here are some of the widgets.\n",
    "\n",
    "Note that most of the widgets in this example allow the user to enter inputs and store the value in a variable: a slider to get a number, a color picker, an upload of file, a date ...\n",
    "\n",
    "![Examples Widgets](images/streamlit_examples_widgets.png)\n",
    "\n"
   ]
  },
  {
   "cell_type": "markdown",
   "metadata": {},
   "source": [
    "### Examples of Apps\n"
   ]
  },
  {
   "cell_type": "markdown",
   "metadata": {},
   "source": [
    "You can find several examples of apps deployed here: https://streamlit.io/gallery\n",
    "\n",
    "In particular, these are quite cool:\n",
    "* An interactive dashboard for Ambulance in UK: https://share.streamlit.io/data-science-at-swast/handover_poc/main/handover.py\n",
    "* An app to create recipe (AI) based on ingredients: https://share.streamlit.io/chef-transformer/chef-transformer/main/app.py"
   ]
  },
  {
   "cell_type": "markdown",
   "metadata": {},
   "source": [
    "Below is a very simple app with few lines of codes.\n",
    "\n",
    "```python\n",
    "\n",
    "import streamlit as st\n",
    "\n",
    "st.title(\"Simple App\")\n",
    "\n",
    "name = st.text_input(\"What is your name?\")\n",
    "sex = st.radio(\"What describes you best?\", [\"Male\", \"Female\", \"Other\"])\n",
    "age = st.slider(\"How old are you?\", min_value=0, max_value=100)\n",
    "\n",
    "st.write(\"---\")  # for an horizontal line\n",
    "\n",
    "sex_as_string = \"\"\n",
    "if sex != \"Other\":\n",
    "    sex_as_string = \"(M)\" if sex == \"Male\" else \"(F)\"\n",
    "st.write(f\"Hello, {name} {sex_as_string}. You are {age} but you look gorgeous!🌞\")\n",
    "\n",
    "```\n",
    "\n",
    "It will display like this:\n",
    "\n",
    "\n",
    "![Simple App](images/streamlit_simple_app.png)\n",
    "\n",
    "Do you like 💖 it?"
   ]
  },
  {
   "cell_type": "markdown",
   "metadata": {},
   "source": [
    "### Using Streamlit Widgets"
   ]
  },
  {
   "cell_type": "markdown",
   "metadata": {},
   "source": [
    "#### Where to get the list of widgets?"
   ]
  },
  {
   "cell_type": "markdown",
   "metadata": {},
   "source": [
    "The whole list of all the widgets is described here:\n",
    "\n",
    "https://docs.streamlit.io/library/api-reference\n",
    "\n",
    "It is nicely done with:\n",
    "* Widgets organized by categories but still viewable in a single page\n",
    "* Clear description\n",
    "* Screenshot\n",
    "* Example of code\n",
    "* Clicking on the widgets description with open a dedicated window with more information and a live example that is run in your browser (as some widgets are interactive, you can interact directly in the example to feel how it behaves)\n",
    "\n",
    "\n",
    "![Interactive Doc](images/streamlit_doc.png)"
   ]
  },
  {
   "cell_type": "markdown",
   "metadata": {},
   "source": [
    "The main types of widgets are:\n",
    "\n",
    "1. Displaying text, data (e.g. lists, DataFrames), media (images, videos, sound), graphs, maps, ...\n",
    "2. Getting input like text, number, date, color, file, or even image from camera\n",
    "3. Grouping and organizing Widgets\n",
    "4. Performing complex tasks ... like showing animated balloons🎈 on the screens"
   ]
  },
  {
   "cell_type": "markdown",
   "metadata": {},
   "source": [
    "#### Most common widgets"
   ]
  },
  {
   "cell_type": "markdown",
   "metadata": {},
   "source": [
    "We will see some of the most common widgets:\n",
    "\n",
    "1. [`st.write`](https://docs.streamlit.io/library/api-reference/widgets/st.write) to show most of any type of data\n",
    "2. [`st.code`](https://docs.streamlit.io/library/api-reference/widgets/st.code) to show code with nice colors to be easily readable\n",
    "3. [`st.radio`](https://docs.streamlit.io/library/api-reference/widgets/st.radio) or [`st.selectbox`](https://docs.streamlit.io/library/api-reference/widgets/st.selectbox) to select one value among a list\n",
    "4. [`st.multiselect`](https://docs.streamlit.io/library/api-reference/widgets/st.multiselect) to select any number of values among a list\n",
    "5. [`st.slider`](https://docs.streamlit.io/library/api-reference/widgets/st.slider) to select a number in a given range\n",
    "6. [`st.text_input`](https://docs.streamlit.io/library/api-reference/widgets/st.text_input) (respectively [`st.number_input`](https://docs.streamlit.io/library/api-reference/widgets/st.number_input)) to enter text (resp. a number)\n",
    "7. [`st.button`](https://docs.streamlit.io/library/api-reference/widgets/st.button) to execute a command on demand (e.g. update data, launch a computation, etc, ...)\n",
    "8. [`st.download_button`](https://docs.streamlit.io/library/api-reference/widgets/st.download_button), which is not exactly common but might be useful in our project: it allows to download a file from the app\n",
    "\n",
    "---"
   ]
  },
  {
   "cell_type": "markdown",
   "metadata": {},
   "source": [
    "You can show almost everything with the widget 1️⃣ `st.write()`🧙‍♂️:\n",
    "* Basic data like string or numbers (including formatted Text)\n",
    "* Python Lists or Dictionaries\n",
    "* DataFrame, plots, images\n",
    "* ...\n",
    "\n",
    "Alternatively, you can use the magic 🪄 you might be familiar in Jupyter: **just putting the value alone in a line**\n",
    "\n",
    "So this block with `st.write`\n",
    "\n",
    "```python\n",
    "import streamlit as st\n",
    "\n",
    "st.write(\"We have found the following values:\")\n",
    "st.write([1, 2, 3, 4, 5, 6])\n",
    "```\n",
    "\n",
    "is equivalent to the following with the \"magic 🪄\":\n",
    "\n",
    "```python\n",
    "\"We have found the following values:\"\n",
    "[1, 2, 3, 4, 5, 6]\n",
    "```\n"
   ]
  },
  {
   "cell_type": "markdown",
   "metadata": {},
   "source": [
    "💡 You can use **Markdown** in your strings to format your text. These are some of simple examples of what you can do:\n",
    "\n",
    "```python\n",
    "\"# Header1\"\n",
    "\"## Header2\"\n",
    "\"### Header3\"\n",
    "\"---\"  # This is an horizontal line\n",
    "\"*this is italic (one star)* and **this is bold (two stars)**\"\n",
    "\"https://docs.streamlit.io/library/api-reference\"  # Links are clickable\n",
    "```\n",
    "\n",
    "And this is rendered as:\n",
    "\n",
    "\n",
    "![Examples Markdown](images/streamlit_markdown.png)"
   ]
  },
  {
   "cell_type": "markdown",
   "metadata": {},
   "source": [
    "Additionally, you might need to show some code with nice syntax highlight (see below⬇️):\n",
    "you can do this with 2️⃣ `st.code(\"\"\"...\"\"\")`\n",
    "\n",
    "💡**Syntax Highlight** means that the code is displayed with nice colors to like we can see in Code Editors or Jupyter Notebooks: it helps read the code more easily.\n",
    "\n",
    "Just compare\n",
    "```\n",
    "# Without Syntax Highlight 🙈\n",
    "name = st.text_input(\"What is your name?\")\n",
    "sex = st.radio(\"What describes you best?\", [\"Male\", \"Female\", \"Other\"])\n",
    "age = st.slider(\"How old are you?\", min_value=0, max_value=100)\n",
    "```\n",
    "\n",
    "and this\n",
    "\n",
    "```python\n",
    "# With Syntax Highlight 😇\n",
    "name = st.text_input(\"What is your name?\")\n",
    "sex = st.radio(\"What describes you best?\", [\"Male\", \"Female\", \"Other\"])\n",
    "age = st.slider(\"How old are you?\", min_value=0, max_value=100)\n",
    "```\n",
    "\n",
    "---"
   ]
  },
  {
   "cell_type": "markdown",
   "metadata": {},
   "source": [
    "The other widgets mentioned (3️⃣-8️⃣) are input widgets. This is how to use them:\n",
    "\n",
    "```python\n",
    "value_retrieved_by_widget = <widget>(\"<description of what to show>\", <optional arguments>)\n",
    "\n",
    "... do something with value_retrieved_by_widget\n",
    "```\n",
    "\n",
    "For example:\n",
    "\n",
    "```python\n",
    "name = st.text_input(\"What is your name?\")\n",
    "print(f\"Hello, {name}\")\n",
    "```\n",
    "\n",
    "---"
   ]
  },
  {
   "cell_type": "markdown",
   "metadata": {},
   "source": [
    "You can find more information in the other notebook about Streamlit:\n",
    "[More about Streamlit](More_about_streamlit.ipynb)"
   ]
  },
  {
   "cell_type": "markdown",
   "metadata": {},
   "source": [
    "#### Widgets to organize content\n",
    "\n",
    "You have few widgets to organize the way the content can be displayed:\n",
    "https://docs.streamlit.io/library/api-reference/layout\n",
    "\n",
    "In particular, the three following widgets are very useful:\n",
    "1. **Sidebar**: display an item on the side (in a \"side bar\" always visible) instead of showing in the middle. This is very useful for options you want to keep always visible to the user (a bit like buttons in Word or Excel ... except it's on the side instead of on the top).\n",
    "2. **Columns**: You can display the content into different vertical columns. This is very useful if you want to display several elements side by side, otherwise they would be organized vertically (a bit like using a Table in Word or the \"Columns\" feature).\n",
    "3. **Expander**: To create a zone that can be hidden when clicking on a title. This is very useful to show details only when the user want it and keep the display area clean.\n",
    "\n",
    "The **sidebar** is very easy to use: just do `st.sidebar.<widget>` instead of `st.<widget>` (e.g. `st.sidebar.text_input(...)`).\n",
    "\n",
    "The **columns** have a similar syntax as the sidebar: create your columns (e.g. `col1, col2 = st.columns(2)`) and then use these columns instead of the `st` keyword (e.g. `col1.text_input(...)`).\n",
    "\n",
    "The **expander** is using the `with` keyword:\n",
    "```python\n",
    "with st.expander(\"Click here to show more details\"):\n",
    "    ... put the usual widgets here (e.g. st.text_input(...))\n",
    "\n",
    "```\n",
    "\n"
   ]
  },
  {
   "cell_type": "markdown",
   "metadata": {},
   "source": [
    "This is an exmple:\n",
    "\n",
    "```python\n",
    "import streamlit as st\n",
    "\n",
    "st.title(\"My App\")\n",
    "\n",
    "name = st.sidebar.radio(\"Pick a name\", [\"Jeff\", \"Jenny\", \"Jack\"])\n",
    "\n",
    "\"---\"\n",
    "\n",
    "col1, col2, col3 = st.columns(3)\n",
    "\n",
    "col1.write(\"This is French\")\n",
    "col1.image(\"https://upload.wikimedia.org/wikipedia/commons/e/e7/BAN_19_LOGO_SOCIAL_ROUGE.png\")\n",
    "\n",
    "col2.write(\"This is Chinese\")\n",
    "col2.image(\"https://upload.wikimedia.org/wikipedia/commons/1/1c/HSK-logo.jpg\")\n",
    "\n",
    "col3.write(\"This is Kazakh\")\n",
    "col3.image(\"https://upload.wikimedia.org/wikipedia/commons/9/94/Logo_nl_c_small.jpg\")\n",
    "\n",
    "\"---\"\n",
    "\n",
    "with st.expander(\"See a big picture\"):\n",
    "    st.write(\"This is a Scarlet darter (Crocothemis erythraea) female, near Rila Monastery, Bulgaria.\")\n",
    "    st.image(\"https://upload.wikimedia.org/wikipedia/commons/8/81/Scarlet_darter_%28Crocothemis_erythraea%29_female_Bulgaria.jpg\")\n",
    "\n",
    "```\n",
    "\n",
    "And it will show like this:\n",
    "\n",
    "![Example Layout](images/streamlit_layout_example.png)"
   ]
  }
 ],
 "metadata": {
  "interpreter": {
   "hash": "443f0811113689e9d4171a4680aa69df780800e5e0d4737224dc917c77f16b5f"
  },
  "kernelspec": {
   "display_name": "Python 3.9.10 64-bit",
   "language": "python",
   "name": "python3"
  },
  "language_info": {
   "codemirror_mode": {
    "name": "ipython",
    "version": 3
   },
   "file_extension": ".py",
   "mimetype": "text/x-python",
   "name": "python",
   "nbconvert_exporter": "python",
   "pygments_lexer": "ipython3",
   "version": "3.9.10"
  },
  "orig_nbformat": 4
 },
 "nbformat": 4,
 "nbformat_minor": 2
}

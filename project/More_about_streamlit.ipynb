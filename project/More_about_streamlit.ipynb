{
 "cells": [
  {
   "cell_type": "markdown",
   "metadata": {},
   "source": [
    "# Introduction to Web Apps with Streamlit 🚀"
   ]
  },
  {
   "cell_type": "markdown",
   "metadata": {},
   "source": [
    "## Intro about Streamlit"
   ]
  },
  {
   "cell_type": "markdown",
   "metadata": {},
   "source": [
    "### What is Streamlit?"
   ]
  },
  {
   "cell_type": "markdown",
   "metadata": {},
   "source": [
    "`streamlit` is a Python library that helps to create nice looking Web Apps with only few lines of code. You can even deploy the app in few minutes so everyone in the world can use it.\n",
    "\n",
    "It is easy to use 🤟, versatile 🎚️, and powerful 💪.\n",
    "\n",
    "To install it, you can just install like any Python Library with:\n",
    "`pip install streamlit`\n",
    "\n",
    "You can check their cool website here:\n",
    "\n",
    "https://streamlit.io/\n",
    "\n"
   ]
  },
  {
   "cell_type": "markdown",
   "metadata": {},
   "source": [
    "The Web App is designed using \"Widgets\" (which are interactive blocks on your web page).\n",
    "\n",
    "Here are some of the widgets.\n",
    "\n",
    "Note that most of the widgets in this example allow the user to enter inputs and store the value in a variable: a slider to get a number, a color picker, an upload of file, a date ...\n",
    "\n",
    "![Examples Widgets](images/streamlit_examples_widgets.png)\n",
    "\n"
   ]
  },
  {
   "cell_type": "markdown",
   "metadata": {},
   "source": [
    "### Examples of Apps\n"
   ]
  },
  {
   "cell_type": "markdown",
   "metadata": {},
   "source": [
    "You can find several examples of apps deployed here: https://streamlit.io/gallery\n",
    "\n",
    "In particular, these are quite cool:\n",
    "* An interactive dashboard for Ambulance in UK: https://share.streamlit.io/data-science-at-swast/handover_poc/main/handover.py\n",
    "* An app to create recipe (AI) based on ingredients: https://share.streamlit.io/chef-transformer/chef-transformer/main/app.py"
   ]
  },
  {
   "cell_type": "markdown",
   "metadata": {},
   "source": [
    "Below is a very simple app with few lines of codes.\n",
    "\n",
    "```python\n",
    "\n",
    "import streamlit as st\n",
    "\n",
    "st.title(\"Simple App\")\n",
    "\n",
    "name = st.text_input(\"What is your name?\")\n",
    "sex = st.radio(\"What describes you best?\", [\"Male\", \"Female\", \"Other\"])\n",
    "age = st.slider(\"How old are you?\", min_value=0, max_value=100)\n",
    "\n",
    "st.write(\"---\")  # for an horizontal line\n",
    "\n",
    "sex_as_string = \"\"\n",
    "if sex != \"Other\":\n",
    "    sex_as_string = \"(M)\" if sex == \"Male\" else \"(F)\"\n",
    "st.write(f\"Hello, {name} {sex_as_string}. You are {age} but you look gorgeous!🌞\")\n",
    "\n",
    "```\n",
    "\n",
    "It will display like this:\n",
    "\n",
    "\n",
    "![Simple App](images/streamlit_simple_app.png)\n",
    "\n",
    "Do you like 💖 it?"
   ]
  },
  {
   "cell_type": "markdown",
   "metadata": {},
   "source": [
    "### Using Streamlit Widgets"
   ]
  },
  {
   "cell_type": "markdown",
   "metadata": {},
   "source": [
    "#### Where to get the list of widgets?"
   ]
  },
  {
   "cell_type": "markdown",
   "metadata": {},
   "source": [
    "The whole list of all the widgets is described here:\n",
    "\n",
    "https://docs.streamlit.io/library/api-reference\n",
    "\n",
    "It is nicely done with:\n",
    "* Widgets organized by categories but still viewable in a single page\n",
    "* Clear description\n",
    "* Screenshot\n",
    "* Example of code\n",
    "* Clicking on the widgets description with open a dedicated window with more information and a live example that is run in your browser (as some widgets are interactive, you can interact directly in the example to feel how it behaves)\n",
    "\n",
    "\n",
    "![Interactive Doc](images/streamlit_doc.png)"
   ]
  },
  {
   "cell_type": "markdown",
   "metadata": {},
   "source": [
    "The main types of widgets are:\n",
    "\n",
    "1. Displaying text, data (e.g. lists, DataFrames), media (images, videos, sound), graphs, maps, ...\n",
    "2. Getting input like text, number, date, color, file, or even image from camera\n",
    "3. Grouping and organizing Widgets\n",
    "4. Performing complex tasks ... like showing animated balloons🎈 on the screens"
   ]
  },
  {
   "cell_type": "markdown",
   "metadata": {},
   "source": [
    "#### Most common widgets for showing data"
   ]
  },
  {
   "cell_type": "markdown",
   "metadata": {},
   "source": [
    "You can show almost everything with the widget `st.write()`🧙‍♂️:\n",
    "* Basic data like string or numbers (including formatted Text)\n",
    "* Python Lists or Dictionaries\n",
    "* DataFrame, plots, images\n",
    "* ...\n",
    "\n",
    "Alternatively, you can use the magic 🪄 you might be familiar in Jupyter: **just putting the value alone in a line**\n",
    "\n",
    "So this block with `st.write`\n",
    "\n",
    "```python\n",
    "import streamlit as st\n",
    "\n",
    "st.write(\"We have found the following values:\")\n",
    "st.write([1, 2, 3, 4, 5, 6])\n",
    "```\n",
    "\n",
    "is equivalent to the following with the \"magic 🪄\":\n",
    "\n",
    "```python\n",
    "\"We have found the following values:\"\n",
    "[1, 2, 3, 4, 5, 6]\n",
    "```\n"
   ]
  },
  {
   "cell_type": "markdown",
   "metadata": {},
   "source": [
    "💡 You can use **Markdown** in your strings to format your text. These are some of simple examples of what you can do:\n",
    "\n",
    "```python\n",
    "\"# Header1\"\n",
    "\"## Header2\"\n",
    "\"### Header3\"\n",
    "\"---\"  # This is an horizontal line\n",
    "\"*this is italic (one star)* and **this is bold (two stars)**\"\n",
    "\"https://docs.streamlit.io/library/api-reference\"  # Links are clickable\n",
    "```\n",
    "\n",
    "And this is rendered as:\n",
    "\n",
    "\n",
    "![Examples Markdown](images/streamlit_markdown.png)"
   ]
  },
  {
   "cell_type": "markdown",
   "metadata": {},
   "source": [
    "Streamlit provides some specific widgets to show data but this can be achieved with `st.write`:\n",
    "\n",
    "| Element                                                  | Specific function                 | Equivalent with `st.write`                         |\n",
    "|----------------------------------------------------------|-----------------------------------|----------------------------------------------------|\n",
    "| Markdown formatting                                      | `st.markdown(\"...\")`              | Same content (i.e. `st.write(\"...\")`)              |\n",
    "| Title                                                    | `st.title(\"...\")`                 | `# ` + same content (i.e. `st.write(\"# ...\")`)     |\n",
    "| Header                                                   | `st.header(\"...\")`                | `## ` + same content (i.e. `st.write(\"## ...\")`)   |\n",
    "| Subheader                                                | `st.subheader(\"...\")`             | `### ` + same content (i.e. `st.write(\"### ...\")`) |\n",
    "| **Caption (small text)**                                 | `st.caption(\"...\")`               | No equivalent with `st.write`                      |\n",
    "| **Code with syntax highlights** | `st.code(\"...\")` with python code | Equivalent starts to be complex                    |\n",
    "| Dataframes                                               | `st.dataframe(df)`                | Same content (i.e. `st.write(my_df)`)              |\n",
    "| Static tables (from a Dataframe)                         | `st.table(df)`                    | No equivalent with `st.write`                      |\n",
    "| Dictionaries (printed nicely)                            | `st.json(my_dict)`                | Same content (i.e. `st.write(my_dict)`)            |\n",
    "\n",
    "\n",
    "💡**Syntax Highlight** means that the code is displayed with nice colors to like we can see in Code Editors or Jupyter Notebooks: it helps read the code more easily.\n",
    "\n",
    "Just compare\n",
    "```\n",
    "# Without Syntax Highlight 🙈\n",
    "name = st.text_input(\"What is your name?\")\n",
    "sex = st.radio(\"What describes you best?\", [\"Male\", \"Female\", \"Other\"])\n",
    "age = st.slider(\"How old are you?\", min_value=0, max_value=100)\n",
    "```\n",
    "\n",
    "and this\n",
    "\n",
    "```python\n",
    "# With Syntax Highlight 😇\n",
    "name = st.text_input(\"What is your name?\")\n",
    "sex = st.radio(\"What describes you best?\", [\"Male\", \"Female\", \"Other\"])\n",
    "age = st.slider(\"How old are you?\", min_value=0, max_value=100)\n",
    "```"
   ]
  },
  {
   "cell_type": "markdown",
   "metadata": {},
   "source": [
    "**SUMMARY FOR DISPLAYING DATA**\n",
    "\n",
    "Except in few cases (small text, code, static tables), using `st.write()` is usually simpler and easier to remember."
   ]
  },
  {
   "cell_type": "markdown",
   "metadata": {},
   "source": [
    "#### Most common widgets for getting user input"
   ]
  },
  {
   "cell_type": "markdown",
   "metadata": {},
   "source": [
    "The widgets for inputs depend on what you want to get:\n",
    "\n",
    "| What do you need                            | Widget                      | Function (and link to doc)                                                                     |\n",
    "|---------------------------------------------|-----------------------------|------------------------------------------------------------------------------------------------|\n",
    "| Execute an action on command                | Button                      | [`st.button`](https://docs.streamlit.io/library/api-reference/widgets/st.button)               |\n",
    "| A boolean                                   | Checkbox                    | [`st.checkbox`](https://docs.streamlit.io/library/api-reference/widgets/st.checkbox)           |\n",
    "| Choosing a value among a list               | Radio (button)              | [`st.radio`](https://docs.streamlit.io/library/api-reference/widgets/st.radio)                 |\n",
    "| Choosing a value among a list               | SelectBox (drop down)       | [`st.selectbox`](https://docs.streamlit.io/library/api-reference/widgets/st.selectbox)         |\n",
    "| Choosing a value among a list               | Select-slider (slider)      | [`st.select_slider`](https://docs.streamlit.io/library/api-reference/widgets/st.select_slider) |\n",
    "| Choosing one or several values among a list | MultiSelect                 | [`st.multiselect`](https://docs.streamlit.io/library/api-reference/widgets/st.multiselect)     |\n",
    "| A number                                    | Slider (from a range)       | [`st.slider`](https://docs.streamlit.io/library/api-reference/widgets/st.slider)               |\n",
    "| A number                                    | Number input (manual entry) | [`st.number_input`](https://docs.streamlit.io/library/api-reference/widgets/st.number_input)   |\n",
    "| Text (short)                                | Text input                  | [`st.text_input`](https://docs.streamlit.io/library/api-reference/widgets/st.text_input)       |\n",
    "| Text (long)                                 | Text-area                   | [`st.text_area`](https://docs.streamlit.io/library/api-reference/widgets/st.text_area)         |\n",
    "| Color                                       | Color Picker (super cool!)  | [`st.color_picker`](https://docs.streamlit.io/library/api-reference/widgets/st.color_picker)   |\n",
    "| Date                                        | Date input                  | [`st.date_input`](https://docs.streamlit.io/library/api-reference/widgets/st.date_input)       |\n",
    "| Time                                        | Time input                  | [`st.time_input`](https://docs.streamlit.io/library/api-reference/widgets/st.time_input)       |\n",
    "| Image, Sound, Video, File                   | File Uploader               | [`st.file_uploader`](https://docs.streamlit.io/library/api-reference/widgets/st.file_uploader) |\n",
    "| Image from Camera                           | Camera input                | [`st.carmer_input`](https://docs.streamlit.io/library/api-reference/widgets/st.carmer_input)   |\n",
    "\n",
    "\n",
    "Additionally, the documentation mentions [`st.download_button`](https://docs.streamlit.io/library/api-reference/widgets/st.download_button) to allow the user to download a given file on his computer ;)"
   ]
  },
  {
   "cell_type": "code",
   "execution_count": null,
   "metadata": {},
   "outputs": [],
   "source": []
  }
 ],
 "metadata": {
  "interpreter": {
   "hash": "443f0811113689e9d4171a4680aa69df780800e5e0d4737224dc917c77f16b5f"
  },
  "kernelspec": {
   "display_name": "Python 3.9.10 64-bit",
   "language": "python",
   "name": "python3"
  },
  "language_info": {
   "codemirror_mode": {
    "name": "ipython",
    "version": 3
   },
   "file_extension": ".py",
   "mimetype": "text/x-python",
   "name": "python",
   "nbconvert_exporter": "python",
   "pygments_lexer": "ipython3",
   "version": "3.9.10"
  },
  "orig_nbformat": 4
 },
 "nbformat": 4,
 "nbformat_minor": 2
}

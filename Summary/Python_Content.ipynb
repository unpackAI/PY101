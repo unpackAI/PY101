{
 "cells": [
  {
   "cell_type": "markdown",
   "metadata": {},
   "source": [
    "# 🐍Python Bootcamp PY101 #2\n",
    "\n",
    "---"
   ]
  },
  {
   "cell_type": "markdown",
   "metadata": {},
   "source": [
    "# Summary of what we learned"
   ]
  },
  {
   "cell_type": "markdown",
   "metadata": {},
   "source": [
    "## Core Knowledge from Session #1"
   ]
  },
  {
   "cell_type": "markdown",
   "metadata": {},
   "source": [
    "### 📓Jupyter\n",
    "\n",
    "\n",
    "Jupyter is a kind of application that allows editing and running notebook documents via a web browser.\n",
    "\n",
    "**Kaggle** notebooks are based on Jupyter.\n",
    "\n",
    "\n",
    "**Jupyter Notebooks** (extension `.ipynb`):\n",
    "\n",
    "* Notebook-based code editor\n",
    "* Usually run in web browser (but can run in IDE like Visual Studio Code)\n",
    "* Mix code + text + visualization (graphs, tables, pictures, etc.)\n",
    "* Useful when doing research / exploration (e.g. data science)\n",
    "\n",
    "What you are currently look at is a Jupyter Notebook"
   ]
  },
  {
   "cell_type": "markdown",
   "metadata": {},
   "source": [
    "A notebook is composed of 3 types of elements:\n",
    "\n",
    "* **cells of text** in Markdown language (like this block of text)\n",
    "* **cells of Python code** (like what is below)\n",
    "* **results of code cells** (the result of running the code)"
   ]
  },
  {
   "cell_type": "code",
   "execution_count": 1,
   "metadata": {},
   "outputs": [
    {
     "data": {
      "text/plain": [
       "15"
      ]
     },
     "execution_count": 1,
     "metadata": {},
     "output_type": "execute_result"
    }
   ],
   "source": [
    "variable = 10\n",
    "variable + 5\n"
   ]
  },
  {
   "cell_type": "markdown",
   "metadata": {},
   "source": [
    "Jupyter will display the value of the element in the last line of code ... for example:"
   ]
  },
  {
   "cell_type": "code",
   "execution_count": 2,
   "metadata": {},
   "outputs": [
    {
     "data": {
      "text/plain": [
       "'Hello You!'"
      ]
     },
     "execution_count": 2,
     "metadata": {},
     "output_type": "execute_result"
    }
   ],
   "source": [
    "\"Hello \" + \"You!\""
   ]
  },
  {
   "cell_type": "markdown",
   "metadata": {},
   "source": [
    "It can also remember values between cells"
   ]
  },
  {
   "cell_type": "code",
   "execution_count": 5,
   "metadata": {},
   "outputs": [
    {
     "name": "stdout",
     "output_type": "stream",
     "text": [
      "20\n"
     ]
    }
   ],
   "source": [
    "print(variable)"
   ]
  },
  {
   "cell_type": "markdown",
   "metadata": {},
   "source": [
    "You can \"run\" cells with code (i.e. execute the code) in different ways:\n",
    "\n",
    "* Click on the \"Play\" icon ▶️ (top left of cell in VS Code ... or in the toolbar in Jupyter)\n",
    "* <kbd>Shift</kbd> + <kbd>ENTER</kbd> to run the cell and move to the next cell\n",
    "* <kbd>Ctrl</kbd> + <kbd>ENTER</kbd> (<kbd>Cmd</kbd> + <kbd>ENTER</kbd> on Mac) to just run the cell\n"
   ]
  },
  {
   "cell_type": "markdown",
   "metadata": {},
   "source": [
    "### 📑Python Basics\n"
   ]
  },
  {
   "cell_type": "markdown",
   "metadata": {},
   "source": [
    "Basic types of data:\n",
    "\n",
    "* integers: numbers without fractional part (e.g. `-5`, `0`, `10`)\n",
    "* floats: numbers with a fractional part (e.g. `3.14`, `123.456`)\n",
    "* strings: equivalent of text (e.g. `Python is awesome`)\n",
    "\n",
    "*Note: There is another type we will see later: `bool`. Python also supports also complex numbers*\n",
    "\n",
    "You can convert from one type to another (when it makes sense) with a function named after the type: `int()`, `float()`, `str()`.\n"
   ]
  },
  {
   "cell_type": "markdown",
   "metadata": {},
   "source": [
    "1. We can add **comments** to explain what we do  (`# ...`)\n",
    "2. **Variables** are used to store and re-use values (`some_name = ... `)\n",
    "3. We can show values, messages, variables with `print(...)`\n"
   ]
  },
  {
   "cell_type": "code",
   "execution_count": null,
   "metadata": {},
   "outputs": [],
   "source": [
    "print( int(1234.5678) )  # we can add spaces around parentheses if we want\n",
    "print( float(123) )\n",
    "# adding a string representation of the numbers to \"concatenate\" them\n",
    "# (i.e. add the second one after the end of the first one) rather than adding the number\n",
    "print( str(123) + str(456) )"
   ]
  },
  {
   "cell_type": "markdown",
   "metadata": {},
   "source": [
    "## Core Knowledge from Session #2"
   ]
  },
  {
   "cell_type": "markdown",
   "metadata": {},
   "source": [
    "### Functions and f-strings\n",
    "\n",
    "1. We can create **functions** when we want to re-use the same code several times with only small variations (`def name_of_my_function( ... )`)\n",
    "2. We can insert code and variables into \"strings\" (i.e. text) with the powerful **f-string** (`f\"value={variable}\"`)"
   ]
  },
  {
   "cell_type": "code",
   "execution_count": 13,
   "metadata": {},
   "outputs": [
    {
     "name": "stdout",
     "output_type": "stream",
     "text": [
      "Hello\n",
      "Jeff\n",
      "Bye bye\n"
     ]
    }
   ],
   "source": [
    "def hello(name):\n",
    "    \"\"\"Greet the person\"\"\"  # docstring\n",
    "    # this is a comment\n",
    "\n",
    "    print(\"Hello\")\n",
    "    print(name)\n",
    "    \n",
    "print(\"Bye bye\")\n",
    "\n",
    "    # return\n",
    "\n",
    "hello(\"Jeff\")\n"
   ]
  },
  {
   "cell_type": "markdown",
   "metadata": {},
   "source": [
    "We can display the help on a function with `help`.\n",
    "\n",
    "This will show:\n",
    "\n",
    "* The name of the function\n",
    "* The different arguments (if any)\n",
    "* The \"docstring\" that explains what the function does and how to use it (if there is one)\n",
    "\n",
    "The **doctstring** is a string just after the function, usually using triple double quotes `\"\"\"`."
   ]
  },
  {
   "cell_type": "code",
   "execution_count": 8,
   "metadata": {},
   "outputs": [
    {
     "name": "stdout",
     "output_type": "stream",
     "text": [
      "Help on function hello in module __main__:\n",
      "\n",
      "hello(name)\n",
      "    Greet the person\n",
      "\n"
     ]
    }
   ],
   "source": [
    "help(hello)"
   ]
  },
  {
   "cell_type": "markdown",
   "metadata": {},
   "source": [
    "The **f-string** is a very simple yet powerful feature of Python: you can easily add values from variables (or even running code) and display the result directly in a string.\n",
    "\n",
    "The syntax is:\n",
    "* Add a `f` before the quotes for the string: `f\"....\"`\n",
    "* Inside this f-string, add curly brackets to \"run\" some code: `f\"...{ some code to run }...\"`"
   ]
  },
  {
   "cell_type": "code",
   "execution_count": 41,
   "metadata": {},
   "outputs": [
    {
     "name": "stdout",
     "output_type": "stream",
     "text": [
      "Hello Jeff\n",
      "Hello {name}\n",
      "Hello JeffJeff\n"
     ]
    }
   ],
   "source": [
    "name = \"Jeff\"\n",
    "print(f\"Hello {name}\")  # f-string => it will replace {name} by \"Jeff\"\n",
    "print(\"Hello {name}\")  # NOT f-string => it will show \"Hello {name}\"\n",
    "print(f\"Hello {name * 2}\")  # we can add code in the string: it will replace {name} by JeffJeff"
   ]
  },
  {
   "cell_type": "code",
   "execution_count": 23,
   "metadata": {},
   "outputs": [
    {
     "name": "stdout",
     "output_type": "stream",
     "text": [
      "Hi!\n",
      "Hello me\n",
      "Hello You!\n",
      "Hello world\n"
     ]
    }
   ],
   "source": [
    "def hello(name):  # [4] define a function with a parameter \"name\"\n",
    "    \"\"\"Say hello to someone\"\"\"\n",
    "    print(f\"Hello {name}\")  # [5] using f-string to print a string with the value of \"name\"\n",
    "    return None\n",
    "\n",
    "\n",
    "print(\"Hi!\")  # [3] print a message in output of the cell\n",
    "hello(\"me\")  # [4] call the function and print \"Hello me!\"\n",
    "\n",
    "you = \"You!\"  # [2] define a variable\n",
    "hello(you)  # [2] use the variable and print \"Hello You!\"\n"
   ]
  },
  {
   "cell_type": "markdown",
   "metadata": {},
   "source": [
    "A function can have default values: we just need to provide a value after the name of argument at the beginning of the function:\n",
    "`<argument> = <default value>`\n",
    "\n",
    "When calling the function, we:\n",
    "\n",
    "1. Need to specify one value for each argument that does not have a default value\n",
    "2. Can specify a value for argument with a default value (if we don't, the default value is used)\n",
    "\n",
    "NOTE that the values are assigned to the arguments in the order they are specified. So for example, if we specify a function `def my_function(arg1, arg2, arg3)` and call it with `my_function(1, 2, 3)` then we have `arg1` = `1`, `arg2` = `2`, and `arg3` = `3`."
   ]
  },
  {
   "cell_type": "code",
   "execution_count": 42,
   "metadata": {},
   "outputs": [
    {
     "name": "stdout",
     "output_type": "stream",
     "text": [
      "7\n",
      "11\n"
     ]
    }
   ],
   "source": [
    "def increment(value, incr=1):\n",
    "    \"\"\"Increments a value (default to 1)\"\"\"\n",
    "    return value + incr\n",
    "\n",
    "print(increment(5, 2))\n",
    "print(increment(10))"
   ]
  },
  {
   "cell_type": "code",
   "execution_count": 39,
   "metadata": {},
   "outputs": [
    {
     "name": "stdout",
     "output_type": "stream",
     "text": [
      "10000\n",
      "The surface is 400 cm2\n"
     ]
    }
   ],
   "source": [
    "def rectangle_surface(x1=0, y1=0, x2=100, y2=100):\n",
    "    \"\"\"Compute the surface of a rectangle\n",
    "\n",
    "    Args:\n",
    "        x1: x-coordinate of bottom left\n",
    "        ...\n",
    "    \"\"\"\n",
    "    return (x2 - x1) * (y2 - y1)\n",
    "\n",
    "\n",
    "print(rectangle_surface(0, 0))\n",
    "\n",
    "surface = rectangle_surface(10, 20, 30, 40)\n",
    "print(f\"The surface is {surface} cm2\")\n"
   ]
  },
  {
   "cell_type": "markdown",
   "metadata": {},
   "source": [
    "We can also use the name of arguments to specify the values (in which case, the order of arguments does not matter). This is also a way to use default values of some arguments but not others."
   ]
  },
  {
   "cell_type": "code",
   "execution_count": 50,
   "metadata": {},
   "outputs": [
    {
     "name": "stdout",
     "output_type": "stream",
     "text": [
      "100\n",
      "25\n",
      "50\n"
     ]
    }
   ],
   "source": [
    "print(rectangle_surface(x2=10, y2=10))  # We use default values of x1 and y1\n",
    "print(rectangle_surface(x2=10, y2=10, x1=5, y1=5))  # We don't need to preserve the order of the arguments\n",
    "\n",
    "# We can even mix values provided using order and provided using name\n",
    "print(rectangle_surface(5, x2=10, y2=10))  # x1=5, and we use default values of y1\n"
   ]
  },
  {
   "cell_type": "code",
   "execution_count": 38,
   "metadata": {},
   "outputs": [
    {
     "name": "stdout",
     "output_type": "stream",
     "text": [
      "I do nothing\n",
      "Toto\n"
     ]
    }
   ],
   "source": [
    "def do_nothing():\n",
    "    print(\"I do nothing\")\n",
    "    return \"Toto\"\n",
    "\n",
    "print(do_nothing())"
   ]
  },
  {
   "cell_type": "markdown",
   "metadata": {},
   "source": [
    "⚡Common Pitfalls while writing a function:\n",
    "\n",
    "1. Don't forget the `def` and the parentheses\n",
    "2. Don't forget the `:` after the parentheses\n",
    "3. Don't forget to correctly indent the implementation of the function\n",
    "4. ... and to help you (and potential users) remember what this does, put a clear **docstring**"
   ]
  },
  {
   "cell_type": "markdown",
   "metadata": {},
   "source": [
    "**🙋QUESTION: What is the difference between comments and a docstring?**"
   ]
  },
  {
   "cell_type": "markdown",
   "metadata": {},
   "source": [
    "# Practice"
   ]
  },
  {
   "cell_type": "markdown",
   "metadata": {},
   "source": [
    "## Session 1 (WARMUP)\n",
    "\n",
    "* \"Say Hello World\": https://www.hackerrank.com/challenges/py-hello-world/problem\n",
    "* \"Arithmetic Operations\": https://www.hackerrank.com/challenges/python-arithmetic-operators/problem\n"
   ]
  },
  {
   "cell_type": "markdown",
   "metadata": {},
   "source": [
    "## Session 2 (Functions)\n",
    "\n",
    "* \"What's your name\": https://www.hackerrank.com/challenges/whats-your-name/problem\n",
    "* \"Python: Division\" **WHILE USING A FUNCTION**: https://www.hackerrank.com/challenges/python-division/problem"
   ]
  },
  {
   "cell_type": "markdown",
   "metadata": {},
   "source": [
    "# Assignments"
   ]
  },
  {
   "cell_type": "markdown",
   "metadata": {},
   "source": [
    "## Prepare for Session #2"
   ]
  },
  {
   "cell_type": "markdown",
   "metadata": {},
   "source": [
    "1. Create a Kaggle account if you have not done it yet (https://www.kaggle.com/account/login?phase=startRegisterTab)\n",
    "2. Create a HackeRank account if you have not done it yet -- for the coding challenges (https://www.hackerrank.com/auth/signup)\n",
    "3. Do the practice of Hello World in Kaggle [this should not be very long and it's just to review what you just learned] : https://www.kaggle.com/jeffkag/exercise-syntax-variables-and-numbers/edit\n",
    "4\n",
    "6. [OPTIONAL] You can try another HackerRank challenge if you have extra time about divisions: https://www.hackerrank.com/challenges/python-division/problem"
   ]
  },
  {
   "cell_type": "markdown",
   "metadata": {},
   "source": [
    "## Prepare for Session #3\n",
    "\n",
    "1. Finish homework for Session #2 if not finished\n",
    "2. Read lesson #3 about booleans and logics: https://www.kaggle.com/colinmorris/booleans-and-conditionals\n",
    "3. Do the practice of lesson #3: [https://www.kaggle.com/kernels/fork/1275158](https://www.kaggle.com/kernels/fork/1275165)\n",
    "\n",
    "Note:\n",
    "* In Kaggle practice, the little 🌶️ represent difficult challenges. Don't hesitate to ask for help if needed. And share some tips with others if you have figured it out and they have not.\n",
    "* The last Optional 🌶️ Challenge (Black Jack) is quite challenging and optional.\n"
   ]
  },
  {
   "cell_type": "markdown",
   "metadata": {},
   "source": [
    "# THE END 🔚"
   ]
  },
  {
   "cell_type": "markdown",
   "metadata": {},
   "source": [
    "## Any question? 😴😕😱😮🧐😵🤔😷"
   ]
  }
 ],
 "metadata": {
  "interpreter": {
   "hash": "697eb383d1660011c7748e9fbfe727a5dcacfec6a464ebd1b9e634c07186009d"
  },
  "kernelspec": {
   "display_name": "Python 3 (ipykernel)",
   "language": "python",
   "name": "python3"
  },
  "language_info": {
   "codemirror_mode": {
    "name": "ipython",
    "version": 3
   },
   "file_extension": ".py",
   "mimetype": "text/x-python",
   "name": "python",
   "nbconvert_exporter": "python",
   "pygments_lexer": "ipython3",
   "version": "3.9.6"
  },
  "toc": {
   "base_numbering": 1,
   "nav_menu": {},
   "number_sections": true,
   "sideBar": true,
   "skip_h1_title": false,
   "title_cell": "Table of Contents",
   "title_sidebar": "Contents",
   "toc_cell": false,
   "toc_position": {
    "height": "calc(100% - 180px)",
    "left": "10px",
    "top": "150px",
    "width": "165px"
   },
   "toc_section_display": true,
   "toc_window_display": false
  }
 },
 "nbformat": 4,
 "nbformat_minor": 2
}

{
 "cells": [
  {
   "cell_type": "markdown",
   "metadata": {},
   "source": [
    "# 🐍Python Bootcamp PY101 #2\n",
    "\n",
    "---"
   ]
  },
  {
   "cell_type": "markdown",
   "metadata": {},
   "source": [
    "*Click on the \"launch binder\" button to launch a session where you can run the notebook.*\n",
    "\n",
    "[![Binder](https://mybinder.org/badge_logo.svg)](https://mybinder.org/v2/gh/unpackAI/PY101/HEAD?labpath=Summary%2FPython_Content.ipynb)"
   ]
  },
  {
   "cell_type": "markdown",
   "metadata": {},
   "source": [
    "# Summary of what we learned"
   ]
  },
  {
   "cell_type": "markdown",
   "metadata": {},
   "source": [
    "## Core Knowledge from Session #1"
   ]
  },
  {
   "cell_type": "markdown",
   "metadata": {},
   "source": [
    "### 📓Jupyter\n",
    "\n",
    "\n",
    "Jupyter is a kind of application that allows editing and running notebook documents via a web browser.\n",
    "\n",
    "**Kaggle** notebooks are based on Jupyter.\n",
    "\n",
    "\n",
    "**Jupyter Notebooks** (extension `.ipynb`):\n",
    "\n",
    "* Notebook-based code editor\n",
    "* Usually run in web browser (but can run in IDE like Visual Studio Code)\n",
    "* Mix code + text + visualization (graphs, tables, pictures, etc.)\n",
    "* Useful when doing research / exploration (e.g. data science)\n",
    "\n",
    "What you are currently look at is a Jupyter Notebook"
   ]
  },
  {
   "cell_type": "markdown",
   "metadata": {},
   "source": [
    "A notebook is composed of 3 types of elements:\n",
    "\n",
    "* **cells of text** in Markdown language (like this block of text)\n",
    "* **cells of Python code** (like what is below)\n",
    "* **results of code cells** (the result of running the code)"
   ]
  },
  {
   "cell_type": "code",
   "execution_count": 1,
   "metadata": {},
   "outputs": [
    {
     "data": {
      "text/plain": [
       "15"
      ]
     },
     "execution_count": 1,
     "metadata": {},
     "output_type": "execute_result"
    }
   ],
   "source": [
    "variable = 10\n",
    "variable + 5"
   ]
  },
  {
   "cell_type": "markdown",
   "metadata": {},
   "source": [
    "Jupyter will display the value of the element in the last line of code ... for example:"
   ]
  },
  {
   "cell_type": "code",
   "execution_count": 2,
   "metadata": {},
   "outputs": [
    {
     "data": {
      "text/plain": [
       "'Hello You!'"
      ]
     },
     "execution_count": 2,
     "metadata": {},
     "output_type": "execute_result"
    }
   ],
   "source": [
    "\"Hello \" + \"You!\""
   ]
  },
  {
   "cell_type": "markdown",
   "metadata": {},
   "source": [
    "It can also remember values between cells"
   ]
  },
  {
   "cell_type": "code",
   "execution_count": 5,
   "metadata": {},
   "outputs": [
    {
     "name": "stdout",
     "output_type": "stream",
     "text": [
      "20\n"
     ]
    }
   ],
   "source": [
    "print(variable)"
   ]
  },
  {
   "cell_type": "markdown",
   "metadata": {},
   "source": [
    "You can \"run\" cells with code (i.e. execute the code) in different ways:\n",
    "\n",
    "* Click on the \"Play\" icon ▶️ (top left of cell in VS Code ... or in the toolbar in Jupyter)\n",
    "* <kbd>Shift</kbd> + <kbd>ENTER</kbd> to run the cell and move to the next cell\n",
    "* <kbd>Ctrl</kbd> + <kbd>ENTER</kbd> (<kbd>Cmd</kbd> + <kbd>ENTER</kbd> on Mac) to just run the cell\n"
   ]
  },
  {
   "cell_type": "markdown",
   "metadata": {},
   "source": [
    "### 📑Python Basics\n"
   ]
  },
  {
   "cell_type": "markdown",
   "metadata": {},
   "source": [
    "Basic types of data:\n",
    "\n",
    "* integers: numbers without fractional part (e.g. `-5`, `0`, `10`)\n",
    "* floats: numbers with a fractional part (e.g. `3.14`, `123.456`)\n",
    "* strings: equivalent of text (e.g. `Python is awesome`)\n",
    "\n",
    "*Note: There is another type we will see later: `bool`. Python also supports also complex numbers*\n",
    "\n",
    "You can convert from one type to another (when it makes sense) with a function named after the type: `int()`, `float()`, `str()`.\n"
   ]
  },
  {
   "cell_type": "markdown",
   "metadata": {},
   "source": [
    "1. We can add **comments** to explain what we do  (`# ...`)\n",
    "2. **Variables** are used to store and re-use values (`some_name = ... `)\n",
    "3. We can show values, messages, variables with `print(...)`\n"
   ]
  },
  {
   "cell_type": "code",
   "execution_count": null,
   "metadata": {},
   "outputs": [],
   "source": [
    "print( int(1234.5678) )  # we can add spaces around parentheses if we want\n",
    "print( float(123) )\n",
    "# adding a string representation of the numbers to \"concatenate\" them\n",
    "# (i.e. add the second one after the end of the first one) rather than adding the number\n",
    "print( str(123) + str(456) )"
   ]
  },
  {
   "cell_type": "markdown",
   "metadata": {},
   "source": [
    "## Core Knowledge from Session #2"
   ]
  },
  {
   "cell_type": "markdown",
   "metadata": {},
   "source": [
    "### Functions and f-strings\n",
    "\n",
    "1. We can create **functions** when we want to re-use the same code several times with only small variations (`def name_of_my_function( ... )`)\n",
    "2. We can insert code and variables into \"strings\" (i.e. text) with the powerful **f-string** (`f\"value={variable}\"`)"
   ]
  },
  {
   "cell_type": "code",
   "execution_count": 13,
   "metadata": {},
   "outputs": [
    {
     "name": "stdout",
     "output_type": "stream",
     "text": [
      "Hello\n",
      "Jeff\n",
      "Bye bye\n"
     ]
    }
   ],
   "source": [
    "def hello(name):\n",
    "    \"\"\"Greet the person\"\"\"  # docstring\n",
    "    # this is a comment\n",
    "\n",
    "    print(\"Hello\")\n",
    "    print(name)\n",
    "    \n",
    "print(\"Bye bye\")\n",
    "\n",
    "    # return\n",
    "\n",
    "hello(\"Jeff\")\n"
   ]
  },
  {
   "cell_type": "markdown",
   "metadata": {},
   "source": [
    "We can display the help on a function with `help`.\n",
    "\n",
    "This will show:\n",
    "\n",
    "* The name of the function\n",
    "* The different arguments (if any)\n",
    "* The \"docstring\" that explains what the function does and how to use it (if there is one)\n",
    "\n",
    "The **doctstring** is a string just after the function, usually using triple double quotes `\"\"\"`."
   ]
  },
  {
   "cell_type": "code",
   "execution_count": 8,
   "metadata": {},
   "outputs": [
    {
     "name": "stdout",
     "output_type": "stream",
     "text": [
      "Help on function hello in module __main__:\n",
      "\n",
      "hello(name)\n",
      "    Greet the person\n",
      "\n"
     ]
    }
   ],
   "source": [
    "help(hello)"
   ]
  },
  {
   "cell_type": "markdown",
   "metadata": {},
   "source": [
    "The **f-string** is a very simple yet powerful feature of Python: you can easily add values from variables (or even running code) and display the result directly in a string.\n",
    "\n",
    "The syntax is:\n",
    "* Add a `f` before the quotes for the string: `f\"....\"`\n",
    "* Inside this f-string, add curly brackets to \"run\" some code: `f\"...{ some code to run }...\"`"
   ]
  },
  {
   "cell_type": "code",
   "execution_count": 41,
   "metadata": {},
   "outputs": [
    {
     "name": "stdout",
     "output_type": "stream",
     "text": [
      "Hello Jeff\n",
      "Hello {name}\n",
      "Hello JeffJeff\n"
     ]
    }
   ],
   "source": [
    "name = \"Jeff\"\n",
    "print(f\"Hello {name}\")  # f-string => it will replace {name} by \"Jeff\"\n",
    "print(\"Hello {name}\")  # NOT f-string => it will show \"Hello {name}\"\n",
    "print(f\"Hello {name * 2}\")  # we can add code in the string: it will replace {name} by JeffJeff"
   ]
  },
  {
   "cell_type": "code",
   "execution_count": 23,
   "metadata": {},
   "outputs": [
    {
     "name": "stdout",
     "output_type": "stream",
     "text": [
      "Hi!\n",
      "Hello me\n",
      "Hello You!\n",
      "Hello world\n"
     ]
    }
   ],
   "source": [
    "def hello(name):  # [4] define a function with a parameter \"name\"\n",
    "    \"\"\"Say hello to someone\"\"\"\n",
    "    print(f\"Hello {name}\")  # [5] using f-string to print a string with the value of \"name\"\n",
    "    return None\n",
    "\n",
    "\n",
    "print(\"Hi!\")  # [3] print a message in output of the cell\n",
    "hello(\"me\")  # [4] call the function and print \"Hello me!\"\n",
    "\n",
    "you = \"You!\"  # [2] define a variable\n",
    "hello(you)  # [2] use the variable and print \"Hello You!\"\n"
   ]
  },
  {
   "cell_type": "markdown",
   "metadata": {},
   "source": [
    "A function can have default values: we just need to provide a value after the name of argument at the beginning of the function:\n",
    "`<argument> = <default value>`\n",
    "\n",
    "When calling the function, we:\n",
    "\n",
    "1. Need to specify one value for each argument that does not have a default value\n",
    "2. Can specify a value for argument with a default value (if we don't, the default value is used)\n",
    "\n",
    "NOTE that the values are assigned to the arguments in the order they are specified. So for example, if we specify a function `def my_function(arg1, arg2, arg3)` and call it with `my_function(1, 2, 3)` then we have `arg1` = `1`, `arg2` = `2`, and `arg3` = `3`."
   ]
  },
  {
   "cell_type": "markdown",
   "metadata": {},
   "source": [
    "You can use `return` to return data that can be used later in the program, and for example to save it in a variable"
   ]
  },
  {
   "cell_type": "code",
   "execution_count": 42,
   "metadata": {},
   "outputs": [
    {
     "name": "stdout",
     "output_type": "stream",
     "text": [
      "7\n",
      "11\n"
     ]
    }
   ],
   "source": [
    "def increment(value, incr=1):\n",
    "    \"\"\"Increments a value (default to 1)\"\"\"\n",
    "    return value + incr\n",
    "\n",
    "print(increment(5, 2))\n",
    "print(increment(10))"
   ]
  },
  {
   "cell_type": "code",
   "execution_count": 39,
   "metadata": {},
   "outputs": [
    {
     "name": "stdout",
     "output_type": "stream",
     "text": [
      "10000\n",
      "The surface is 400 cm2\n"
     ]
    }
   ],
   "source": [
    "def rectangle_surface(x1=0, y1=0, x2=100, y2=100):\n",
    "    \"\"\"Compute the surface of a rectangle\n",
    "\n",
    "    Args:\n",
    "        x1: x-coordinate of bottom left\n",
    "        ...\n",
    "    \"\"\"\n",
    "    return (x2 - x1) * (y2 - y1)\n",
    "\n",
    "\n",
    "print(rectangle_surface(0, 0))\n",
    "\n",
    "surface = rectangle_surface(10, 20, 30, 40)\n",
    "print(f\"The surface is {surface} cm2\")\n"
   ]
  },
  {
   "cell_type": "markdown",
   "metadata": {},
   "source": [
    "We can also use the name of arguments to specify the values (in which case, the order of arguments does not matter). This is also a way to use default values of some arguments but not others."
   ]
  },
  {
   "cell_type": "code",
   "execution_count": 50,
   "metadata": {},
   "outputs": [
    {
     "name": "stdout",
     "output_type": "stream",
     "text": [
      "100\n",
      "25\n",
      "50\n"
     ]
    }
   ],
   "source": [
    "print(rectangle_surface(x2=10, y2=10))  # We use default values of x1 and y1\n",
    "print(rectangle_surface(x2=10, y2=10, x1=5, y1=5))  # We don't need to preserve the order of the arguments\n",
    "\n",
    "# We can even mix values provided using order and provided using name\n",
    "print(rectangle_surface(5, x2=10, y2=10))  # x1=5, and we use default values of y1\n"
   ]
  },
  {
   "cell_type": "markdown",
   "metadata": {},
   "source": [
    "After a `return`, the function will stop (we say \"exit\") and any code inside the function after the `return` will not be executed.\n"
   ]
  },
  {
   "cell_type": "code",
   "execution_count": 52,
   "metadata": {},
   "outputs": [
    {
     "name": "stdout",
     "output_type": "stream",
     "text": [
      "I do nothing\n"
     ]
    }
   ],
   "source": [
    "def do_nothing():\n",
    "    print(\"I do nothing\")\n",
    "    return\n",
    "    print(\"This will not be shown because of the return before\")\n",
    "\n",
    "do_nothing()\n"
   ]
  },
  {
   "cell_type": "markdown",
   "metadata": {},
   "source": [
    "Also, you can do a `return` without any value: in that case, it will return `None` (which corresponds to a null value, a \"nothing\").\n",
    "\n",
    "If you have no `return`, it is considered to return a `None`, so the three functions are equivalent:\n",
    "\n",
    "```python\n",
    "def do_nothing_1():\n",
    "    print(\"I do nothing\")\n",
    "\n",
    "def do_nothing_2():\n",
    "    print(\"I do nothing\")\n",
    "    return\n",
    "\n",
    "def do_nothing_3():\n",
    "    print(\"I do nothing\")\n",
    "    return None\n",
    "```"
   ]
  },
  {
   "cell_type": "markdown",
   "metadata": {},
   "source": [
    "Be careful NOT to print a function that returns nothing, otherwise you will have \"None\" displayed on your screen"
   ]
  },
  {
   "cell_type": "code",
   "execution_count": 53,
   "metadata": {},
   "outputs": [
    {
     "name": "stdout",
     "output_type": "stream",
     "text": [
      "I do nothing\n",
      "None\n"
     ]
    }
   ],
   "source": [
    "print(do_nothing())"
   ]
  },
  {
   "cell_type": "markdown",
   "metadata": {},
   "source": [
    "⚡Common Pitfalls while writing a function:\n",
    "\n",
    "1. Don't forget the `def` and the parentheses\n",
    "2. Don't forget the `:` after the parentheses\n",
    "3. Don't forget to **correctly indent the implementation of the function**\n",
    "4. If you want to reuse data processed by the function, don't forget to add a `return`\n",
    "5. ... and to help you (and potential users) remember what this does, put a clear **docstring**\n",
    "\n",
    "Indentation in python is KEY!!\n",
    "\n",
    "1. Add a level of indentation when you enter a function\n",
    "2. Decrease a level of indentation when you are outside the function\n",
    "\n",
    "```python\n",
    "def my_function():\n",
    "    # +1 level = inside the function\n",
    "    print(\"inside the function\")\n",
    "\n",
    "# -1 level = outside the function\n",
    "print(\"outside the function\")\n",
    "```"
   ]
  },
  {
   "cell_type": "markdown",
   "metadata": {},
   "source": [
    "**🙋QUESTION: What is the difference between comments and a docstring?**\n",
    "\n",
    "The purpose is different:\n",
    "* `docstring` is for the USER to know what the function is doing and how to use it\n",
    "* comments are for the DEVELOPER (you or anyone else who will modify your code) by explaining why you made certain choices in your program and, if the logic is not trivial, the logic of your function.\n",
    "\n"
   ]
  },
  {
   "cell_type": "markdown",
   "metadata": {},
   "source": [
    "**🙋QUESTION: In a function, when to use `print` and when to use `return`?**\n",
    "\n",
    "The purpose is not the same:\n",
    "* `print` is used to display information (what is displayed cannot be used by the program)\n",
    "* `return` is ... well ... returning data that has been computed by the function, so it can be used later in the program\n",
    "\n",
    "So simply put: `print` is for the user to see, `return` is for the program to use.\n",
    "\n",
    "Examples of usage of `print`:\n",
    "* Let the user know what the program is doing (e.g. \"Starting to download file xxx\")\n",
    "* Let the user know what the program has found (e.g. \"Found 5 articles matching your search\")\n",
    "* Warn the user (e.g. \"WARNING: Nothing found, please check you have done ....\")\n",
    "\n",
    "Examples of usage of `return`:\n",
    "* Returning content of a file (or data from an Excel file)\n",
    "* Returning a complex computation (e.g. surface of a sphere)\n",
    "* Returning all the products on Amazon matching your search criterion"
   ]
  },
  {
   "cell_type": "markdown",
   "metadata": {},
   "source": [
    "**🙋QUESTION: Shall I use tab or spaces for indentation?**\n",
    "\n",
    "Technically, any indentation is possible as long as it is consistent within your program. It could be a tab, 2 spaces, 4 spaces.\n",
    "\n",
    "The convention that is spread among Python developers is to use **4 spaces**.\n",
    "\n",
    "Note that in Kaggle and most IDE (i.e. programs to help you write code), pressing the <kbd>TAB</kbd> key will add 4 spaces when you write Python.\n",
    "\n",
    "💡TIP: you can also press <kbd>SHIFT</kbd> + <kbd>TAB</kbd> to decrease the increment of a line (i.e. removing 4 spaces)."
   ]
  },
  {
   "cell_type": "markdown",
   "metadata": {},
   "source": [
    "## Core Knowledge from Session #3: If blocks and Booleans"
   ]
  },
  {
   "cell_type": "markdown",
   "metadata": {},
   "source": [
    "### Bool"
   ]
  },
  {
   "cell_type": "markdown",
   "metadata": {},
   "source": [
    "Different type of data\n",
    "\n",
    "* integers: `1`\n",
    "* floats: `123.45`\n",
    "* strings: `\"I am Jeff\"`\n",
    "* bool: `True` and `False`  => binary status which is the base of the logic"
   ]
  },
  {
   "cell_type": "code",
   "execution_count": 31,
   "metadata": {},
   "outputs": [
    {
     "name": "stdout",
     "output_type": "stream",
     "text": [
      "Condition is True\n"
     ]
    }
   ],
   "source": [
    "condition = True\n",
    "print(f\"Condition is {condition}\")"
   ]
  },
  {
   "cell_type": "markdown",
   "metadata": {},
   "source": [
    "We can negate a boolean with `not` (True becomes False, and vice versa)"
   ]
  },
  {
   "cell_type": "code",
   "execution_count": 32,
   "metadata": {},
   "outputs": [
    {
     "data": {
      "text/plain": [
       "False"
      ]
     },
     "execution_count": 32,
     "metadata": {},
     "output_type": "execute_result"
    }
   ],
   "source": [
    "not condition"
   ]
  },
  {
   "cell_type": "markdown",
   "metadata": {},
   "source": [
    "The result of a comparison is a boolean (note: same in Excel).\n",
    "\n",
    "The following comparisons are available:\n",
    "\n",
    "* `<` : strictly smaller than\n",
    "* `>` : strictly bigger than\n",
    "* `==` : 👈 equal to  (remember that `=` is used to store a value and `==` is for comparison!)\n",
    "* `!=` : 👈 different / not equal to\n",
    "* `<=` : smaller than or equal to\n",
    "* `>=` : bigger than or equal to\n",
    "\n",
    "If you are familiar with Excel, the equal / not equal are different but the rest is the same."
   ]
  },
  {
   "cell_type": "code",
   "execution_count": 34,
   "metadata": {},
   "outputs": [
    {
     "data": {
      "text/plain": [
       "True"
      ]
     },
     "execution_count": 34,
     "metadata": {},
     "output_type": "execute_result"
    }
   ],
   "source": [
    "var = 5  # We store value, not compare!!\n",
    "var > 3"
   ]
  },
  {
   "cell_type": "code",
   "execution_count": 3,
   "metadata": {},
   "outputs": [
    {
     "name": "stdout",
     "output_type": "stream",
     "text": [
      "Is bigger: True\n"
     ]
    }
   ],
   "source": [
    "is_bigger = var > 3\n",
    "print(f\"Is bigger: {is_bigger}\")"
   ]
  },
  {
   "cell_type": "markdown",
   "metadata": {},
   "source": [
    "We can combine logics with `or` and `and`.\n",
    "\n",
    "* `or`: at least one condition is true (1 True => everything is True)\n",
    "* `and`: both conditions need to be true (1 False => everything is False)\n",
    "\n",
    "We usually group the conditions with parentheses."
   ]
  },
  {
   "cell_type": "code",
   "execution_count": 38,
   "metadata": {},
   "outputs": [
    {
     "name": "stdout",
     "output_type": "stream",
     "text": [
      "True\n",
      "False\n",
      "False\n",
      "True\n",
      "True\n",
      "False\n"
     ]
    }
   ],
   "source": [
    "print(True and True)  # True - need everything to be True to have `and` True\n",
    "print(True and False)  # False\n",
    "print(False and False) # False\n",
    "\n",
    "print(True or True)  # True\n",
    "print(True or False)  # True\n",
    "print(False or False)  # False - need everything to be False to have `or` False"
   ]
  },
  {
   "cell_type": "markdown",
   "metadata": {},
   "source": [
    "### If: adding logic to your program"
   ]
  },
  {
   "cell_type": "markdown",
   "metadata": {},
   "source": [
    "The syntax is the following:\n",
    "\n",
    "```python\n",
    "if <condition>:\n",
    "    <code when condition in \"if\" is True>\n",
    "else:\n",
    "    <code when condition in \"if\" is False>\n",
    "```\n",
    "\n",
    "The `else` is actually optional: in that case, you don't run any code if the condition in `if` is not True.\n"
   ]
  },
  {
   "cell_type": "code",
   "execution_count": 10,
   "metadata": {},
   "outputs": [
    {
     "name": "stdout",
     "output_type": "stream",
     "text": [
      "It is smaller\n"
     ]
    }
   ],
   "source": [
    "var =1\n",
    "if var > 3:  # we use \":\" just like for functions\n",
    "    print(\"It is bigger\")  # the code is indented just like for functions\n",
    "    print(\"and not smaller\")\n",
    "else:  # when all the other conditions are false\n",
    "    print(\"It is smaller\")"
   ]
  },
  {
   "cell_type": "markdown",
   "metadata": {},
   "source": [
    "`elif` enables you to add some other conditions (it's optional).\n",
    "\n",
    "Note that you can have several `elif`.\n"
   ]
  },
  {
   "cell_type": "code",
   "execution_count": 15,
   "metadata": {},
   "outputs": [
    {
     "name": "stdout",
     "output_type": "stream",
     "text": [
      "It is negative\n",
      "After checking the conditions\n"
     ]
    }
   ],
   "source": [
    "var = -1\n",
    "\n",
    "if var > 0:\n",
    "    print(\"It is positive\")\n",
    "elif var == 0:\n",
    "    print(\"it is zero\")\n",
    "else:  # default condition\n",
    "    print(\"It is negative\")\n",
    "\n",
    "# after checking the conditions, we will land here\n",
    "print(\"After checking the conditions\")"
   ]
  },
  {
   "cell_type": "markdown",
   "metadata": {},
   "source": [
    "👆**IMPORTANT**! The condition in the `elif` is checked ONLY if the condition in the `if` (or previous `elif`) are False."
   ]
  },
  {
   "cell_type": "code",
   "execution_count": 40,
   "metadata": {},
   "outputs": [
    {
     "name": "stdout",
     "output_type": "stream",
     "text": [
      "Between 11 and 20\n"
     ]
    }
   ],
   "source": [
    "var = 20\n",
    "\n",
    "if var <= 10:\n",
    "    print(\"Smaller or equal to 10\")\n",
    "elif var <= 20:\n",
    "    print(\"Between 11 and 20\")\n",
    "elif var <= 30:\n",
    "    print(\"Between 21 and 30\")\n",
    "else:\n",
    "    print(\"Strictly bigger than 30\")\n"
   ]
  },
  {
   "cell_type": "markdown",
   "metadata": {},
   "source": [
    "By the way, you don't necessarily need to put an `else`"
   ]
  },
  {
   "cell_type": "code",
   "execution_count": 16,
   "metadata": {},
   "outputs": [],
   "source": [
    "var = -1\n",
    "\n",
    "if var > 0:\n",
    "    print(\"It is positive\")\n",
    "elif var == 0:\n",
    "    print(\"it is zero\")\n",
    "\n"
   ]
  },
  {
   "cell_type": "markdown",
   "metadata": {},
   "source": [
    "Example of usage: correcting some values.\n",
    "\n",
    "Let's say we have a variable `var` with a number and we want to adjust to get only a strictly positive number:\n",
    "* if it is negative: we multiply by -1\n",
    "* if it is zero: we add 1\n",
    "* otherwise, we don't do anything"
   ]
  },
  {
   "cell_type": "code",
   "execution_count": 22,
   "metadata": {},
   "outputs": [
    {
     "name": "stdout",
     "output_type": "stream",
     "text": [
      "2\n"
     ]
    }
   ],
   "source": [
    "var = 2\n",
    "\n",
    "if var < 0:\n",
    "    var = -1 * var\n",
    "elif var == 0:\n",
    "    var = 1\n",
    "\n",
    "print(var)\n"
   ]
  },
  {
   "cell_type": "markdown",
   "metadata": {},
   "source": [
    " COMBINING COMPARISONS"
   ]
  },
  {
   "cell_type": "markdown",
   "metadata": {},
   "source": [
    "We can combine logics with `or` and `and`.\n",
    "We usually group the conditions with parentheses."
   ]
  },
  {
   "cell_type": "code",
   "execution_count": 26,
   "metadata": {},
   "outputs": [
    {
     "name": "stdout",
     "output_type": "stream",
     "text": [
      "At least one value is bigger than 0\n"
     ]
    }
   ],
   "source": [
    "var1 = 3\n",
    "var2 = -2\n",
    "\n",
    "if (var1 >= 0) or (var2 >= 0):\n",
    "    print(\"At least one value is bigger than 0\")"
   ]
  },
  {
   "cell_type": "code",
   "execution_count": 27,
   "metadata": {},
   "outputs": [
    {
     "name": "stdout",
     "output_type": "stream",
     "text": [
      "All values are different from 0\n"
     ]
    }
   ],
   "source": [
    "if (var != 0) and (var1 != 0) and (var2 != 0):\n",
    "    print(\"All values are different from 0\")"
   ]
  },
  {
   "cell_type": "markdown",
   "metadata": {},
   "source": [
    "💡 How can we check that a variable `var` is between 5 and 10?\n",
    "\n",
    "There are 2 ways, and one way is shorter and clearer than the other: we can combine like we would do in math class, i.e. \"5 ≤ var ≤ 10\" instead of \"5 ≤ var\" and \"var ≤ 10\" (note that we could also do \"10 ≥ var ≥ 5\" if you prefer but people usually prefer order from smaller to bigger)."
   ]
  },
  {
   "cell_type": "code",
   "execution_count": 24,
   "metadata": {},
   "outputs": [
    {
     "name": "stdout",
     "output_type": "stream",
     "text": [
      "It is between 5 and 10\n",
      "It is between 5 and 10\n"
     ]
    }
   ],
   "source": [
    "var = 6\n",
    "\n",
    "if (var >= 5) and (var <= 10):\n",
    "    print(\"It is between 5 and 10\")\n",
    "\n",
    "if 5 <= var <= 10:  # same as above but shorter syntax and easier to read\n",
    "    print(\"It is between 5 and 10\")"
   ]
  },
  {
   "cell_type": "markdown",
   "metadata": {},
   "source": [
    "⚡Common Pitfalls when writing conditions:\n",
    "\n",
    "1. Forgetting `:` after the condition\n",
    "2. Mistake in indentation\n",
    "3. Confusing `=` and `==`, like for example:"
   ]
  },
  {
   "cell_type": "code",
   "execution_count": 35,
   "metadata": {},
   "outputs": [
    {
     "ename": "SyntaxError",
     "evalue": "invalid syntax (Temp/ipykernel_51148/969865507.py, line 3)",
     "output_type": "error",
     "traceback": [
      "\u001b[1;36m  File \u001b[1;32m\"C:\\Users\\jthuong\\AppData\\Local\\Temp/ipykernel_51148/969865507.py\"\u001b[1;36m, line \u001b[1;32m3\u001b[0m\n\u001b[1;33m    if var = 6:\u001b[0m\n\u001b[1;37m           ^\u001b[0m\n\u001b[1;31mSyntaxError\u001b[0m\u001b[1;31m:\u001b[0m invalid syntax\n"
     ]
    }
   ],
   "source": [
    "var = 5\n",
    "\n",
    "if var = 6:  # We should use \"==\" instead of \"=\"\n",
    "    print(\"It is 6\")"
   ]
  },
  {
   "cell_type": "markdown",
   "metadata": {},
   "source": [
    "🧙‍♂️ [ADVANCED] CONDITIONAL EXPRESSION\n",
    "\n",
    "Equivalent of an `if` in a single line: this allows you to write shorted code and easier to read. If you are able to understand it, it is recommended when `value_if_true` and `value_if_false` are simple enough).\n",
    "\n",
    "```python\n",
    "<value_if_true> if <logical_test> else <value_if_false>\n",
    "```\n",
    "\n",
    "We can't have `elif` in conditional expressions... unless you combine them, but it become super ugly and hard to read (a bit like Excel formulas 🥰) ... so FOLLOWING SYNTAX IS NOT RECOMMENDED!!!\n",
    "```python\n",
    "<value_if_true> if <logical_test> else (<value_elif_true> if <logical_test_elif> else <value_if_false>)\n",
    "```"
   ]
  },
  {
   "cell_type": "code",
   "execution_count": 29,
   "metadata": {},
   "outputs": [
    {
     "data": {
      "text/plain": [
       "'positive'"
      ]
     },
     "execution_count": 29,
     "metadata": {},
     "output_type": "execute_result"
    }
   ],
   "source": [
    "var = 1\n",
    "print(\"positive\" if var > 0 else \"negative\")"
   ]
  },
  {
   "cell_type": "markdown",
   "metadata": {},
   "source": [
    "The previous code is equivalent to the following (but longer) code:"
   ]
  },
  {
   "cell_type": "code",
   "execution_count": null,
   "metadata": {},
   "outputs": [],
   "source": [
    "if var > 0:\n",
    "    print(\"positive\")\n",
    "else:\n",
    "    print(\"negative\")"
   ]
  },
  {
   "cell_type": "markdown",
   "metadata": {},
   "source": [
    "# Practice"
   ]
  },
  {
   "cell_type": "markdown",
   "metadata": {},
   "source": [
    "## Session 1 (WARMUP)\n",
    "\n",
    "* \"Say Hello World\": https://www.hackerrank.com/challenges/py-hello-world/problem\n",
    "* \"Arithmetic Operations\": https://www.hackerrank.com/challenges/python-arithmetic-operators/problem\n"
   ]
  },
  {
   "cell_type": "markdown",
   "metadata": {},
   "source": [
    "## Session 2 (Functions)\n",
    "\n",
    "* \"What's your name\": https://www.hackerrank.com/challenges/whats-your-name/problem\n",
    "* \"Python: Division\" **WHILE USING A FUNCTION**: https://www.hackerrank.com/challenges/python-division/problem"
   ]
  },
  {
   "cell_type": "markdown",
   "metadata": {},
   "source": [
    "## Session 3 (If & Bool)\n",
    "\n",
    "1. Python If-Else (E): https://www.hackerrank.com/challenges/py-if-else/problem?isFullScreen=true\n",
    "\n",
    "A first solution based on the problem:\n",
    "\n",
    "```python\n",
    "if __name__ == '__main__':\n",
    "    n = int(input().strip())\n",
    "\n",
    "    if n % 2 == 1:  # If n is odd, print Weird  [odd = modulo to 2 is not 0]\n",
    "        print(\"Weird\")\n",
    "    elif 2 <= n <= 5:  # If n is even and in the inclusive range of 2 to 5, print Not Weird\n",
    "        print(\"Not Weird\")\n",
    "    elif 6 <= n <= 20:  # If n is even and in the inclusive range of 6 to 20, print Weird\n",
    "        print(\"Weird\")\n",
    "    elif n > 20:  # If n is even and greater than 20, print Not Weird\n",
    "        print(\"Not Weird\")\n",
    "```\n",
    "\n",
    "Note that because the first condition checks whether n is odd, all other conditions don't need to check it again (because if n was odd, we would not enter into any \"elif\")\n",
    "\n",
    "💡When checking several conditions, it is good to always start by the one with biggest matches (the most general condition).\n",
    "\n",
    "\n",
    "Actually, the code could be simplified even more:\n",
    "\n",
    "```python\n",
    "if __name__ == '__main__':\n",
    "    n = int(input().strip())\n",
    "\n",
    "    # \"n % 1\" is True if it is not 0 and the values of n % 2 can only be 0 or 1\n",
    "    # => \"if n % 1 == 1\" is equivalent to \"if n % 1\"\n",
    "    if n % 2:  \n",
    "        print(\"Weird\")\n",
    "    # Because n is in range 1 ≤ n ≤ 100, and n is even, the smallest value is 2\n",
    "    # so we can remove \"2 <= n\"\n",
    "    elif n <= 5:  \n",
    "        print(\"Not Weird\")\n",
    "    # Same as before, with additional condition of n > 5 because previous \"elif\" is wrong\n",
    "    elif n <= 20:  \n",
    "        print(\"Weird\")\n",
    "    # If all previous conditions are False, this means that n > 20 => we can just use \"else\"\n",
    "    else:  \n",
    "        print(\"Not Weird\")\n",
    "```\n"
   ]
  },
  {
   "cell_type": "markdown",
   "metadata": {},
   "source": [
    "# Assignments"
   ]
  },
  {
   "cell_type": "markdown",
   "metadata": {},
   "source": [
    "## Prepare for Session #2"
   ]
  },
  {
   "cell_type": "markdown",
   "metadata": {},
   "source": [
    "1. Create a Kaggle account if you have not done it yet (https://www.kaggle.com/account/login?phase=startRegisterTab)\n",
    "2. Create a HackeRank account if you have not done it yet -- for the coding challenges (https://www.hackerrank.com/auth/signup)\n",
    "3. Do the practice of Hello World in Kaggle [this should not be very long and it's just to review what you just learned] : https://www.kaggle.com/jeffkag/exercise-syntax-variables-and-numbers/edit\n",
    "4\n",
    "6. [OPTIONAL] You can try another HackerRank challenge if you have extra time about divisions: https://www.hackerrank.com/challenges/python-division/problem"
   ]
  },
  {
   "cell_type": "markdown",
   "metadata": {},
   "source": [
    "## Prepare for Session #3\n",
    "\n",
    "1. Finish homework for Session #2 if not finished\n",
    "2. Read lesson #3 about booleans and logics: https://www.kaggle.com/colinmorris/booleans-and-conditionals\n",
    "3. Do the practice of lesson #3: https://www.kaggle.com/kernels/fork/1275165\n",
    "\n",
    "Note:\n",
    "* In Kaggle practice, the little 🌶️ represent difficult challenges. Don't hesitate to ask for help if needed. And share some tips with others if you have figured it out and they have not.\n",
    "* The last Optional 🌶️ Challenge (Black Jack) is quite challenging and optional.\n"
   ]
  },
  {
   "cell_type": "markdown",
   "metadata": {},
   "source": [
    "## Prepare for Session #4\n",
    "\n",
    "1. Finish homework for Session #3 if not finished\n",
    "2. Read lesson #4 about lists: https://www.kaggle.com/colinmorris/lists\n",
    "3. Do the practice of lesson #4: https://www.kaggle.com/kernels/fork/1275173\n",
    "4. [OPTIONAL] Hackerrank challenge that mixes functions and logic: \"Write a function (M)\" https://www.hackerrank.com/challenges/write-a-function/problem?isFullScreen=true (💡see below for some hints)\n",
    "\n",
    "\n",
    "Note:\n",
    "* In Kaggle practice, the little 🌶️ represent difficult challenges. Don't hesitate to ask for help if needed. And share some tips with others if you have figured it out and they have not.\n"
   ]
  },
  {
   "cell_type": "markdown",
   "metadata": {},
   "source": [
    "### HackerRang Challenge \"Write a function (M)\"\n",
    "\n",
    "Link: https://www.hackerrank.com/challenges/write-a-function/problem?isFullScreen=true\n",
    "\n",
    "You need to write a function `is_leap` that takes argument `year` and returns a boolean to indicate if this is a leap year or not (`True` meaning the year as argument is a leap year).\n",
    "\n",
    "\n",
    "```\n",
    "In the Gregorian calendar, three conditions are used to identify leap years:\n",
    "\n",
    "The year can be evenly divided by 4, is a leap year, unless:\n",
    "... The year can be evenly divided by 100, it is NOT a leap year, unless:\n",
    "... ... The year is also evenly divisible by 400. Then it is a leap year.\n",
    "```\n",
    "\n",
    "In other words: `is_leap(2000)` returns `True` while `is_leap(1990)` returns `False`.\n",
    "\n",
    "Good luck!!\n",
    "\n",
    "Below, there are few 💡hints you can look progressively when you feel blocked."
   ]
  },
  {
   "cell_type": "markdown",
   "metadata": {},
   "source": [
    "#### 💡 HINT #1\n",
    "\n",
    "When you have a complex problem, start by solving a simpler version and then add more complex conditions.\n",
    "\n",
    "Do the following:\n",
    "\n",
    "1. If the year can be evenly divided by 4, it is a leap year (at first, don't worry about the \"unless ...\")\n",
    "2. Then when you have solved it, add the first \"unless\" (i.e. \"unless the year can be evenly divided by 100, it is NOT a leap year\")\n",
    "3. Then when you have solved it, add the last \"unless\", which should be easier because you have already figured out how to add an \"unless\""
   ]
  },
  {
   "cell_type": "markdown",
   "metadata": {},
   "source": [
    "#### 💡 HINT #2\n",
    "\n",
    "Do not hard code all the possible years (like `if year == 2000 or year == 2200 or ...`) but rather have conditions."
   ]
  },
  {
   "cell_type": "markdown",
   "metadata": {},
   "source": [
    "#### 💡 HINT #3\n",
    "\n",
    "When you see `n can be divided by xxx`, you need to think of \"modulo\" (i.e. `n % xxx == 0`)"
   ]
  },
  {
   "cell_type": "markdown",
   "metadata": {},
   "source": [
    "#### 💡 HINT #4\n",
    "\n",
    "You should use combinations of `if` inside other `if`:\n",
    "\n",
    "```python\n",
    "\n",
    "if <condition1>:\n",
    "    if <condition2>:\n",
    "        <code 1=True,2=True>\n",
    "    else:\n",
    "        <code 1=True,2=False>\n",
    "else:\n",
    "    <code 1=False>\n",
    "```\n",
    "\n",
    "... actually, you might need more than 2 levels."
   ]
  },
  {
   "cell_type": "markdown",
   "metadata": {},
   "source": [
    "# THE END 🔚"
   ]
  },
  {
   "cell_type": "markdown",
   "metadata": {},
   "source": [
    "## Any question? 😴😕😱😮🧐😵🤔😷"
   ]
  }
 ],
 "metadata": {
  "interpreter": {
   "hash": "697eb383d1660011c7748e9fbfe727a5dcacfec6a464ebd1b9e634c07186009d"
  },
  "kernelspec": {
   "display_name": "Python 3 (ipykernel)",
   "language": "python",
   "name": "python3"
  },
  "language_info": {
   "codemirror_mode": {
    "name": "ipython",
    "version": 3
   },
   "file_extension": ".py",
   "mimetype": "text/x-python",
   "name": "python",
   "nbconvert_exporter": "python",
   "pygments_lexer": "ipython3",
   "version": "3.9.6"
  },
  "toc": {
   "base_numbering": 1,
   "nav_menu": {},
   "number_sections": true,
   "sideBar": true,
   "skip_h1_title": false,
   "title_cell": "Table of Contents",
   "title_sidebar": "Contents",
   "toc_cell": false,
   "toc_position": {
    "height": "calc(100% - 180px)",
    "left": "10px",
    "top": "150px",
    "width": "165px"
   },
   "toc_section_display": true,
   "toc_window_display": false
  }
 },
 "nbformat": 4,
 "nbformat_minor": 2
}

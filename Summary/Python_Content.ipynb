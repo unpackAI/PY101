{
 "cells": [
  {
   "cell_type": "markdown",
   "metadata": {},
   "source": [
    "# 🐍Python Bootcamp PY101 #2\n",
    "\n",
    "---"
   ]
  },
  {
   "cell_type": "markdown",
   "metadata": {},
   "source": [
    "*Click on the \"launch binder\" button to launch a session where you can run the notebook.*\n",
    "\n",
    "[![Binder](https://mybinder.org/badge_logo.svg)](https://mybinder.org/v2/gh/unpackAI/PY101/HEAD?labpath=Summary%2FPython_Content.ipynb)"
   ]
  },
  {
   "cell_type": "markdown",
   "metadata": {},
   "source": [
    "# Summary of what we learned"
   ]
  },
  {
   "cell_type": "markdown",
   "metadata": {},
   "source": [
    "## Session #1 Core Knowledge"
   ]
  },
  {
   "cell_type": "markdown",
   "metadata": {},
   "source": [
    "### 📓Jupyter\n",
    "\n",
    "\n",
    "Jupyter is a kind of application that allows editing and running notebook documents via a web browser.\n",
    "\n",
    "**Kaggle** notebooks are based on Jupyter.\n",
    "\n",
    "\n",
    "**Jupyter Notebooks** (extension `.ipynb`):\n",
    "\n",
    "* Notebook-based code editor\n",
    "* Usually run in web browser (but can run in IDE like Visual Studio Code)\n",
    "* Mix code + text + visualization (graphs, tables, pictures, etc.)\n",
    "* Useful when doing research / exploration (e.g. data science)\n",
    "\n",
    "What you are currently look at is a Jupyter Notebook"
   ]
  },
  {
   "cell_type": "markdown",
   "metadata": {},
   "source": [
    "A notebook is composed of 3 types of elements:\n",
    "\n",
    "* **cells of text** in Markdown language (like this block of text)\n",
    "* **cells of Python code** (like what is below)\n",
    "* **results of code cells** (the result of running the code)"
   ]
  },
  {
   "cell_type": "code",
   "execution_count": 1,
   "metadata": {},
   "outputs": [
    {
     "data": {
      "text/plain": [
       "15"
      ]
     },
     "execution_count": 1,
     "metadata": {},
     "output_type": "execute_result"
    }
   ],
   "source": [
    "variable = 10\n",
    "variable + 5"
   ]
  },
  {
   "cell_type": "markdown",
   "metadata": {},
   "source": [
    "Jupyter will display the value of the element in the last line of code ... for example:"
   ]
  },
  {
   "cell_type": "code",
   "execution_count": 2,
   "metadata": {},
   "outputs": [
    {
     "data": {
      "text/plain": [
       "'Hello You!'"
      ]
     },
     "execution_count": 2,
     "metadata": {},
     "output_type": "execute_result"
    }
   ],
   "source": [
    "\"Hello \" + \"You!\""
   ]
  },
  {
   "cell_type": "markdown",
   "metadata": {},
   "source": [
    "It can also remember values between cells"
   ]
  },
  {
   "cell_type": "code",
   "execution_count": 5,
   "metadata": {},
   "outputs": [
    {
     "name": "stdout",
     "output_type": "stream",
     "text": [
      "20\n"
     ]
    }
   ],
   "source": [
    "print(variable)"
   ]
  },
  {
   "cell_type": "markdown",
   "metadata": {},
   "source": [
    "You can \"run\" cells with code (i.e. execute the code) in different ways:\n",
    "\n",
    "* Click on the \"Play\" icon ▶️ (top left of cell in VS Code ... or in the toolbar in Jupyter)\n",
    "* <kbd>Shift</kbd> + <kbd>ENTER</kbd> to run the cell and move to the next cell\n",
    "* <kbd>Ctrl</kbd> + <kbd>ENTER</kbd> (<kbd>Cmd</kbd> + <kbd>ENTER</kbd> on Mac) to just run the cell\n"
   ]
  },
  {
   "cell_type": "markdown",
   "metadata": {},
   "source": [
    "### 📑Python Basics\n"
   ]
  },
  {
   "cell_type": "markdown",
   "metadata": {},
   "source": [
    "Basic types of data:\n",
    "\n",
    "* integers: numbers without fractional part (e.g. `-5`, `0`, `10`)\n",
    "* floats: numbers with a fractional part (e.g. `3.14`, `123.456`)\n",
    "* strings: equivalent of text (e.g. `Python is awesome`)\n",
    "\n",
    "*Note: There is another type we will see later: `bool`. Python also supports also complex numbers*\n",
    "\n",
    "You can convert from one type to another (when it makes sense) with a function named after the type: `int()`, `float()`, `str()`.\n"
   ]
  },
  {
   "cell_type": "markdown",
   "metadata": {},
   "source": [
    "1. We can add **comments** to explain what we do  (`# ...`)\n",
    "2. **Variables** are used to store and re-use values (`some_name = ... `)\n",
    "3. We can show values, messages, variables with `print(...)`\n"
   ]
  },
  {
   "cell_type": "code",
   "execution_count": null,
   "metadata": {},
   "outputs": [],
   "source": [
    "print( int(1234.5678) )  # we can add spaces around parentheses if we want\n",
    "print( float(123) )\n",
    "# adding a string representation of the numbers to \"concatenate\" them\n",
    "# (i.e. add the second one after the end of the first one) rather than adding the number\n",
    "print( str(123) + str(456) )"
   ]
  },
  {
   "cell_type": "markdown",
   "metadata": {},
   "source": [
    "## Session #2 Core Knowledge: Functions and f-strings"
   ]
  },
  {
   "cell_type": "markdown",
   "metadata": {},
   "source": [
    "### Functions and f-strings\n",
    "\n",
    "1. We can create **functions** when we want to re-use the same code several times with only small variations (`def name_of_my_function( ... )`)\n",
    "2. We can insert code and variables into \"strings\" (i.e. text) with the powerful **f-string** (`f\"value={variable}\"`)"
   ]
  },
  {
   "cell_type": "code",
   "execution_count": 13,
   "metadata": {},
   "outputs": [
    {
     "name": "stdout",
     "output_type": "stream",
     "text": [
      "Hello\n",
      "Jeff\n",
      "Bye bye\n"
     ]
    }
   ],
   "source": [
    "def hello(name):\n",
    "    \"\"\"Greet the person\"\"\"  # docstring\n",
    "    # this is a comment\n",
    "\n",
    "    print(\"Hello\")\n",
    "    print(name)\n",
    "    \n",
    "print(\"Bye bye\")\n",
    "\n",
    "    # return\n",
    "\n",
    "hello(\"Jeff\")\n"
   ]
  },
  {
   "cell_type": "markdown",
   "metadata": {},
   "source": [
    "We can display the help on a function with `help`.\n",
    "\n",
    "This will show:\n",
    "\n",
    "* The name of the function\n",
    "* The different arguments (if any)\n",
    "* The \"docstring\" that explains what the function does and how to use it (if there is one)\n",
    "\n",
    "The **doctstring** is a string just after the function, usually using triple double quotes `\"\"\"`."
   ]
  },
  {
   "cell_type": "code",
   "execution_count": 8,
   "metadata": {},
   "outputs": [
    {
     "name": "stdout",
     "output_type": "stream",
     "text": [
      "Help on function hello in module __main__:\n",
      "\n",
      "hello(name)\n",
      "    Greet the person\n",
      "\n"
     ]
    }
   ],
   "source": [
    "help(hello)"
   ]
  },
  {
   "cell_type": "markdown",
   "metadata": {},
   "source": [
    "The **f-string** is a very simple yet powerful feature of Python: you can easily add values from variables (or even running code) and display the result directly in a string.\n",
    "\n",
    "The syntax is:\n",
    "* Add a `f` before the quotes for the string: `f\"....\"`\n",
    "* Inside this f-string, add curly brackets to \"run\" some code: `f\"...{ some code to run }...\"`"
   ]
  },
  {
   "cell_type": "code",
   "execution_count": 41,
   "metadata": {},
   "outputs": [
    {
     "name": "stdout",
     "output_type": "stream",
     "text": [
      "Hello Jeff\n",
      "Hello {name}\n",
      "Hello JeffJeff\n"
     ]
    }
   ],
   "source": [
    "name = \"Jeff\"\n",
    "print(f\"Hello {name}\")  # f-string => it will replace {name} by \"Jeff\"\n",
    "print(\"Hello {name}\")  # NOT f-string => it will show \"Hello {name}\"\n",
    "print(f\"Hello {name * 2}\")  # we can add code in the string: it will replace {name} by JeffJeff"
   ]
  },
  {
   "cell_type": "code",
   "execution_count": 23,
   "metadata": {},
   "outputs": [
    {
     "name": "stdout",
     "output_type": "stream",
     "text": [
      "Hi!\n",
      "Hello me\n",
      "Hello You!\n",
      "Hello world\n"
     ]
    }
   ],
   "source": [
    "def hello(name):  # [4] define a function with a parameter \"name\"\n",
    "    \"\"\"Say hello to someone\"\"\"\n",
    "    print(f\"Hello {name}\")  # [5] using f-string to print a string with the value of \"name\"\n",
    "    return None\n",
    "\n",
    "\n",
    "print(\"Hi!\")  # [3] print a message in output of the cell\n",
    "hello(\"me\")  # [4] call the function and print \"Hello me!\"\n",
    "\n",
    "you = \"You!\"  # [2] define a variable\n",
    "hello(you)  # [2] use the variable and print \"Hello You!\"\n"
   ]
  },
  {
   "cell_type": "markdown",
   "metadata": {},
   "source": [
    "A function can have default values: we just need to provide a value after the name of argument at the beginning of the function:\n",
    "`<argument> = <default value>`\n",
    "\n",
    "When calling the function, we:\n",
    "\n",
    "1. Need to specify one value for each argument that does not have a default value\n",
    "2. Can specify a value for argument with a default value (if we don't, the default value is used)\n",
    "\n",
    "NOTE that the values are assigned to the arguments in the order they are specified. So for example, if we specify a function `def my_function(arg1, arg2, arg3)` and call it with `my_function(1, 2, 3)` then we have `arg1` = `1`, `arg2` = `2`, and `arg3` = `3`."
   ]
  },
  {
   "cell_type": "markdown",
   "metadata": {},
   "source": [
    "You can use `return` to return data that can be used later in the program, and for example to save it in a variable"
   ]
  },
  {
   "cell_type": "code",
   "execution_count": 42,
   "metadata": {},
   "outputs": [
    {
     "name": "stdout",
     "output_type": "stream",
     "text": [
      "7\n",
      "11\n"
     ]
    }
   ],
   "source": [
    "def increment(value, incr=1):\n",
    "    \"\"\"Increments a value (default to 1)\"\"\"\n",
    "    return value + incr\n",
    "\n",
    "print(increment(5, 2))\n",
    "print(increment(10))"
   ]
  },
  {
   "cell_type": "code",
   "execution_count": 39,
   "metadata": {},
   "outputs": [
    {
     "name": "stdout",
     "output_type": "stream",
     "text": [
      "10000\n",
      "The surface is 400 cm2\n"
     ]
    }
   ],
   "source": [
    "def rectangle_surface(x1=0, y1=0, x2=100, y2=100):\n",
    "    \"\"\"Compute the surface of a rectangle\n",
    "\n",
    "    Args:\n",
    "        x1: x-coordinate of bottom left\n",
    "        ...\n",
    "    \"\"\"\n",
    "    return (x2 - x1) * (y2 - y1)\n",
    "\n",
    "\n",
    "print(rectangle_surface(0, 0))\n",
    "\n",
    "surface = rectangle_surface(10, 20, 30, 40)\n",
    "print(f\"The surface is {surface} cm2\")\n"
   ]
  },
  {
   "cell_type": "markdown",
   "metadata": {},
   "source": [
    "We can also use the name of arguments to specify the values (in which case, the order of arguments does not matter). This is also a way to use default values of some arguments but not others."
   ]
  },
  {
   "cell_type": "code",
   "execution_count": 50,
   "metadata": {},
   "outputs": [
    {
     "name": "stdout",
     "output_type": "stream",
     "text": [
      "100\n",
      "25\n",
      "50\n"
     ]
    }
   ],
   "source": [
    "print(rectangle_surface(x2=10, y2=10))  # We use default values of x1 and y1\n",
    "print(rectangle_surface(x2=10, y2=10, x1=5, y1=5))  # We don't need to preserve the order of the arguments\n",
    "\n",
    "# We can even mix values provided using order and provided using name\n",
    "print(rectangle_surface(5, x2=10, y2=10))  # x1=5, and we use default values of y1\n"
   ]
  },
  {
   "cell_type": "markdown",
   "metadata": {},
   "source": [
    "After a `return`, the function will stop (we say \"exit\") and any code inside the function after the `return` will not be executed.\n"
   ]
  },
  {
   "cell_type": "code",
   "execution_count": 52,
   "metadata": {},
   "outputs": [
    {
     "name": "stdout",
     "output_type": "stream",
     "text": [
      "I do nothing\n"
     ]
    }
   ],
   "source": [
    "def do_nothing():\n",
    "    print(\"I do nothing\")\n",
    "    return\n",
    "    print(\"This will not be shown because of the return before\")\n",
    "\n",
    "do_nothing()\n"
   ]
  },
  {
   "cell_type": "markdown",
   "metadata": {},
   "source": [
    "Also, you can do a `return` without any value: in that case, it will return `None` (which corresponds to a null value, a \"nothing\").\n",
    "\n",
    "If you have no `return`, it is considered to return a `None`, so the three functions are equivalent:\n",
    "\n",
    "```python\n",
    "def do_nothing_1():\n",
    "    print(\"I do nothing\")\n",
    "\n",
    "def do_nothing_2():\n",
    "    print(\"I do nothing\")\n",
    "    return\n",
    "\n",
    "def do_nothing_3():\n",
    "    print(\"I do nothing\")\n",
    "    return None\n",
    "```"
   ]
  },
  {
   "cell_type": "markdown",
   "metadata": {},
   "source": [
    "Be careful NOT to print a function that returns nothing, otherwise you will have \"None\" displayed on your screen"
   ]
  },
  {
   "cell_type": "code",
   "execution_count": 53,
   "metadata": {},
   "outputs": [
    {
     "name": "stdout",
     "output_type": "stream",
     "text": [
      "I do nothing\n",
      "None\n"
     ]
    }
   ],
   "source": [
    "print(do_nothing())"
   ]
  },
  {
   "cell_type": "markdown",
   "metadata": {},
   "source": [
    "⚡Common Pitfalls while writing a function:\n",
    "\n",
    "1. Don't forget the `def` and the parentheses\n",
    "2. Don't forget the `:` after the parentheses\n",
    "3. Don't forget to **correctly indent the implementation of the function**\n",
    "4. If you want to reuse data processed by the function, don't forget to add a `return`\n",
    "5. ... and to help you (and potential users) remember what this does, put a clear **docstring**\n",
    "\n",
    "Indentation in python is KEY!!\n",
    "\n",
    "1. Add a level of indentation when you enter a function\n",
    "2. Decrease a level of indentation when you are outside the function\n",
    "\n",
    "```python\n",
    "def my_function():\n",
    "    # +1 level = inside the function\n",
    "    print(\"inside the function\")\n",
    "\n",
    "# -1 level = outside the function\n",
    "print(\"outside the function\")\n",
    "```"
   ]
  },
  {
   "cell_type": "markdown",
   "metadata": {},
   "source": [
    "**🙋QUESTION: What is the difference between comments and a docstring?**\n",
    "\n",
    "The purpose is different:\n",
    "* `docstring` is for the USER to know what the function is doing and how to use it\n",
    "* comments are for the DEVELOPER (you or anyone else who will modify your code) by explaining why you made certain choices in your program and, if the logic is not trivial, the logic of your function.\n",
    "\n"
   ]
  },
  {
   "cell_type": "markdown",
   "metadata": {},
   "source": [
    "**🙋QUESTION: In a function, when to use `print` and when to use `return`?**\n",
    "\n",
    "The purpose is not the same:\n",
    "* `print` is used to display information (what is displayed cannot be used by the program)\n",
    "* `return` is ... well ... returning data that has been computed by the function, so it can be used later in the program\n",
    "\n",
    "So simply put: `print` is for the user to see, `return` is for the program to use.\n",
    "\n",
    "Examples of usage of `print`:\n",
    "* Let the user know what the program is doing (e.g. \"Starting to download file xxx\")\n",
    "* Let the user know what the program has found (e.g. \"Found 5 articles matching your search\")\n",
    "* Warn the user (e.g. \"WARNING: Nothing found, please check you have done ....\")\n",
    "\n",
    "Examples of usage of `return`:\n",
    "* Returning content of a file (or data from an Excel file)\n",
    "* Returning a complex computation (e.g. surface of a sphere)\n",
    "* Returning all the products on Amazon matching your search criterion"
   ]
  },
  {
   "cell_type": "markdown",
   "metadata": {},
   "source": [
    "**🙋QUESTION: Shall I use tab or spaces for indentation?**\n",
    "\n",
    "Technically, any indentation is possible as long as it is consistent within your program. It could be a tab, 2 spaces, 4 spaces.\n",
    "\n",
    "The convention that is spread among Python developers is to use **4 spaces**.\n",
    "\n",
    "Note that in Kaggle and most IDE (i.e. programs to help you write code), pressing the <kbd>TAB</kbd> key will add 4 spaces when you write Python.\n",
    "\n",
    "💡TIP: you can also press <kbd>SHIFT</kbd> + <kbd>TAB</kbd> to decrease the increment of a line (i.e. removing 4 spaces)."
   ]
  },
  {
   "cell_type": "markdown",
   "metadata": {},
   "source": [
    "## Session #3 Core Knowledge: If blocks and Booleans"
   ]
  },
  {
   "cell_type": "markdown",
   "metadata": {},
   "source": [
    "### Bool"
   ]
  },
  {
   "cell_type": "markdown",
   "metadata": {},
   "source": [
    "Different type of data\n",
    "\n",
    "* integers: `1`\n",
    "* floats: `123.45`\n",
    "* strings: `\"I am Jeff\"`\n",
    "* bool: `True` and `False`  => binary status which is the base of the logic"
   ]
  },
  {
   "cell_type": "code",
   "execution_count": 31,
   "metadata": {},
   "outputs": [
    {
     "name": "stdout",
     "output_type": "stream",
     "text": [
      "Condition is True\n"
     ]
    }
   ],
   "source": [
    "condition = True\n",
    "print(f\"Condition is {condition}\")"
   ]
  },
  {
   "cell_type": "markdown",
   "metadata": {},
   "source": [
    "We can negate a boolean with `not` (True becomes False, and vice versa)"
   ]
  },
  {
   "cell_type": "code",
   "execution_count": 32,
   "metadata": {},
   "outputs": [
    {
     "data": {
      "text/plain": [
       "False"
      ]
     },
     "execution_count": 32,
     "metadata": {},
     "output_type": "execute_result"
    }
   ],
   "source": [
    "not condition"
   ]
  },
  {
   "cell_type": "markdown",
   "metadata": {},
   "source": [
    "The result of a comparison is a boolean (note: same in Excel).\n",
    "\n",
    "The following comparisons are available:\n",
    "\n",
    "* `<` : strictly smaller than\n",
    "* `>` : strictly bigger than\n",
    "* `==` : 👈 equal to  (remember that `=` is used to store a value and `==` is for comparison!)\n",
    "* `!=` : 👈 different / not equal to\n",
    "* `<=` : smaller than or equal to\n",
    "* `>=` : bigger than or equal to\n",
    "\n",
    "If you are familiar with Excel, the equal / not equal are different but the rest is the same."
   ]
  },
  {
   "cell_type": "code",
   "execution_count": 34,
   "metadata": {},
   "outputs": [
    {
     "data": {
      "text/plain": [
       "True"
      ]
     },
     "execution_count": 34,
     "metadata": {},
     "output_type": "execute_result"
    }
   ],
   "source": [
    "var = 5  # We store value, not compare!!\n",
    "var > 3"
   ]
  },
  {
   "cell_type": "code",
   "execution_count": 3,
   "metadata": {},
   "outputs": [
    {
     "name": "stdout",
     "output_type": "stream",
     "text": [
      "Is bigger: True\n"
     ]
    }
   ],
   "source": [
    "is_bigger = var > 3\n",
    "print(f\"Is bigger: {is_bigger}\")"
   ]
  },
  {
   "cell_type": "markdown",
   "metadata": {},
   "source": [
    "We can combine logics with `or` and `and`.\n",
    "\n",
    "* `or`: at least one condition is true (1 True => everything is True)\n",
    "* `and`: both conditions need to be true (1 False => everything is False)\n",
    "\n",
    "We usually group the conditions with parentheses."
   ]
  },
  {
   "cell_type": "code",
   "execution_count": 38,
   "metadata": {},
   "outputs": [
    {
     "name": "stdout",
     "output_type": "stream",
     "text": [
      "True\n",
      "False\n",
      "False\n",
      "True\n",
      "True\n",
      "False\n"
     ]
    }
   ],
   "source": [
    "print(True and True)  # True - need everything to be True to have `and` True\n",
    "print(True and False)  # False\n",
    "print(False and False) # False\n",
    "\n",
    "print(True or True)  # True\n",
    "print(True or False)  # True\n",
    "print(False or False)  # False - need everything to be False to have `or` False"
   ]
  },
  {
   "cell_type": "markdown",
   "metadata": {},
   "source": [
    "### If: adding logic to your program"
   ]
  },
  {
   "cell_type": "markdown",
   "metadata": {},
   "source": [
    "The syntax is the following:\n",
    "\n",
    "```python\n",
    "if <condition>:\n",
    "    <code when condition in \"if\" is True>\n",
    "else:\n",
    "    <code when condition in \"if\" is False>\n",
    "```\n",
    "\n",
    "The `else` is actually optional: in that case, you don't run any code if the condition in `if` is not True.\n"
   ]
  },
  {
   "cell_type": "code",
   "execution_count": 10,
   "metadata": {},
   "outputs": [
    {
     "name": "stdout",
     "output_type": "stream",
     "text": [
      "It is smaller\n"
     ]
    }
   ],
   "source": [
    "var =1\n",
    "if var > 3:  # we use \":\" just like for functions\n",
    "    print(\"It is bigger\")  # the code is indented just like for functions\n",
    "    print(\"and not smaller\")\n",
    "else:  # when all the other conditions are false\n",
    "    print(\"It is smaller\")"
   ]
  },
  {
   "cell_type": "markdown",
   "metadata": {},
   "source": [
    "`elif` enables you to add some other conditions (it's optional).\n",
    "\n",
    "Note that you can have several `elif`.\n"
   ]
  },
  {
   "cell_type": "code",
   "execution_count": 15,
   "metadata": {},
   "outputs": [
    {
     "name": "stdout",
     "output_type": "stream",
     "text": [
      "It is negative\n",
      "After checking the conditions\n"
     ]
    }
   ],
   "source": [
    "var = -1\n",
    "\n",
    "if var > 0:\n",
    "    print(\"It is positive\")\n",
    "elif var == 0:\n",
    "    print(\"it is zero\")\n",
    "else:  # default condition\n",
    "    print(\"It is negative\")\n",
    "\n",
    "# after checking the conditions, we will land here\n",
    "print(\"After checking the conditions\")"
   ]
  },
  {
   "cell_type": "markdown",
   "metadata": {},
   "source": [
    "👆**IMPORTANT**! The condition in the `elif` is checked ONLY if the condition in the `if` (or previous `elif`) are False."
   ]
  },
  {
   "cell_type": "code",
   "execution_count": 40,
   "metadata": {},
   "outputs": [
    {
     "name": "stdout",
     "output_type": "stream",
     "text": [
      "Between 11 and 20\n"
     ]
    }
   ],
   "source": [
    "var = 20\n",
    "\n",
    "if var <= 10:\n",
    "    print(\"Smaller or equal to 10\")\n",
    "elif var <= 20:\n",
    "    print(\"Between 11 and 20\")\n",
    "elif var <= 30:\n",
    "    print(\"Between 21 and 30\")\n",
    "else:\n",
    "    print(\"Strictly bigger than 30\")\n"
   ]
  },
  {
   "cell_type": "markdown",
   "metadata": {},
   "source": [
    "By the way, you don't necessarily need to put an `else`"
   ]
  },
  {
   "cell_type": "code",
   "execution_count": 16,
   "metadata": {},
   "outputs": [],
   "source": [
    "var = -1\n",
    "\n",
    "if var > 0:\n",
    "    print(\"It is positive\")\n",
    "elif var == 0:\n",
    "    print(\"it is zero\")\n",
    "\n"
   ]
  },
  {
   "cell_type": "markdown",
   "metadata": {},
   "source": [
    "Example of usage: correcting some values.\n",
    "\n",
    "Let's say we have a variable `var` with a number and we want to adjust to get only a strictly positive number:\n",
    "* if it is negative: we multiply by -1\n",
    "* if it is zero: we add 1\n",
    "* otherwise, we don't do anything"
   ]
  },
  {
   "cell_type": "code",
   "execution_count": 22,
   "metadata": {},
   "outputs": [
    {
     "name": "stdout",
     "output_type": "stream",
     "text": [
      "2\n"
     ]
    }
   ],
   "source": [
    "var = 2\n",
    "\n",
    "if var < 0:\n",
    "    var = -1 * var\n",
    "elif var == 0:\n",
    "    var = 1\n",
    "\n",
    "print(var)\n"
   ]
  },
  {
   "cell_type": "markdown",
   "metadata": {},
   "source": [
    " COMBINING COMPARISONS"
   ]
  },
  {
   "cell_type": "markdown",
   "metadata": {},
   "source": [
    "We can combine logics with `or` and `and`.\n",
    "We usually group the conditions with parentheses."
   ]
  },
  {
   "cell_type": "code",
   "execution_count": 26,
   "metadata": {},
   "outputs": [
    {
     "name": "stdout",
     "output_type": "stream",
     "text": [
      "At least one value is bigger than 0\n"
     ]
    }
   ],
   "source": [
    "var1 = 3\n",
    "var2 = -2\n",
    "\n",
    "if (var1 >= 0) or (var2 >= 0):\n",
    "    print(\"At least one value is bigger than 0\")"
   ]
  },
  {
   "cell_type": "code",
   "execution_count": 27,
   "metadata": {},
   "outputs": [
    {
     "name": "stdout",
     "output_type": "stream",
     "text": [
      "All values are different from 0\n"
     ]
    }
   ],
   "source": [
    "if (var != 0) and (var1 != 0) and (var2 != 0):\n",
    "    print(\"All values are different from 0\")"
   ]
  },
  {
   "cell_type": "markdown",
   "metadata": {},
   "source": [
    "💡 How can we check that a variable `var` is between 5 and 10?\n",
    "\n",
    "There are 2 ways, and one way is shorter and clearer than the other: we can combine like we would do in math class, i.e. \"5 ≤ var ≤ 10\" instead of \"5 ≤ var\" and \"var ≤ 10\" (note that we could also do \"10 ≥ var ≥ 5\" if you prefer but people usually prefer order from smaller to bigger)."
   ]
  },
  {
   "cell_type": "code",
   "execution_count": 24,
   "metadata": {},
   "outputs": [
    {
     "name": "stdout",
     "output_type": "stream",
     "text": [
      "It is between 5 and 10\n",
      "It is between 5 and 10\n"
     ]
    }
   ],
   "source": [
    "var = 6\n",
    "\n",
    "if (var >= 5) and (var <= 10):\n",
    "    print(\"It is between 5 and 10\")\n",
    "\n",
    "if 5 <= var <= 10:  # same as above but shorter syntax and easier to read\n",
    "    print(\"It is between 5 and 10\")"
   ]
  },
  {
   "cell_type": "markdown",
   "metadata": {},
   "source": [
    "⚡Common Pitfalls when writing conditions:\n",
    "\n",
    "1. Forgetting `:` after the condition\n",
    "2. Mistake in indentation\n",
    "3. Confusing `=` and `==`, like for example:"
   ]
  },
  {
   "cell_type": "code",
   "execution_count": 35,
   "metadata": {},
   "outputs": [
    {
     "ename": "SyntaxError",
     "evalue": "invalid syntax (Temp/ipykernel_51148/969865507.py, line 3)",
     "output_type": "error",
     "traceback": [
      "\u001b[1;36m  File \u001b[1;32m\"C:\\Users\\jthuong\\AppData\\Local\\Temp/ipykernel_51148/969865507.py\"\u001b[1;36m, line \u001b[1;32m3\u001b[0m\n\u001b[1;33m    if var = 6:\u001b[0m\n\u001b[1;37m           ^\u001b[0m\n\u001b[1;31mSyntaxError\u001b[0m\u001b[1;31m:\u001b[0m invalid syntax\n"
     ]
    }
   ],
   "source": [
    "var = 5\n",
    "\n",
    "if var = 6:  # We should use \"==\" instead of \"=\"\n",
    "    print(\"It is 6\")"
   ]
  },
  {
   "cell_type": "markdown",
   "metadata": {},
   "source": [
    "🧙‍♂️ [ADVANCED] CONDITIONAL EXPRESSION\n",
    "\n",
    "Equivalent of an `if` in a single line: this allows you to write shorted code and easier to read. If you are able to understand it, it is recommended when `value_if_true` and `value_if_false` are simple enough).\n",
    "\n",
    "```python\n",
    "<value_if_true> if <logical_test> else <value_if_false>\n",
    "```\n",
    "\n",
    "We can't have `elif` in conditional expressions... unless you combine them, but it become super ugly and hard to read (a bit like Excel formulas 🥰) ... so FOLLOWING SYNTAX IS NOT RECOMMENDED!!!\n",
    "```python\n",
    "<value_if_true> if <logical_test> else (<value_elif_true> if <logical_test_elif> else <value_if_false>)\n",
    "```"
   ]
  },
  {
   "cell_type": "code",
   "execution_count": 29,
   "metadata": {},
   "outputs": [
    {
     "data": {
      "text/plain": [
       "'positive'"
      ]
     },
     "execution_count": 29,
     "metadata": {},
     "output_type": "execute_result"
    }
   ],
   "source": [
    "var = 1\n",
    "print(\"positive\" if var > 0 else \"negative\")"
   ]
  },
  {
   "cell_type": "markdown",
   "metadata": {},
   "source": [
    "The previous code is equivalent to the following (but longer) code:"
   ]
  },
  {
   "cell_type": "code",
   "execution_count": null,
   "metadata": {},
   "outputs": [],
   "source": [
    "if var > 0:\n",
    "    print(\"positive\")\n",
    "else:\n",
    "    print(\"negative\")"
   ]
  },
  {
   "cell_type": "markdown",
   "metadata": {},
   "source": [
    "## Session #4 Core Knowledge: Lists\n"
   ]
  },
  {
   "cell_type": "markdown",
   "metadata": {},
   "source": [
    "🙋QUESTION: What is the purpose of the list?\n",
    "\n",
    "* A list is like a big box where you can put data: numbers, strings, ... and possibly other boxes (i.e. lists)\n",
    "* Usually, the data are of the same type, but not necessarily\n",
    "* The data can be used later and retrieved selectively, checked, ..."
   ]
  },
  {
   "cell_type": "code",
   "execution_count": 1,
   "metadata": {},
   "outputs": [],
   "source": [
    "list_numbers = [1, 2, 3, 4]\n",
    "list_strings = [\"a\", \"bc\", \"de\"]"
   ]
  },
  {
   "cell_type": "code",
   "execution_count": 2,
   "metadata": {},
   "outputs": [],
   "source": [
    "# An example of list inside a list: a \"matrix\"\n",
    "# ... not the movie 🎞️, but the mathematical concept,\n",
    "# which is basically a table of numbers (like you could see in Excel)\n",
    "\n",
    "matrix = [\n",
    "    [0, 1, 2],\n",
    "    [1, 2, 3],\n",
    "    [2, 3, 4],\n",
    "]\n"
   ]
  },
  {
   "cell_type": "code",
   "execution_count": 2,
   "metadata": {},
   "outputs": [],
   "source": [
    "list_of_different_types = [1, \"ba\", 1.4, [\"this\", \"is\", \"a\", \"list\"]]\n"
   ]
  },
  {
   "cell_type": "markdown",
   "metadata": {},
   "source": [
    "☢️DANGER☢️ NEVER EVER CALLED YOUR LIST `list`!\n",
    "\n",
    "... This word is a keyword used by Python, and it could mess up with your code later.\n",
    "\n",
    "Alternatives:\n",
    "1. Precise what list it is: `names`, `list_of_names`\n",
    "2. Add some words around: `my_list`, `list1`, `list_` (with an underscore, to make the different) ... but honestly, you will have difficulties remembering what it is later on, so choice #1 is better"
   ]
  },
  {
   "cell_type": "markdown",
   "metadata": {},
   "source": [
    "#### Accessing values in your list 🥡"
   ]
  },
  {
   "cell_type": "markdown",
   "metadata": {},
   "source": [
    "You can access elements in a list with the syntax `<list>[<index>]`, so basically:\n",
    "1. The name of the list (or just a list if it's not stored in a variable)\n",
    "2. An opening square bracket\n",
    "3. An index (starting by 0)\n",
    "4. A closing square bracket"
   ]
  },
  {
   "cell_type": "code",
   "execution_count": 3,
   "metadata": {},
   "outputs": [
    {
     "data": {
      "text/plain": [
       "'a'"
      ]
     },
     "execution_count": 3,
     "metadata": {},
     "output_type": "execute_result"
    }
   ],
   "source": [
    "list_strings[0]  # 0 = 1st index\n",
    "# list_strings = [\"a\", \"bc\", \"de\"]\n",
    "#       index      0     1     2"
   ]
  },
  {
   "cell_type": "code",
   "execution_count": 6,
   "metadata": {},
   "outputs": [
    {
     "data": {
      "text/plain": [
       "1.4"
      ]
     },
     "execution_count": 6,
     "metadata": {},
     "output_type": "execute_result"
    }
   ],
   "source": [
    "list_of_different_types[2]\n"
   ]
  },
  {
   "cell_type": "markdown",
   "metadata": {},
   "source": [
    "🙋QUESTION: What happens if you try to access an index beyond the last element?\n",
    "\n",
    "Python is language that is (quite) safe: it will return an error instead of returning some random value"
   ]
  },
  {
   "cell_type": "code",
   "execution_count": 5,
   "metadata": {},
   "outputs": [
    {
     "ename": "IndexError",
     "evalue": "list index out of range",
     "output_type": "error",
     "traceback": [
      "\u001b[1;31m---------------------------------------------------------------------------\u001b[0m",
      "\u001b[1;31mIndexError\u001b[0m                                Traceback (most recent call last)",
      "\u001b[1;32md:\\AnsysDev\\PY101\\Summary\\Python_Content.ipynb Cell 80'\u001b[0m in \u001b[0;36m<module>\u001b[1;34m\u001b[0m\n\u001b[1;32m----> <a href='vscode-notebook-cell:/d%3A/AnsysDev/PY101/Summary/Python_Content.ipynb#ch0000097?line=0'>1</a>\u001b[0m list_strings[\u001b[39m3\u001b[39;49m]\n",
      "\u001b[1;31mIndexError\u001b[0m: list index out of range"
     ]
    }
   ],
   "source": [
    "list_strings[3]   # IndexError  => safe mechanism\n"
   ]
  },
  {
   "cell_type": "markdown",
   "metadata": {},
   "source": [
    "We have seen that you can access elements based on the index from left to right.\n",
    "\n",
    "But you can also get it starting from the right 🙃!!\n",
    "To do so, you just need **negative numbers** (`-1` is the first value from the right)"
   ]
  },
  {
   "cell_type": "code",
   "execution_count": 8,
   "metadata": {},
   "outputs": [
    {
     "data": {
      "text/plain": [
       "'de'"
      ]
     },
     "execution_count": 8,
     "metadata": {},
     "output_type": "execute_result"
    }
   ],
   "source": [
    "list_strings[-1]  # -1 = 1st index from the right\n",
    "# list_strings = [\"a\", \"bc\", \"de\"]\n",
    "#       index     -3     -2   -1\n"
   ]
  },
  {
   "cell_type": "markdown",
   "metadata": {},
   "source": [
    "Again, a safe mechanism prevents you from going too much to the \"left\""
   ]
  },
  {
   "cell_type": "code",
   "execution_count": 18,
   "metadata": {},
   "outputs": [
    {
     "ename": "IndexError",
     "evalue": "list index out of range",
     "output_type": "error",
     "traceback": [
      "\u001b[1;31m---------------------------------------------------------------------------\u001b[0m",
      "\u001b[1;31mIndexError\u001b[0m                                Traceback (most recent call last)",
      "\u001b[1;32md:\\AnsysDev\\PY101\\Summary\\Python_Content.ipynb Cell 84'\u001b[0m in \u001b[0;36m<module>\u001b[1;34m\u001b[0m\n\u001b[1;32m----> <a href='vscode-notebook-cell:/d%3A/AnsysDev/PY101/Summary/Python_Content.ipynb#ch0000108?line=0'>1</a>\u001b[0m list_strings[\u001b[39m-\u001b[39;49m\u001b[39m100\u001b[39;49m]\n",
      "\u001b[1;31mIndexError\u001b[0m: list index out of range"
     ]
    }
   ],
   "source": [
    "list_strings[-100]  # way too much to the left"
   ]
  },
  {
   "cell_type": "markdown",
   "metadata": {},
   "source": [
    "#### Slicing 🍕\n",
    "\n",
    "A \"slice 🍕\" is basically a \"subset\" of the list, a cut of the list.\n",
    "\n",
    "The syntax is: `<list>[<start index>:<end index (excluded)>]`\n"
   ]
  },
  {
   "cell_type": "code",
   "execution_count": 11,
   "metadata": {},
   "outputs": [
    {
     "data": {
      "text/plain": [
       "[1, 2]"
      ]
     },
     "execution_count": 11,
     "metadata": {},
     "output_type": "execute_result"
    }
   ],
   "source": [
    "list_numbers_from_0 = [0, 1, 2, 3, 4, 5, 6, 7]\n",
    "list_numbers_from_0[1:3]  # from index=1 to index=3 but EXCLUDING 3  => 1, 2"
   ]
  },
  {
   "cell_type": "code",
   "execution_count": 12,
   "metadata": {},
   "outputs": [
    {
     "data": {
      "text/plain": [
       "['a', 'bc']"
      ]
     },
     "execution_count": 12,
     "metadata": {},
     "output_type": "execute_result"
    }
   ],
   "source": [
    "list_strings_new = [\"a\", \"bc\", \"de\", \"fg\"]\n",
    "#                    0     1     2     3\n",
    "#                    -4     -3    -2   -1\n",
    "list_strings_new[0:2]"
   ]
  },
  {
   "cell_type": "markdown",
   "metadata": {},
   "source": [
    "If you omit the number before the column `:`, it assumes it is 0"
   ]
  },
  {
   "cell_type": "code",
   "execution_count": 13,
   "metadata": {},
   "outputs": [
    {
     "data": {
      "text/plain": [
       "['a', 'bc']"
      ]
     },
     "execution_count": 13,
     "metadata": {},
     "output_type": "execute_result"
    }
   ],
   "source": [
    "list_strings_new[:2] "
   ]
  },
  {
   "cell_type": "markdown",
   "metadata": {},
   "source": [
    "If you don't have a number AFTER the column `:`, it assumes it is until the end (`[2:]` is index 2 to the end)"
   ]
  },
  {
   "cell_type": "code",
   "execution_count": 15,
   "metadata": {},
   "outputs": [
    {
     "data": {
      "text/plain": [
       "['de', 'fg']"
      ]
     },
     "execution_count": 15,
     "metadata": {},
     "output_type": "execute_result"
    }
   ],
   "source": [
    "list_strings_new[2:]"
   ]
  },
  {
   "cell_type": "markdown",
   "metadata": {},
   "source": [
    "We can do slicing using negative numbers (it will read from the right)\n",
    "\n",
    "Note that if you have `<end index>` smaller than `<start index>`, then the list is empty."
   ]
  },
  {
   "cell_type": "code",
   "execution_count": 14,
   "metadata": {},
   "outputs": [
    {
     "data": {
      "text/plain": [
       "['bc', 'de']"
      ]
     },
     "execution_count": 14,
     "metadata": {},
     "output_type": "execute_result"
    }
   ],
   "source": [
    "list_strings_new[-3:-1]  # we can do slice using negative number"
   ]
  },
  {
   "cell_type": "code",
   "execution_count": 16,
   "metadata": {},
   "outputs": [
    {
     "data": {
      "text/plain": [
       "[]"
      ]
     },
     "execution_count": 16,
     "metadata": {},
     "output_type": "execute_result"
    }
   ],
   "source": [
    "list_strings_new[-1:-3]   # -3 < -1 => empty range"
   ]
  },
  {
   "cell_type": "code",
   "execution_count": 17,
   "metadata": {},
   "outputs": [
    {
     "data": {
      "text/plain": [
       "[]"
      ]
     },
     "execution_count": 17,
     "metadata": {},
     "output_type": "execute_result"
    }
   ],
   "source": [
    "list_strings_new[3:1]  #"
   ]
  },
  {
   "cell_type": "markdown",
   "metadata": {},
   "source": [
    "🙋QUESTION: What happens if the index in a range is beyond the possible indices of the list?\n",
    "\n",
    "... like what would happen if I have a list of 5 elements and I do `my_list[1:1000]`?\n",
    "\n",
    "Unlike just searching for an element, the slice will stop at the end of the list"
   ]
  },
  {
   "cell_type": "code",
   "execution_count": 5,
   "metadata": {},
   "outputs": [
    {
     "data": {
      "text/plain": [
       "[3, 4, 5, 6, 7]"
      ]
     },
     "execution_count": 5,
     "metadata": {},
     "output_type": "execute_result"
    }
   ],
   "source": [
    "list_numbers_from_0 = [0, 1, 2, 3, 4, 5, 6, 7]\n",
    "list_numbers_from_0[3:10000000000000000000000]  # that's a big number! :)"
   ]
  },
  {
   "cell_type": "markdown",
   "metadata": {},
   "source": [
    "🧙‍♂️ ADVANCED: Adding step to the slice\n",
    "\n",
    "By default, a slice will read elements in order, 1 by 1, from left to right.\n",
    "\n",
    "But this can be changed by controlling the step.\n",
    "\n",
    "The syntax is: `<list>[<start index>:<end index (excluded)>:<step>]`\n",
    "\n",
    "For example:\n",
    "* `my_list[1:10:2]` will correspond to a list with values of indices 1, 3, 5, 7, 9\n",
    "* `my_list[1:9:2]` will correspond to a list with values of indices 1, 3, 5, 7\n",
    "* `my_list[9:1:-2]` will correspond to a list with values of indices 9, 7, 5, 3\n"
   ]
  },
  {
   "cell_type": "code",
   "execution_count": 20,
   "metadata": {},
   "outputs": [
    {
     "data": {
      "text/plain": [
       "[1, 3]"
      ]
     },
     "execution_count": 20,
     "metadata": {},
     "output_type": "execute_result"
    }
   ],
   "source": [
    "# ADVANCED 🧙‍♂️\n",
    "list_numbers_from_0 = [0, 1, 2, 3, 4, 5, 6, 7]\n",
    "list_numbers_from_0[1:5:2]  # number after the 2nd \":\" will define the \"step\" (we read 2 by 2 here)"
   ]
  },
  {
   "cell_type": "code",
   "execution_count": 21,
   "metadata": {},
   "outputs": [
    {
     "data": {
      "text/plain": [
       "['fg', 'de']"
      ]
     },
     "execution_count": 21,
     "metadata": {},
     "output_type": "execute_result"
    }
   ],
   "source": [
    "# ADVANCED 🧙‍♂️\n",
    "list_strings_new[-1:-3:-1]   # step=-1 => we read backwards"
   ]
  },
  {
   "cell_type": "markdown",
   "metadata": {},
   "source": [
    "#### Changing lists"
   ]
  },
  {
   "cell_type": "markdown",
   "metadata": {},
   "source": [
    "You can just assign a value to a particular element of the list"
   ]
  },
  {
   "cell_type": "code",
   "execution_count": 23,
   "metadata": {},
   "outputs": [
    {
     "data": {
      "text/plain": [
       "[0, 1, 2, 3, 100, 5, 6, 200]"
      ]
     },
     "execution_count": 23,
     "metadata": {},
     "output_type": "execute_result"
    }
   ],
   "source": [
    "list_numbers_from_0 = [0, 1, 2, 3, 4, 5, 6, 7]\n",
    "\n",
    "list_numbers_from_0[4] = 100\n",
    "list_numbers_from_0[-1] = 200\n",
    "list_numbers_from_0"
   ]
  },
  {
   "cell_type": "markdown",
   "metadata": {},
   "source": [
    "... or a list of values to a slice of the list"
   ]
  },
  {
   "cell_type": "code",
   "execution_count": 6,
   "metadata": {},
   "outputs": [
    {
     "data": {
      "text/plain": [
       "[0, 1, 2, 3, 'four', 'five', 'six', 7]"
      ]
     },
     "execution_count": 6,
     "metadata": {},
     "output_type": "execute_result"
    }
   ],
   "source": [
    "list_numbers_from_0 = [0, 1, 2, 3, 4, 5, 6, 7]\n",
    "\n",
    "list_numbers_from_0[4:7] = [\"four\", \"five\", \"six\" ]\n",
    "list_numbers_from_0\n"
   ]
  },
  {
   "cell_type": "markdown",
   "metadata": {},
   "source": [
    "### Functions for lists"
   ]
  },
  {
   "cell_type": "markdown",
   "metadata": {},
   "source": [
    "The function `len` can help you get the number of elements of the list (`len` is short for length, in case you were wondering :)\n",
    "\n",
    "👆This function will be seen later as it can also be used on strings and \"dictionaries\" (that we will see later)"
   ]
  },
  {
   "cell_type": "code",
   "execution_count": 26,
   "metadata": {},
   "outputs": [
    {
     "data": {
      "text/plain": [
       "8"
      ]
     },
     "execution_count": 26,
     "metadata": {},
     "output_type": "execute_result"
    }
   ],
   "source": [
    "list_numbers_from_0 = [0, 1, 2, 3, 4, 5, 6, 7]\n",
    "len(list_numbers_from_0)  # number of elements  => 8"
   ]
  },
  {
   "cell_type": "markdown",
   "metadata": {},
   "source": [
    "You can also `sum` the elements of a list, provided they are numbers.\n",
    "Or get the `max` (maximum) or `min` (minimum) of a list of numbers"
   ]
  },
  {
   "cell_type": "code",
   "execution_count": 10,
   "metadata": {},
   "outputs": [
    {
     "name": "stdout",
     "output_type": "stream",
     "text": [
      "28\n",
      "7\n",
      "0\n"
     ]
    }
   ],
   "source": [
    "list_numbers_from_0 = [0, 1, 2, 3, 4, 5, 6, 7]\n",
    "print(sum(list_numbers_from_0))\n",
    "print(max(list_numbers_from_0))\n",
    "print(min(list_numbers_from_0))"
   ]
  },
  {
   "cell_type": "markdown",
   "metadata": {},
   "source": [
    "Also, some functions can be applied DIRECTLY on the list: they are called \"**methods**\"\n",
    "\n",
    "The different with previous functions we have seen:\n",
    "* The list itself is transformed\n",
    "* It does not necessarily return something\n",
    "\n",
    "It is using the syntax `<list>.<method>(...)`  (while a function would be `<function>(<list>, ...)`).\n",
    "Notice the dot `.` that indicates that is a method attached to the \"object\" that is a list."
   ]
  },
  {
   "cell_type": "markdown",
   "metadata": {},
   "source": [
    "We have 2 methods to add elements:\n",
    "\n",
    "* `append`: add at the beginning\n",
    "* `insert`: can add anywhere (but we need to specify)\n",
    "\n",
    "NOTE: `my_list.append(<value>)` is equivalent to `my_list.insert(len(mylist), <value>)`"
   ]
  },
  {
   "cell_type": "code",
   "execution_count": 13,
   "metadata": {},
   "outputs": [
    {
     "data": {
      "text/plain": [
       "[0, 1, 2, 3, 4, 5, 6, 7, 8]"
      ]
     },
     "execution_count": 13,
     "metadata": {},
     "output_type": "execute_result"
    }
   ],
   "source": [
    "# Append will add to the end\n",
    "list_numbers_from_0 = [0, 1, 2, 3, 4, 5, 6, 7]\n",
    "list_numbers_from_0.append(8)  #  <object>.<method>  and a method is a function running on an object\n",
    "list_numbers_from_0"
   ]
  },
  {
   "cell_type": "code",
   "execution_count": 14,
   "metadata": {},
   "outputs": [
    {
     "data": {
      "text/plain": [
       "[0, 1, 2, 3, 4, 5, 'new', 6, 7, 8]"
      ]
     },
     "execution_count": 14,
     "metadata": {},
     "output_type": "execute_result"
    }
   ],
   "source": [
    "# You can also insert in the middle\n",
    "list_numbers_from_0.insert(6, \"new\")\n",
    "list_numbers_from_0"
   ]
  },
  {
   "cell_type": "code",
   "execution_count": 15,
   "metadata": {},
   "outputs": [
    {
     "data": {
      "text/plain": [
       "[0, 1, 2, 3, 4, 5, 'new', 6, 7, 8, 'last']"
      ]
     },
     "execution_count": 15,
     "metadata": {},
     "output_type": "execute_result"
    }
   ],
   "source": [
    "list_numbers_from_0.insert(len(list_numbers_from_0), \"last\")\n",
    "list_numbers_from_0"
   ]
  },
  {
   "cell_type": "markdown",
   "metadata": {},
   "source": [
    "We have 2 methods to remove values:\n",
    "* `remove`: search for a given value in the list, and remove it (only once). If the value is not found, 💣ERROR!\n",
    "* `pop`: just like if you pop open a bottle of champaign🍾, you finish with the cork in your hand (the last element of the list) and the bottle has the cork missing (last element is removed) "
   ]
  },
  {
   "cell_type": "code",
   "execution_count": 30,
   "metadata": {},
   "outputs": [
    {
     "data": {
      "text/plain": [
       "[0, 1, 2, 3, 4, 5, 6, 7, 8]"
      ]
     },
     "execution_count": 30,
     "metadata": {},
     "output_type": "execute_result"
    }
   ],
   "source": [
    "# Remove a value by searching it\n",
    "list_numbers_from_0.remove(\"new\")\n",
    "list_numbers_from_0"
   ]
  },
  {
   "cell_type": "code",
   "execution_count": 31,
   "metadata": {},
   "outputs": [
    {
     "data": {
      "text/plain": [
       "[0, 1, 2, 3, 4, 5, 'new', 'new', 'new', 6, 7, 8]"
      ]
     },
     "execution_count": 31,
     "metadata": {},
     "output_type": "execute_result"
    }
   ],
   "source": [
    "list_numbers_from_0.insert(6, \"new\")\n",
    "list_numbers_from_0.insert(6, \"new\")\n",
    "list_numbers_from_0.insert(6, \"new\")\n",
    "list_numbers_from_0"
   ]
  },
  {
   "cell_type": "code",
   "execution_count": 32,
   "metadata": {},
   "outputs": [
    {
     "data": {
      "text/plain": [
       "[0, 1, 2, 3, 4, 5, 'new', 'new', 6, 7, 8]"
      ]
     },
     "execution_count": 32,
     "metadata": {},
     "output_type": "execute_result"
    }
   ],
   "source": [
    "list_numbers_from_0.remove(\"new\")  # only remove one \"new\"\n",
    "list_numbers_from_0"
   ]
  },
  {
   "cell_type": "code",
   "execution_count": 33,
   "metadata": {},
   "outputs": [
    {
     "ename": "ValueError",
     "evalue": "list.remove(x): x not in list",
     "output_type": "error",
     "traceback": [
      "\u001b[1;31m---------------------------------------------------------------------------\u001b[0m",
      "\u001b[1;31mValueError\u001b[0m                                Traceback (most recent call last)",
      "\u001b[1;32md:\\AnsysDev\\PY101\\Summary\\Python_Content.ipynb Cell 107'\u001b[0m in \u001b[0;36m<module>\u001b[1;34m\u001b[0m\n\u001b[1;32m----> <a href='vscode-notebook-cell:/d%3A/AnsysDev/PY101/Summary/Python_Content.ipynb#ch0000125?line=0'>1</a>\u001b[0m list_numbers_from_0\u001b[39m.\u001b[39;49mremove(\u001b[39m\"\u001b[39;49m\u001b[39msomething that is not here\u001b[39;49m\u001b[39m\"\u001b[39;49m)\n\u001b[0;32m      <a href='vscode-notebook-cell:/d%3A/AnsysDev/PY101/Summary/Python_Content.ipynb#ch0000125?line=1'>2</a>\u001b[0m list_numbers_from_0\n",
      "\u001b[1;31mValueError\u001b[0m: list.remove(x): x not in list"
     ]
    }
   ],
   "source": [
    "list_numbers_from_0.remove(\"something that is not here\")  # Exception (error) because it is not here\n",
    "list_numbers_from_0"
   ]
  },
  {
   "cell_type": "code",
   "execution_count": 34,
   "metadata": {},
   "outputs": [
    {
     "data": {
      "text/plain": [
       "8"
      ]
     },
     "execution_count": 34,
     "metadata": {},
     "output_type": "execute_result"
    }
   ],
   "source": [
    "list_numbers_from_0.pop()  # \"pop\" will return the last element and it's removed from the list\n"
   ]
  },
  {
   "cell_type": "code",
   "execution_count": 35,
   "metadata": {},
   "outputs": [
    {
     "data": {
      "text/plain": [
       "[0, 1, 2, 3, 4, 5, 'new', 'new', 6, 7]"
      ]
     },
     "execution_count": 35,
     "metadata": {},
     "output_type": "execute_result"
    }
   ],
   "source": [
    "list_numbers_from_0  # last element (8) has been removed"
   ]
  },
  {
   "cell_type": "markdown",
   "metadata": {},
   "source": [
    "#### Searching for values 🔎\n"
   ]
  },
  {
   "cell_type": "markdown",
   "metadata": {},
   "source": [
    "There are two ways to search, based on what you need:\n",
    "\n",
    "1. If you look for the position of element in the list: `mylist.index(<value you search>)` (and 💣ERROR if the element is not in the list)\n",
    "2. If you just want to check if the element is here: `<value you search> in my_list` (by just using a simple keyword `in`)"
   ]
  },
  {
   "cell_type": "code",
   "execution_count": 36,
   "metadata": {},
   "outputs": [
    {
     "data": {
      "text/plain": [
       "1"
      ]
     },
     "execution_count": 36,
     "metadata": {},
     "output_type": "execute_result"
    }
   ],
   "source": [
    "persons = [\"Eghon\", \"Jacob\", \"Olivia\", \"Ralf\"]\n",
    "persons.index(\"Jacob\")  # position in the list (if found)\n"
   ]
  },
  {
   "cell_type": "code",
   "execution_count": 37,
   "metadata": {},
   "outputs": [
    {
     "ename": "ValueError",
     "evalue": "'Jeff (not in the list)' is not in list",
     "output_type": "error",
     "traceback": [
      "\u001b[1;31m---------------------------------------------------------------------------\u001b[0m",
      "\u001b[1;31mValueError\u001b[0m                                Traceback (most recent call last)",
      "\u001b[1;32md:\\AnsysDev\\PY101\\Summary\\Python_Content.ipynb Cell 113'\u001b[0m in \u001b[0;36m<module>\u001b[1;34m\u001b[0m\n\u001b[1;32m----> <a href='vscode-notebook-cell:/d%3A/AnsysDev/PY101/Summary/Python_Content.ipynb#ch0000130?line=0'>1</a>\u001b[0m persons\u001b[39m.\u001b[39;49mindex(\u001b[39m\"\u001b[39;49m\u001b[39mJeff (not in the list)\u001b[39;49m\u001b[39m\"\u001b[39;49m)\n",
      "\u001b[1;31mValueError\u001b[0m: 'Jeff (not in the list)' is not in list"
     ]
    }
   ],
   "source": [
    "persons.index(\"Jeff (not in the list)\")  # Exception again"
   ]
  },
  {
   "cell_type": "code",
   "execution_count": 38,
   "metadata": {},
   "outputs": [
    {
     "data": {
      "text/plain": [
       "False"
      ]
     },
     "execution_count": 38,
     "metadata": {},
     "output_type": "execute_result"
    }
   ],
   "source": [
    "\"Jeff\" in persons"
   ]
  },
  {
   "cell_type": "code",
   "execution_count": 39,
   "metadata": {},
   "outputs": [
    {
     "data": {
      "text/plain": [
       "True"
      ]
     },
     "execution_count": 39,
     "metadata": {},
     "output_type": "execute_result"
    }
   ],
   "source": [
    "\"Olivia\" in persons"
   ]
  },
  {
   "cell_type": "markdown",
   "metadata": {},
   "source": [
    "The `in` is very useful if you want to check whether a particular value is equal to one among several other values\n",
    "\n",
    "Before, we would do something like:\n",
    "\n",
    "```python\n",
    "var = 20\n",
    "if var == 5 or var == 6 or var == 10:\n",
    "    print(\"var is among the numbers\")\n",
    "else:\n",
    "    print(\"var is NOT among the numbers\")\n",
    "```\n",
    "\n",
    "You can see that it is quite repetitive (and programmers HATE repetition) and can be really long if you check among 20 or more values (not to mention tiring to type).\n",
    "\n",
    "So now, we can do:"
   ]
  },
  {
   "cell_type": "code",
   "execution_count": 17,
   "metadata": {},
   "outputs": [
    {
     "name": "stdout",
     "output_type": "stream",
     "text": [
      "var is among the numbers\n"
     ]
    }
   ],
   "source": [
    "var = 6\n",
    "if var in [5, 6, 10]:\n",
    "    print(\"var is among the numbers\")\n",
    "else:\n",
    "    print(\"var is NOT among the numbers\")"
   ]
  },
  {
   "cell_type": "markdown",
   "metadata": {},
   "source": [
    "#### SORTING\n",
    "\n",
    "There are 2 ways to sort:\n",
    "1. `<list>.sort()`: modify the list itself but returns nothing\n",
    "2. `sorted(<list>)`: returns a sorted list but does not modify the list itself"
   ]
  },
  {
   "cell_type": "code",
   "execution_count": 71,
   "metadata": {},
   "outputs": [],
   "source": [
    "my_unsorted_list = [19,2,8,3,2,6,8]\n",
    "my_unsorted_list.sort()  # it will sort the list \"in place\" => nothing is returned, and the object is sorted"
   ]
  },
  {
   "cell_type": "code",
   "execution_count": 72,
   "metadata": {},
   "outputs": [
    {
     "data": {
      "text/plain": [
       "[2, 2, 3, 6, 8, 8, 19]"
      ]
     },
     "execution_count": 72,
     "metadata": {},
     "output_type": "execute_result"
    }
   ],
   "source": [
    "my_unsorted_list  # it is now sorted"
   ]
  },
  {
   "cell_type": "markdown",
   "metadata": {},
   "source": [
    "Note that you cannot sort if you have elements of different types"
   ]
  },
  {
   "cell_type": "code",
   "execution_count": 73,
   "metadata": {},
   "outputs": [
    {
     "ename": "TypeError",
     "evalue": "'<' not supported between instances of 'str' and 'int'",
     "output_type": "error",
     "traceback": [
      "\u001b[1;31m---------------------------------------------------------------------------\u001b[0m",
      "\u001b[1;31mTypeError\u001b[0m                                 Traceback (most recent call last)",
      "\u001b[1;32md:\\AnsysDev\\PY101\\Summary\\Python_Content.ipynb Cell 123'\u001b[0m in \u001b[0;36m<module>\u001b[1;34m\u001b[0m\n\u001b[0;32m      <a href='vscode-notebook-cell:/d%3A/AnsysDev/PY101/Summary/Python_Content.ipynb#ch0000152?line=0'>1</a>\u001b[0m my_unsorted_list \u001b[39m=\u001b[39m [\u001b[39m19\u001b[39m, \u001b[39m2\u001b[39m, \u001b[39m8\u001b[39m, \u001b[39m3\u001b[39m, \u001b[39m2\u001b[39m, \u001b[39m6\u001b[39m, \u001b[39m8\u001b[39m, \u001b[39m\"\u001b[39m\u001b[39ma\u001b[39m\u001b[39m\"\u001b[39m, \u001b[39m\"\u001b[39m\u001b[39mb\u001b[39m\u001b[39m\"\u001b[39m]\n\u001b[1;32m----> <a href='vscode-notebook-cell:/d%3A/AnsysDev/PY101/Summary/Python_Content.ipynb#ch0000152?line=1'>2</a>\u001b[0m my_unsorted_list\u001b[39m.\u001b[39;49msort()\n",
      "\u001b[1;31mTypeError\u001b[0m: '<' not supported between instances of 'str' and 'int'"
     ]
    }
   ],
   "source": [
    "my_unsorted_list = [19, 2, 8, 3, 2, 6, 8, \"a\", \"b\"]\n",
    "my_unsorted_list.sort()  # want to be safe\n"
   ]
  },
  {
   "cell_type": "markdown",
   "metadata": {},
   "source": [
    "But you can sort strings (based on alphabetical order)"
   ]
  },
  {
   "cell_type": "code",
   "execution_count": 76,
   "metadata": {},
   "outputs": [
    {
     "data": {
      "text/plain": [
       "['a', 'de', 'z']"
      ]
     },
     "execution_count": 76,
     "metadata": {},
     "output_type": "execute_result"
    }
   ],
   "source": [
    "list_strings = [ \"a\", \"z\", \"de\"]\n",
    "list_strings.sort()  # alphabetical order of first character (and then second character if first character is the same, ...)\n",
    "list_strings"
   ]
  },
  {
   "cell_type": "code",
   "execution_count": 74,
   "metadata": {},
   "outputs": [
    {
     "data": {
      "text/plain": [
       "[19, 8, 8, 6, 3, 2, 2]"
      ]
     },
     "execution_count": 74,
     "metadata": {},
     "output_type": "execute_result"
    }
   ],
   "source": [
    "my_unsorted_list = [19, 2, 8, 3, 2, 6, 8]\n",
    "my_unsorted_list.sort(reverse=True)  # from big to small\n",
    "my_unsorted_list\n"
   ]
  },
  {
   "cell_type": "markdown",
   "metadata": {},
   "source": [
    "... as you can see, if you want to see the sorted list, it is a bit annoying to have to type the variable after.\n",
    "\n",
    "That is another reason the function `sorted` is a good alternative."
   ]
  },
  {
   "cell_type": "code",
   "execution_count": 77,
   "metadata": {},
   "outputs": [
    {
     "data": {
      "text/plain": [
       "[2, 2, 3, 6, 8, 8, 19]"
      ]
     },
     "execution_count": 77,
     "metadata": {},
     "output_type": "execute_result"
    }
   ],
   "source": [
    "# <list>.sort() is a method\n",
    "# sorted(<list>) is a function  => it will return the sorted list and the list itself is NOT modified\n",
    "my_unsorted_list = [19, 2, 8, 3, 2, 6, 8]\n",
    "sorted(my_unsorted_list)"
   ]
  },
  {
   "cell_type": "markdown",
   "metadata": {},
   "source": [
    "... and again, the list is not modified (it's just the result of `sorted` that is in order)"
   ]
  },
  {
   "cell_type": "code",
   "execution_count": 79,
   "metadata": {},
   "outputs": [
    {
     "data": {
      "text/plain": [
       "[19, 2, 8, 3, 2, 6, 8]"
      ]
     },
     "execution_count": 79,
     "metadata": {},
     "output_type": "execute_result"
    }
   ],
   "source": [
    "my_unsorted_list  # the list is not modified"
   ]
  },
  {
   "cell_type": "code",
   "execution_count": 78,
   "metadata": {},
   "outputs": [
    {
     "data": {
      "text/plain": [
       "[19, 8, 8, 6, 3, 2, 2]"
      ]
     },
     "execution_count": 78,
     "metadata": {},
     "output_type": "execute_result"
    }
   ],
   "source": [
    "sorted([19, 2, 8, 3, 2, 6, 8], reverse=True)"
   ]
  },
  {
   "cell_type": "markdown",
   "metadata": {},
   "source": [
    "### Tuples"
   ]
  },
  {
   "cell_type": "markdown",
   "metadata": {},
   "source": [
    "A tuple is like a list that cannot be modified.\n",
    "\n",
    "The main purpose is to:\n",
    "1. Read it without having to modify it (e.g. `if nb in (1, 3, 5, 7): ...`)\n",
    "2. Returning several values in a function\n",
    "3. Storing several values to several variables\n",
    "4. ... and another usage you will see in dictionaries (session #6) 🤐"
   ]
  },
  {
   "cell_type": "code",
   "execution_count": 50,
   "metadata": {},
   "outputs": [],
   "source": [
    "my_list = [1, 2, 3]\n",
    "my_tuple = (1, 2, 3)  # almost like a list, except you can't modify it"
   ]
  },
  {
   "cell_type": "code",
   "execution_count": 51,
   "metadata": {},
   "outputs": [
    {
     "data": {
      "text/plain": [
       "1"
      ]
     },
     "execution_count": 51,
     "metadata": {},
     "output_type": "execute_result"
    }
   ],
   "source": [
    "my_tuple[0]  # OK"
   ]
  },
  {
   "cell_type": "code",
   "execution_count": 52,
   "metadata": {},
   "outputs": [
    {
     "data": {
      "text/plain": [
       "(2, 3)"
      ]
     },
     "execution_count": 52,
     "metadata": {},
     "output_type": "execute_result"
    }
   ],
   "source": [
    "my_tuple[1:3]  # OK"
   ]
  },
  {
   "cell_type": "code",
   "execution_count": 53,
   "metadata": {},
   "outputs": [
    {
     "ename": "TypeError",
     "evalue": "'tuple' object does not support item assignment",
     "output_type": "error",
     "traceback": [
      "\u001b[1;31m---------------------------------------------------------------------------\u001b[0m",
      "\u001b[1;31mTypeError\u001b[0m                                 Traceback (most recent call last)",
      "\u001b[1;32md:\\AnsysDev\\PY101\\Summary\\Python_Content.ipynb Cell 124'\u001b[0m in \u001b[0;36m<module>\u001b[1;34m\u001b[0m\n\u001b[1;32m----> <a href='vscode-notebook-cell:/d%3A/AnsysDev/PY101/Summary/Python_Content.ipynb#ch0000141?line=0'>1</a>\u001b[0m my_tuple[\u001b[39m0\u001b[39m] \u001b[39m=\u001b[39m \u001b[39m1234\u001b[39m\n",
      "\u001b[1;31mTypeError\u001b[0m: 'tuple' object does not support item assignment"
     ]
    }
   ],
   "source": [
    "my_tuple[0] = 1234  # NOK: tuples cannot be modified"
   ]
  },
  {
   "cell_type": "markdown",
   "metadata": {},
   "source": [
    "Tuples are used to return several elements\n",
    "\n",
    "If you have: \"a tuple (e.g. `tuple1`) of n elements = another tuple (e.g. `tuple2`) of n elements\",\n",
    "then what it does is that each element of `tuple2` will be assigned to an element of `tuple1` at the same position\n",
    "\n",
    "So\n",
    "```python\n",
    "(a, b) = (1, 2)\n",
    "```\n",
    "is equivalent to:\n",
    "```python\n",
    "a = 1\n",
    "b = 2\n",
    "```\n",
    "\n",
    "👆NOTE that the parentheses around the tuples are often optional. So we usually write:\n",
    "```python\n",
    "a, b = 1, 2\n",
    "```\n"
   ]
  },
  {
   "cell_type": "code",
   "execution_count": 69,
   "metadata": {},
   "outputs": [
    {
     "name": "stdout",
     "output_type": "stream",
     "text": [
      "var1 = value1, var2 = value2\n"
     ]
    }
   ],
   "source": [
    "var = 6\n",
    "var1, var2 = \"value1\", \"value2\"\n",
    "print(f\"var1 = {var1}, var2 = {var2}\")\n",
    "\n",
    "\n"
   ]
  },
  {
   "cell_type": "code",
   "execution_count": 56,
   "metadata": {},
   "outputs": [
    {
     "name": "stdout",
     "output_type": "stream",
     "text": [
      "12\n",
      "-4\n"
     ]
    }
   ],
   "source": [
    "def sum_substraction(x, y):\n",
    "    return (x + y, x - y)  # tuple of 2 elements\n",
    "\n",
    "# (sum_xy, sub_xy) = sum_substraction(4, 8)  # assign 2 elements\n",
    "sum_xy, sub_xy = sum_substraction(4, 8)  # parentheses are optional\n",
    "print(sum_xy)\n",
    "print(sub_xy)\n"
   ]
  },
  {
   "cell_type": "markdown",
   "metadata": {},
   "source": [
    "A useful example of assignment in tuples, is to swap values:"
   ]
  },
  {
   "cell_type": "code",
   "execution_count": 18,
   "metadata": {},
   "outputs": [
    {
     "name": "stdout",
     "output_type": "stream",
     "text": [
      "0 1\n"
     ]
    }
   ],
   "source": [
    "# Swap values\n",
    "a = 1\n",
    "b = 0\n",
    "a, b = b, a\n",
    "print(a, b)"
   ]
  },
  {
   "cell_type": "markdown",
   "metadata": {},
   "source": [
    "BONUS: You can convert other things into list with `list()` and to tuples with `tuple()`"
   ]
  },
  {
   "cell_type": "code",
   "execution_count": 67,
   "metadata": {},
   "outputs": [
    {
     "data": {
      "text/plain": [
       "['a', 'b', 'c', 'd', 'e', 'f', 'g', 'h', 'i', 'j', 'k']"
      ]
     },
     "execution_count": 67,
     "metadata": {},
     "output_type": "execute_result"
    }
   ],
   "source": [
    "my_letters = \"abcdefghijk\"\n",
    "list(my_letters)  # list of all characters one by one"
   ]
  },
  {
   "cell_type": "code",
   "execution_count": 19,
   "metadata": {},
   "outputs": [
    {
     "data": {
      "text/plain": [
       "('a', 'b', 'c', 'd', 'e', 'f', 'g', 'h', 'i', 'j', 'k')"
      ]
     },
     "execution_count": 19,
     "metadata": {},
     "output_type": "execute_result"
    }
   ],
   "source": [
    "my_letters = \"abcdefghijk\"\n",
    "tuple(my_letters)  # list of all characters one by one"
   ]
  },
  {
   "cell_type": "code",
   "execution_count": 20,
   "metadata": {},
   "outputs": [
    {
     "data": {
      "text/plain": [
       "[1, 2, 3, 4, 5]"
      ]
     },
     "execution_count": 20,
     "metadata": {},
     "output_type": "execute_result"
    }
   ],
   "source": [
    "list((1, 2, 3, 4, 5))"
   ]
  },
  {
   "cell_type": "code",
   "execution_count": 21,
   "metadata": {},
   "outputs": [
    {
     "data": {
      "text/plain": [
       "('a', 'b', [1, 2, 3])"
      ]
     },
     "execution_count": 21,
     "metadata": {},
     "output_type": "execute_result"
    }
   ],
   "source": [
    "tuple([\"a\", \"b\", [1, 2, 3]])"
   ]
  },
  {
   "cell_type": "markdown",
   "metadata": {},
   "source": [
    "🧙‍♂️ ADVANCED: In Session #6, we will see other ways to transform a string into a list.\n",
    "\n",
    "Like `\"jeff 123 john 000\"` => `['jeff', '123', 'john', '000']`"
   ]
  },
  {
   "cell_type": "markdown",
   "metadata": {},
   "source": [
    "## Session #5 Loops and List comprehensions"
   ]
  },
  {
   "cell_type": "markdown",
   "metadata": {},
   "source": [
    "#### Loops\n",
    "\n",
    "Purpose:\n",
    "* Do an action several times to execute code if certain conditions are met\n",
    "* Avoid repeating code => shorter, easier to read, easier to modify, harder to make mistakes (typos, ...)"
   ]
  },
  {
   "cell_type": "markdown",
   "metadata": {},
   "source": [
    "Zen of Python\n",
    "\n",
    "- Readability\n",
    "- Explicit over Implicit"
   ]
  },
  {
   "cell_type": "markdown",
   "metadata": {},
   "source": [
    "Syntax\n",
    "\n",
    "```python\n",
    "for <variable> in <list>:\n",
    "    ... do something with the variable\n",
    "```"
   ]
  },
  {
   "cell_type": "code",
   "execution_count": 13,
   "metadata": {},
   "outputs": [
    {
     "name": "stdout",
     "output_type": "stream",
     "text": [
      "I have not found your name: jeff\n"
     ]
    }
   ],
   "source": [
    "name = input(\"Enter a name: \").strip()\n",
    "# input() will ask the user to enter some text, and we can add a \"prompt\" to the user\n",
    "# we need to \"strip\" because input() returns a string with a RETURN (a line return) character at the end\n",
    "# and we need to remove that character. \"strip\" remove spaces at the beginning and at the end of the string\n",
    "\n",
    "# # hard to read (you need to check all the lines for typos)\n",
    "# if name == \"toto\":\n",
    "#     print(\"toto\")\n",
    "# if name == \"titi\":\n",
    "#     print(\"titi\")\n",
    "# if name == \"tutu\":\n",
    "#     print(\"tutui\")\n",
    "\n",
    "# shorter, clearer\n",
    "for n in [\"toto\", \"titi\", \"tutu\"]:\n",
    "    if name == n:\n",
    "        print(n)\n",
    "\n",
    "# by the way, it would be better to do:\n",
    "if name in [\"toto\", \"titi\", \"tutu\"]:\n",
    "    print(name)\n",
    "else:\n",
    "    print(f\"I have not found your name: {name}\")"
   ]
  },
  {
   "cell_type": "code",
   "execution_count": 14,
   "metadata": {},
   "outputs": [
    {
     "name": "stdout",
     "output_type": "stream",
     "text": [
      "tutu\n",
      "I have not found your name: jeff\n"
     ]
    }
   ],
   "source": [
    "def search_name(name):\n",
    "    for n in [\"toto\", \"titi\", \"tutu\"]:\n",
    "        if name == n:\n",
    "            return n\n",
    "            # if the name is found, then we exit the function with \"return\"\n",
    "\n",
    "    # We only arrive here if no match was found\n",
    "    return f\"I have not found your name: {name}\"\n",
    "\n",
    "print(search_name(\"tutu\"))\n",
    "print(search_name(\"jeff\"))"
   ]
  },
  {
   "cell_type": "code",
   "execution_count": 7,
   "metadata": {},
   "outputs": [],
   "source": [
    "def find_name(name):\n",
    "    \"\"\"Find if a name is matching any name among toto, tutu, titi in a case insensitive way\"\"\"\n",
    "    for n in [\"toto\", \"titi\", \"tutu\"]:\n",
    "        if name.lower() == n.lower():\n",
    "            return n\n",
    "    return None\n",
    "\n",
    "find_name(\"TUtudddd\")"
   ]
  },
  {
   "cell_type": "markdown",
   "metadata": {},
   "source": [
    "# Range\n",
    "\n",
    "It's a function to help do list of numbers\n",
    "\n",
    "```python\n",
    "range(<end number>)   # start from 0,  all numbers strictly smaller than <end number> => <end number> is excluded (like for slices)\n",
    "range(<start number>, <end number>)\n",
    "range(<start number>, <end number>, <step>)\n",
    "```"
   ]
  },
  {
   "cell_type": "code",
   "execution_count": 29,
   "metadata": {},
   "outputs": [
    {
     "data": {
      "text/plain": [
       "[0, 1, 2, 3, 4]"
      ]
     },
     "execution_count": 29,
     "metadata": {},
     "output_type": "execute_result"
    }
   ],
   "source": [
    "list(range(5))  # [0, 1, 2, 3, 4]   start = 0 (default), end = 4 (5 - 1)"
   ]
  },
  {
   "cell_type": "code",
   "execution_count": 30,
   "metadata": {},
   "outputs": [
    {
     "data": {
      "text/plain": [
       "[2, 3, 4, 5, 6]"
      ]
     },
     "execution_count": 30,
     "metadata": {},
     "output_type": "execute_result"
    }
   ],
   "source": [
    "list(range(2, 7))  # [2, 3, 4, 5, 6]   start = 2 (default), end = 6 (7 - 1)"
   ]
  },
  {
   "cell_type": "code",
   "execution_count": 31,
   "metadata": {},
   "outputs": [
    {
     "data": {
      "text/plain": [
       "[1, 3, 5, 7, 9, 11]"
      ]
     },
     "execution_count": 31,
     "metadata": {},
     "output_type": "execute_result"
    }
   ],
   "source": [
    "list(range(1, 13, 2)) # [1, 3, 5, 7, 9, 11]   start = 1 (default), end = number < 13  => 11, step = 2"
   ]
  },
  {
   "cell_type": "markdown",
   "metadata": {},
   "source": [
    "### List Comprehensions\n",
    "\n",
    "1. Quite unique to Python\n",
    "2. Short, \"easy to read\" (when you are familiar with it)\n",
    "3. Faster to run than a loop (less RAM memory is used and less CPU)\n",
    "4. Fun (personal opinion)\n",
    "\n"
   ]
  },
  {
   "cell_type": "markdown",
   "metadata": {},
   "source": [
    "Purpose: it's a way to construct a list from another list in one line.\n",
    "\n",
    "\n",
    "1. Copy another list (useless)\n",
    "2. Process each element of the initial list to build a new list (e.g. add 5 to all the numbers in a list)\n",
    "3. Filter each element of the initial list (e.g. only keep the numbers that are positive)\n",
    "\n",
    "\n",
    "syntax:\n",
    "```python\n",
    "[ <element to store>     for <variable>  in <initial list>  ]\n",
    "[ <element to store>     for <variable>  in <initial list>     if <condition on variable>]\n",
    "```"
   ]
  },
  {
   "cell_type": "markdown",
   "metadata": {},
   "source": [
    "Example #1:\n",
    "\n",
    "Add 5 to all the numbers of a list [1, 2, 3, 4, 5]"
   ]
  },
  {
   "cell_type": "code",
   "execution_count": 15,
   "metadata": {},
   "outputs": [
    {
     "data": {
      "text/plain": [
       "[6, 7, 8, 9, 10]"
      ]
     },
     "execution_count": 15,
     "metadata": {},
     "output_type": "execute_result"
    }
   ],
   "source": [
    "plus_five = [ n + 5    for n in range(1, 6)]  # range(1, 6) = [1, 2, 3, 4, 5]\n",
    "plus_five"
   ]
  },
  {
   "cell_type": "markdown",
   "metadata": {},
   "source": [
    "... if we wanted to do with with a standard `for` loop"
   ]
  },
  {
   "cell_type": "code",
   "execution_count": 16,
   "metadata": {},
   "outputs": [
    {
     "data": {
      "text/plain": [
       "[6, 7, 8, 9, 10]"
      ]
     },
     "execution_count": 16,
     "metadata": {},
     "output_type": "execute_result"
    }
   ],
   "source": [
    "plus_five = []   # 1. we need to define an empty list\n",
    "for n in range(1, 6):   # 2. we loop\n",
    "    plus_five.append(n + 5)  # 3. we append the result of the loop\n",
    "plus_five"
   ]
  },
  {
   "cell_type": "code",
   "execution_count": null,
   "metadata": {},
   "outputs": [],
   "source": [
    "# plus_five = []   # 1. we need to define an empty list\n",
    "# for n in range(1, 6):   # 2. we loop\n",
    "#     plus_five.append(n + 5)  # 3. we append the result of the loop\n",
    "# plus_five\n",
    "\n",
    "\n",
    "plus_five =   [  n + 5        for n in range(1, 6)]   # usually we don't put extra spaces, it has been added for clarity but the code is still correct\n",
    "# ^from #1      ^from #3            ^from #2\n",
    "\n",
    "# We can split a list comprehension on several lines, it is still correct\n",
    "plus_five = [  # 1. define and store to the variable\n",
    "    n + 5  # 3. what we want to store: equivalent to .append(n + 5)\n",
    "    for n in range(1, 6)  # 2. we loop\n",
    "]\n",
    "\n",
    "# this is how we write usually\n",
    "plus_five = [n + 5 for n in range(1, 6)]\n"
   ]
  },
  {
   "cell_type": "markdown",
   "metadata": {},
   "source": [
    "Example #2: list all positive numbers from another list of numbers"
   ]
  },
  {
   "cell_type": "code",
   "execution_count": 17,
   "metadata": {},
   "outputs": [
    {
     "data": {
      "text/plain": [
       "[1, 2, 4, 3, 7]"
      ]
     },
     "execution_count": 17,
     "metadata": {},
     "output_type": "execute_result"
    }
   ],
   "source": [
    "numbers = [ -3, 1, 2, -5, 4, -2, 3, -1, 7]\n",
    "\n",
    "# with a basic for loop\n",
    "positive_numbers = []  # 1. we need to define an empty list\n",
    "for n in numbers:  # 2. we loop\n",
    "    if n > 0:  # 3. we check if the number is positive\n",
    "        positive_numbers.append(n)  # 4. we append the number to the list\n",
    "\n",
    "positive_numbers"
   ]
  },
  {
   "cell_type": "code",
   "execution_count": 18,
   "metadata": {},
   "outputs": [
    {
     "data": {
      "text/plain": [
       "[1, 2, 4, 3, 7]"
      ]
     },
     "execution_count": 18,
     "metadata": {},
     "output_type": "execute_result"
    }
   ],
   "source": [
    "positive_numbers = [\n",
    "    n  # 4. what we want to store: equivalent to .append(n)\n",
    "    for n in numbers  # 2. we loop\n",
    "    if n > 0  # 3. we check if the number is positive\n",
    "]\n",
    "\n",
    "positive_numbers = [n for n in numbers if n > 0]\n",
    "\n",
    "positive_numbers"
   ]
  },
  {
   "cell_type": "markdown",
   "metadata": {},
   "source": [
    "Example 3: \"has_lucky_numbers\" in Kaggle Practice\n",
    "https://www.kaggle.com/kernels/fork/1275177\n",
    "\n",
    "```python\n",
    "def has_lucky_number(nums):\n",
    "    for num in nums:\n",
    "        if num % 7 == 0:\n",
    "            return True\n",
    "    # We've exhausted the list without finding a lucky number\n",
    "    return False\n",
    "```"
   ]
  },
  {
   "cell_type": "code",
   "execution_count": 21,
   "metadata": {},
   "outputs": [
    {
     "data": {
      "text/plain": [
       "True"
      ]
     },
     "execution_count": 21,
     "metadata": {},
     "output_type": "execute_result"
    }
   ],
   "source": [
    "def has_lucky_numbers(nums):\n",
    "    divided_by_7 = [n for n in nums if n % 7 == 0]\n",
    "    return len(divided_by_7) > 0\n",
    "\n",
    "has_lucky_numbers([2, 4, 7])"
   ]
  },
  {
   "cell_type": "code",
   "execution_count": 24,
   "metadata": {},
   "outputs": [
    {
     "name": "stdout",
     "output_type": "stream",
     "text": [
      "Help on built-in function any in module builtins:\n",
      "\n",
      "any(iterable, /)\n",
      "    Return True if bool(x) is True for any x in the iterable.\n",
      "    \n",
      "    If the iterable is empty, return False.\n",
      "\n"
     ]
    }
   ],
   "source": [
    "help(any)"
   ]
  },
  {
   "cell_type": "code",
   "execution_count": 25,
   "metadata": {},
   "outputs": [
    {
     "name": "stdout",
     "output_type": "stream",
     "text": [
      "True\n",
      "False\n"
     ]
    }
   ],
   "source": [
    "print(any([True, False, False]))\n",
    "print(any([False, False, False]))"
   ]
  },
  {
   "cell_type": "code",
   "execution_count": 26,
   "metadata": {},
   "outputs": [
    {
     "data": {
      "text/plain": [
       "True"
      ]
     },
     "execution_count": 26,
     "metadata": {},
     "output_type": "execute_result"
    }
   ],
   "source": [
    "def has_lucky_numbers(nums):\n",
    "    return any([n % 7 == 0 for n in nums])\n",
    "\n",
    "has_lucky_numbers([2, 4, 7])\n",
    "\n",
    "#  [ 2 % 7 == 0,    4 % 7 == 0,      7 % 7 == 0 ]\n",
    "#  [ False,          False,            True    ]\n",
    "# any([False, False, True])\n",
    "# => return True\n"
   ]
  },
  {
   "cell_type": "markdown",
   "metadata": {},
   "source": [
    "## Session #6: Review Session"
   ]
  },
  {
   "cell_type": "markdown",
   "metadata": {},
   "source": [
    "### 1. Indentation in Python is key"
   ]
  },
  {
   "cell_type": "markdown",
   "metadata": {},
   "source": [
    "A wrong indentation can really break your program.\n",
    "\n",
    "For example, try to figure out the reason of the problem in the cell below:"
   ]
  },
  {
   "cell_type": "code",
   "execution_count": 1,
   "metadata": {},
   "outputs": [
    {
     "name": "stdout",
     "output_type": "stream",
     "text": [
      "Hello Jeff\n"
     ]
    },
    {
     "ename": "NameError",
     "evalue": "name 'say_hello_again' is not defined",
     "output_type": "error",
     "traceback": [
      "\u001b[1;31m---------------------------------------------------------------------------\u001b[0m",
      "\u001b[1;31mNameError\u001b[0m                                 Traceback (most recent call last)",
      "\u001b[1;32md:\\AnsysDev\\_perso_repo\\PY101\\Summary\\Python_Content.ipynb Cell 194'\u001b[0m in \u001b[0;36m<module>\u001b[1;34m\u001b[0m\n\u001b[0;32m      <a href='vscode-notebook-cell:/d%3A/AnsysDev/_perso_repo/PY101/Summary/Python_Content.ipynb#ch0000214?line=4'>5</a>\u001b[0m         \u001b[39mprint\u001b[39m(\u001b[39mf\u001b[39m\u001b[39m\"\u001b[39m\u001b[39mHello again, \u001b[39m\u001b[39m{\u001b[39;00mnew_name\u001b[39m}\u001b[39;00m\u001b[39m\"\u001b[39m)\n\u001b[0;32m      <a href='vscode-notebook-cell:/d%3A/AnsysDev/_perso_repo/PY101/Summary/Python_Content.ipynb#ch0000214?line=7'>8</a>\u001b[0m say_hello(\u001b[39m\"\u001b[39m\u001b[39mJeff\u001b[39m\u001b[39m\"\u001b[39m)\n\u001b[1;32m---> <a href='vscode-notebook-cell:/d%3A/AnsysDev/_perso_repo/PY101/Summary/Python_Content.ipynb#ch0000214?line=9'>10</a>\u001b[0m say_hello_again(\u001b[39m\"\u001b[39m\u001b[39mSolomon\u001b[39m\u001b[39m\"\u001b[39m)\n",
      "\u001b[1;31mNameError\u001b[0m: name 'say_hello_again' is not defined"
     ]
    }
   ],
   "source": [
    "def say_hello(name):\n",
    "    print(f\"Hello {name}\")\n",
    "\n",
    "    def say_hello_again(new_name):\n",
    "        print(f\"Hello again, {new_name}\")\n",
    "\n",
    "\n",
    "say_hello(\"Jeff\")\n",
    "\n",
    "say_hello_again(\"Solomon\")"
   ]
  },
  {
   "cell_type": "markdown",
   "metadata": {},
   "source": [
    "...\n",
    "\n",
    "The definition of function `say_hello_again` is at the same level of the `print` in function `say_hello` so in other words, the function `say_hello_again` is defined INSIDE `say_hello`.\n",
    "\n",
    "Therefore, it cannot be accessed from outside.\n",
    "\n",
    "What you probably would like to do is the following:"
   ]
  },
  {
   "cell_type": "code",
   "execution_count": 2,
   "metadata": {},
   "outputs": [
    {
     "name": "stdout",
     "output_type": "stream",
     "text": [
      "Hello Jeff\n",
      "Hello again, Solomon\n"
     ]
    }
   ],
   "source": [
    "def say_hello2(name):\n",
    "    print(f\"Hello {name}\")\n",
    "\n",
    "def say_hello_again2(new_name):\n",
    "    print(f\"Hello again, {new_name}\")\n",
    "\n",
    "\n",
    "say_hello2(\"Jeff\")\n",
    "\n",
    "say_hello_again2(\"Solomon\")"
   ]
  },
  {
   "cell_type": "markdown",
   "metadata": {},
   "source": [
    "### 2. F-string\n",
    "\n",
    "The syntax is a `f`, followed by (double)quotes, and some variable or code to execute between curly brackets `{...}`:\n",
    "\n",
    "```python\n",
    "f\".....{code to be executed} ....\"\n",
    "```"
   ]
  },
  {
   "cell_type": "code",
   "execution_count": 3,
   "metadata": {},
   "outputs": [
    {
     "data": {
      "text/plain": [
       "'I have a red hat'"
      ]
     },
     "execution_count": 3,
     "metadata": {},
     "output_type": "execute_result"
    }
   ],
   "source": [
    "colour = \"red\"\n",
    "cloth = \"hat\"\n",
    "\n",
    "f\"I have a {colour} {cloth}\""
   ]
  },
  {
   "cell_type": "code",
   "execution_count": 4,
   "metadata": {},
   "outputs": [
    {
     "data": {
      "text/plain": [
       "'I have 15 apples in total'"
      ]
     },
     "execution_count": 4,
     "metadata": {},
     "output_type": "execute_result"
    }
   ],
   "source": [
    "nb1 = 10\n",
    "nb2 = 5\n",
    "\n",
    "f\"I have {nb1 + nb2} apples in total\""
   ]
  },
  {
   "cell_type": "markdown",
   "metadata": {},
   "source": [
    "### 3. Objects\n",
    "\n",
    "In Python, everything is an object. Even a list or a number or as string.\n",
    "\n",
    "An object has properties (called \"attributes\") and functions applied to it (called \"methods\").\n",
    "\n",
    "For example, a list is an object and it has methods like `append`."
   ]
  },
  {
   "cell_type": "code",
   "execution_count": 7,
   "metadata": {},
   "outputs": [
    {
     "data": {
      "text/plain": [
       "'hello how are you?'"
      ]
     },
     "execution_count": 7,
     "metadata": {},
     "output_type": "execute_result"
    }
   ],
   "source": [
    "my_list = [1, 2, 3]\n",
    "\n",
    "# function\n",
    "len(my_list)\n",
    "\n",
    "# method\n",
    "my_list.append(4)\n",
    "\n"
   ]
  },
  {
   "cell_type": "markdown",
   "metadata": {},
   "source": [
    "Methods are convenient because they could be chained (especially if they return an object of the same type).\n",
    "\n",
    "This is typically what you can do with methods on strings (that we will see in the lesson about strings and dictionaries)."
   ]
  },
  {
   "cell_type": "code",
   "execution_count": 1,
   "metadata": {},
   "outputs": [
    {
     "data": {
      "text/plain": [
       "'hello how are you?'"
      ]
     },
     "execution_count": 1,
     "metadata": {},
     "output_type": "execute_result"
    }
   ],
   "source": [
    "# string\n",
    "my_text = \"Hello how are you?   \"\n",
    "my_text.strip().lower()"
   ]
  },
  {
   "cell_type": "markdown",
   "metadata": {},
   "source": [
    "### 5. List Comprehensions\n",
    "\n",
    "syntax:\n",
    "```python\n",
    "[ <element to store>     for <variable> in <initial list>  ]\n",
    "[ <element to store>     for <variable> in <initial list>     if <condition on variable>]\n",
    "```\n",
    "\n",
    "Below are some examples of usage:"
   ]
  },
  {
   "cell_type": "code",
   "execution_count": 10,
   "metadata": {},
   "outputs": [
    {
     "data": {
      "text/plain": [
       "['toto', 'titi', 'tutu']"
      ]
     },
     "execution_count": 10,
     "metadata": {},
     "output_type": "execute_result"
    }
   ],
   "source": [
    "# 1. Transform all names to lowercase\n",
    "\n",
    "names = [\"Toto\", \"Titi\", \"Tutu\"]\n",
    "lowercase_names = [  n.lower()       for n in names              ]\n",
    "lowercase_names"
   ]
  },
  {
   "cell_type": "code",
   "execution_count": 12,
   "metadata": {},
   "outputs": [
    {
     "data": {
      "text/plain": [
       "[1, 4, 16, 9, 49]"
      ]
     },
     "execution_count": 12,
     "metadata": {},
     "output_type": "execute_result"
    }
   ],
   "source": [
    "#  2. Square of strictly positive values\n",
    "numbers = [ -3, 1, 2, -5, 4, -2, 3, -1, 7]\n",
    "square_positive_numbers = [   nb**2      for nb in numbers    if nb > 0]\n",
    "square_positive_numbers"
   ]
  },
  {
   "cell_type": "markdown",
   "metadata": {},
   "source": [
    "# Practice"
   ]
  },
  {
   "cell_type": "markdown",
   "metadata": {},
   "source": [
    "## Challenge Session 1 (WARMUP)\n",
    "\n",
    "* \"Say Hello World\": https://www.hackerrank.com/challenges/py-hello-world/problem\n",
    "* \"Arithmetic Operations\": https://www.hackerrank.com/challenges/python-arithmetic-operators/problem\n"
   ]
  },
  {
   "cell_type": "markdown",
   "metadata": {},
   "source": [
    "## Challenge Session 2 (Functions)\n",
    "\n",
    "* \"What's your name\": https://www.hackerrank.com/challenges/whats-your-name/problem\n",
    "* \"Python: Division\" **WHILE USING A FUNCTION**: https://www.hackerrank.com/challenges/python-division/problem"
   ]
  },
  {
   "cell_type": "markdown",
   "metadata": {},
   "source": [
    "## Challenge Session 3 (If & Bool)\n",
    "\n",
    "1. Python If-Else (E): https://www.hackerrank.com/challenges/py-if-else/problem?isFullScreen=true\n",
    "\n",
    "A first solution based on the problem:\n",
    "\n",
    "```python\n",
    "if __name__ == '__main__':\n",
    "    n = int(input().strip())\n",
    "\n",
    "    if n % 2 == 1:  # If n is odd, print Weird  [odd = modulo to 2 is not 0]\n",
    "        print(\"Weird\")\n",
    "    elif 2 <= n <= 5:  # If n is even and in the inclusive range of 2 to 5, print Not Weird\n",
    "        print(\"Not Weird\")\n",
    "    elif 6 <= n <= 20:  # If n is even and in the inclusive range of 6 to 20, print Weird\n",
    "        print(\"Weird\")\n",
    "    elif n > 20:  # If n is even and greater than 20, print Not Weird\n",
    "        print(\"Not Weird\")\n",
    "```\n",
    "\n",
    "Note that because the first condition checks whether n is odd, all other conditions don't need to check it again (because if n was odd, we would not enter into any \"elif\")\n",
    "\n",
    "💡When checking several conditions, it is good to always start by the one with biggest matches (the most general condition).\n",
    "\n",
    "\n",
    "Actually, the code could be simplified even more:\n",
    "\n",
    "```python\n",
    "if __name__ == '__main__':\n",
    "    n = int(input().strip())\n",
    "\n",
    "    # \"n % 1\" is True if it is not 0 and the values of n % 2 can only be 0 or 1\n",
    "    # => \"if n % 1 == 1\" is equivalent to \"if n % 1\"\n",
    "    if n % 2:  \n",
    "        print(\"Weird\")\n",
    "    # Because n is in range 1 ≤ n ≤ 100, and n is even, the smallest value is 2\n",
    "    # so we can remove \"2 <= n\"\n",
    "    elif n <= 5:  \n",
    "        print(\"Not Weird\")\n",
    "    # Same as before, with additional condition of n > 5 because previous \"elif\" is wrong\n",
    "    elif n <= 20:  \n",
    "        print(\"Weird\")\n",
    "    # If all previous conditions are False, this means that n > 20 => we can just use \"else\"\n",
    "    else:  \n",
    "        print(\"Not Weird\")\n",
    "```\n"
   ]
  },
  {
   "cell_type": "markdown",
   "metadata": {},
   "source": [
    "## Challenge Session 5 (Loops and List Comprehensions)\n",
    "\n",
    "\"Loops\" [E]: https://www.hackerrank.com/challenges/python-loops/problem?isFullScreen=true"
   ]
  },
  {
   "cell_type": "markdown",
   "metadata": {},
   "source": [
    "The solution can be:\n",
    "\n",
    "```python\n",
    "if __name__ == '__main__':\n",
    "    n = int(raw_input())\n",
    "    for i in range(n):\n",
    "        print(i**2)\n",
    "```\n",
    "\n",
    "What we do:\n",
    "1. Get the list of numbers from 0 to n-1 with `range(n)`\n",
    "2. Loop through this list\n",
    "3. For each element, print the squared value (either `i*i` or `i**2`)\n",
    "\n",
    "Note: Do not use `n` as element of the `for` loop because it is already the maximum value\n",
    "* **NO**: `for n in range(n):`\n",
    "* **YES**: `for i in range(n):`"
   ]
  },
  {
   "cell_type": "markdown",
   "metadata": {},
   "source": [
    "## Challenge Session 6 (List Comprehensions)\n",
    "\n",
    "\"List Comprehensions\" [E]: https://www.hackerrank.com/challenges/list-comprehensions/problem?isFullScreen=true\n",
    "\n",
    "The problem is the following:\n",
    "\n",
    "1. We have 4 integer values `x`, `y`, `z`, and `n`\n",
    "2. We need to print all lists [i, j, k] with following constraints:\n",
    "  * 0 <= i <= x\n",
    "  * 0 <= j <= y\n",
    "  * 0 <= k <= z\n",
    "  * i + j + k != n\n",
    "\n"
   ]
  },
  {
   "cell_type": "markdown",
   "metadata": {},
   "source": [
    "A suggestion when you have a complex problem is to start easy. The idea is twofold:\n",
    "\n",
    "1. Understanding what you need to do\n",
    "2. Having a basic solution on which you can build a more complex one to solve the problem.\n",
    "\n",
    "The idea could be:\n",
    "\n",
    "1. Step #0: just print a list of list to see what happens ;)  `print([[0, 0, 0], [0, 0, 1], [0, 1, 0], [1, 0, 0], [1, 1, 1]])` ... surprisingly, one test is already PASSED :)\n",
    "2. Step #1: just start by returning all integers `i` with `0 <= i <= x` and `i != n`\n",
    "2. Step #2: improve step #1 to have all lists `[i, j]` with `0 <= i <= x`, `0 <= j <= y`, and `i + j != n`\n",
    "3. Step #3: improve step #2 to solve the problem"
   ]
  },
  {
   "cell_type": "markdown",
   "metadata": {},
   "source": [
    "#### Step #1\n",
    "\n",
    "We can create a list comprehensions, and for that we need to understand:\n",
    "1. What we want to store in the list: it is an integer `i` (that will be in our loop)\n",
    "2. The loop of values `i`: we need to have `i` between 0 and `x` (both values included): the best way is to use the function `range`\n",
    "3. The condition of list comprehension: we need to have `i != n`\n",
    "\n",
    "So a first solution could be:\n",
    "```python\n",
    "print([ i     for i in range(x)    if i != n])\n",
    "```\n",
    "\n",
    "Let's try"
   ]
  },
  {
   "cell_type": "code",
   "execution_count": 2,
   "metadata": {},
   "outputs": [
    {
     "name": "stdout",
     "output_type": "stream",
     "text": [
      "[0, 1, 2, 4]\n"
     ]
    }
   ],
   "source": [
    "# Step #1 - first try\n",
    "\n",
    "x = 5\n",
    "n = 3\n",
    "\n",
    "print([i for i in range(x) if i != n ])"
   ]
  },
  {
   "cell_type": "markdown",
   "metadata": {},
   "source": [
    "We can see that we have the value `n` (3) removed, it starts by 0, ... but it stops at 4 while we expect to go until 5 (`x` = 5).\n",
    "\n",
    "The problem is that `range` is listing all integers from start while it is strictly smaller then the \"end value\" (here: `x`).\n",
    "So we need to do `range(x + 1)` to have until the value 5"
   ]
  },
  {
   "cell_type": "code",
   "execution_count": 3,
   "metadata": {},
   "outputs": [
    {
     "name": "stdout",
     "output_type": "stream",
     "text": [
      "[0, 1, 2, 4, 5]\n"
     ]
    }
   ],
   "source": [
    "# Step #1 - second try\n",
    "\n",
    "x = 5\n",
    "n = 3\n",
    "\n",
    "print([i for i in range(x+1) if i != n ])"
   ]
  },
  {
   "cell_type": "markdown",
   "metadata": {},
   "source": [
    "Good... now we can move to step #2"
   ]
  },
  {
   "cell_type": "markdown",
   "metadata": {},
   "source": [
    "#### Step #2\n",
    "\n",
    "To add `j`, we just need:\n",
    "* To return a list `[i, j]` instead of an integer `i`\n",
    "* Add a loop on `j` (`for j in range(y + 1)`)\n",
    "* Modify the condition to be `i + j != n` instead of just `i != n`  (note that parentheses around `(i + j)` are not mandatory)\n",
    "\n",
    "To do so, we just need to add the for-loop after the first one (or before, it also works).\n",
    "\n",
    "Note that the first square bracket `print([ ...` is for opening the list comprehension, and the second square bracket `[ i, ...` is for indicating we have lists `[i, j]` in our list.\n",
    "Although it looks a bit weird, we need two consecutive opening square brackets."
   ]
  },
  {
   "cell_type": "code",
   "execution_count": 5,
   "metadata": {},
   "outputs": [
    {
     "name": "stdout",
     "output_type": "stream",
     "text": [
      "[[0, 0], [0, 1], [1, 0], [1, 1], [2, 0], [3, 1], [4, 0], [4, 1], [5, 0], [5, 1]]\n"
     ]
    }
   ],
   "source": [
    "# Step #2 - first try\n",
    "\n",
    "x = 5\n",
    "y = 1\n",
    "n = 3\n",
    "\n",
    "print([[i, j] for i in range(x+1)   for j in range(y+1)    if (i + j) != n ])   # or   if i + j != n"
   ]
  },
  {
   "cell_type": "markdown",
   "metadata": {},
   "source": [
    "The value `[2, 1]` has been removed as expected.\n",
    "\n",
    "The values goes from `[0, 0]` to `[5, 1]`.\n",
    "\n",
    "We can just move to step #3 ... which is basically what we did for step #2 with just another value.\n",
    "\n"
   ]
  },
  {
   "cell_type": "code",
   "execution_count": 6,
   "metadata": {},
   "outputs": [
    {
     "name": "stdout",
     "output_type": "stream",
     "text": [
      "[[0, 0, 0], [0, 0, 1], [0, 1, 0], [0, 1, 1], [0, 2, 0], [1, 0, 0], [1, 0, 1], [1, 1, 0], [1, 2, 1], [2, 0, 0], [2, 1, 1], [2, 2, 0], [2, 2, 1], [3, 0, 1], [3, 1, 0], [3, 1, 1], [3, 2, 0], [3, 2, 1], [4, 0, 0], [4, 0, 1], [4, 1, 0], [4, 1, 1], [4, 2, 0], [4, 2, 1], [5, 0, 0], [5, 0, 1], [5, 1, 0], [5, 1, 1], [5, 2, 0], [5, 2, 1]]\n"
     ]
    }
   ],
   "source": [
    "# Step #2 - first try\n",
    "\n",
    "x = 5\n",
    "y = 2\n",
    "z = 1\n",
    "n = 3\n",
    "\n",
    "print([[i, j, k] for i in range(x+1)   for j in range(y+1)  for k in range(z+1)    if i + j + k != n ])"
   ]
  },
  {
   "cell_type": "markdown",
   "metadata": {},
   "source": [
    "if this looks a bit intimidating, you can also split into several lines:\n",
    "\n",
    "(the comments could be removed)"
   ]
  },
  {
   "cell_type": "code",
   "execution_count": null,
   "metadata": {},
   "outputs": [],
   "source": [
    "x = 5\n",
    "y = 2\n",
    "z = 1\n",
    "n = 3\n",
    "\n",
    "print(\n",
    "    [                           # opening the list-comprehension\n",
    "        [i, j, k]               # what you return\n",
    "        for i in range(x + 1)   # first loop\n",
    "        for j in range(y + 1)   # second loop\n",
    "        for k in range(z + 1)   # third loop\n",
    "        if i + j + k != n       # condition\n",
    "    ]                           # closing the list-comprehension\n",
    ")\n"
   ]
  },
  {
   "cell_type": "markdown",
   "metadata": {},
   "source": [
    "This is totally equivalent to 3 consecutive for loops applied an a list variable (at least in term of logic... the 3 loops would actually take a bit more time to execute).\n",
    "\n",
    "We could move from one method to the other with copy-paste of bits of code (and adding `append` and columns `:` if needed):"
   ]
  },
  {
   "cell_type": "code",
   "execution_count": 7,
   "metadata": {},
   "outputs": [
    {
     "name": "stdout",
     "output_type": "stream",
     "text": [
      "[[0, 0, 0], [0, 0, 1], [0, 1, 0], [0, 1, 1], [0, 2, 0], [1, 0, 0], [1, 0, 1], [1, 1, 0], [1, 2, 1], [2, 0, 0], [2, 1, 1], [2, 2, 0], [2, 2, 1], [3, 0, 1], [3, 1, 0], [3, 1, 1], [3, 2, 0], [3, 2, 1], [4, 0, 0], [4, 0, 1], [4, 1, 0], [4, 1, 1], [4, 2, 0], [4, 2, 1], [5, 0, 0], [5, 0, 1], [5, 1, 0], [5, 1, 1], [5, 2, 0], [5, 2, 1]]\n"
     ]
    }
   ],
   "source": [
    "x = 5\n",
    "y = 2\n",
    "z = 1\n",
    "n = 3\n",
    "\n",
    "\n",
    "output = []\n",
    "\n",
    "for i in range(x + 1):   # first loop\n",
    "    for j in range(y + 1):   # second loop\n",
    "        for k in range(z + 1):   # third loop\n",
    "            if i + j + k != n:  # condition\n",
    "                output.append([i, j, k]) # what you return\n",
    "print(output)"
   ]
  },
  {
   "cell_type": "markdown",
   "metadata": {},
   "source": [
    "... if the explanations are not clear enough, you can also check the details from Hacker Rank:\n",
    "\n",
    "https://www.hackerrank.com/challenges/list-comprehensions/tutorial"
   ]
  },
  {
   "cell_type": "markdown",
   "metadata": {},
   "source": [
    "# Assignments"
   ]
  },
  {
   "cell_type": "markdown",
   "metadata": {},
   "source": [
    "## Prepare for Session #2"
   ]
  },
  {
   "cell_type": "markdown",
   "metadata": {},
   "source": [
    "1. Create a Kaggle account if you have not done it yet (https://www.kaggle.com/account/login?phase=startRegisterTab)\n",
    "2. Create a HackeRank account if you have not done it yet -- for the coding challenges (https://www.hackerrank.com/auth/signup)\n",
    "3. Do the practice of Hello World in Kaggle [this should not be very long and it's just to review what you just learned] : https://www.kaggle.com/jeffkag/exercise-syntax-variables-and-numbers/edit\n",
    "4\n",
    "6. [OPTIONAL] You can try another HackerRank challenge if you have extra time about divisions: https://www.hackerrank.com/challenges/python-division/problem"
   ]
  },
  {
   "cell_type": "markdown",
   "metadata": {},
   "source": [
    "## Prepare for Session #3\n",
    "\n",
    "1. Finish homework for Session #2 if not finished\n",
    "2. Read lesson #3 about booleans and logics: https://www.kaggle.com/colinmorris/booleans-and-conditionals\n",
    "3. Do the practice of lesson #3: https://www.kaggle.com/kernels/fork/1275165\n",
    "\n",
    "Note:\n",
    "* In Kaggle practice, the little 🌶️ represent difficult challenges. Don't hesitate to ask for help if needed. And share some tips with others if you have figured it out and they have not.\n",
    "* The last Optional 🌶️ Challenge (Black Jack) is quite challenging and optional.\n"
   ]
  },
  {
   "cell_type": "markdown",
   "metadata": {},
   "source": [
    "## Prepare for Session #4\n",
    "\n",
    "1. Finish homework for Session #3 if not finished\n",
    "2. Read lesson #4 about lists: https://www.kaggle.com/colinmorris/lists\n",
    "3. Do the practice of lesson #4: https://www.kaggle.com/kernels/fork/1275173\n",
    "4. [OPTIONAL] Hackerrank challenge that mixes functions and logic: \"Write a function (M)\" https://www.hackerrank.com/challenges/write-a-function/problem?isFullScreen=true (💡see below for some hints)\n",
    "\n",
    "\n",
    "Note:\n",
    "* In Kaggle practice, the little 🌶️ represent difficult challenges. Don't hesitate to ask for help if needed. And share some tips with others if you have figured it out and they have not.\n"
   ]
  },
  {
   "cell_type": "markdown",
   "metadata": {},
   "source": [
    "### HackerRang Challenge \"Write a function (M)\"\n",
    "\n",
    "Link: https://www.hackerrank.com/challenges/write-a-function/problem?isFullScreen=true\n",
    "\n",
    "You need to write a function `is_leap` that takes argument `year` and returns a boolean to indicate if this is a leap year or not (`True` meaning the year as argument is a leap year).\n",
    "\n",
    "\n",
    "```\n",
    "In the Gregorian calendar, three conditions are used to identify leap years:\n",
    "\n",
    "The year can be evenly divided by 4, is a leap year, unless:\n",
    "... The year can be evenly divided by 100, it is NOT a leap year, unless:\n",
    "... ... The year is also evenly divisible by 400. Then it is a leap year.\n",
    "```\n",
    "\n",
    "In other words: `is_leap(2000)` returns `True` while `is_leap(1990)` returns `False`.\n",
    "\n",
    "Good luck!!\n",
    "\n",
    "Below, there are few 💡hints you can look progressively when you feel blocked."
   ]
  },
  {
   "cell_type": "markdown",
   "metadata": {},
   "source": [
    "#### 💡 HINT #1\n",
    "\n",
    "When you have a complex problem, start by solving a simpler version and then add more complex conditions.\n",
    "\n",
    "Do the following:\n",
    "\n",
    "1. If the year can be evenly divided by 4, it is a leap year (at first, don't worry about the \"unless ...\")\n",
    "2. Then when you have solved it, add the first \"unless\" (i.e. \"unless the year can be evenly divided by 100, it is NOT a leap year\")\n",
    "3. Then when you have solved it, add the last \"unless\", which should be easier because you have already figured out how to add an \"unless\""
   ]
  },
  {
   "cell_type": "markdown",
   "metadata": {},
   "source": [
    "#### 💡 HINT #2\n",
    "\n",
    "Do not hard code all the possible years (like `if year == 2000 or year == 2200 or ...`) but rather have conditions."
   ]
  },
  {
   "cell_type": "markdown",
   "metadata": {},
   "source": [
    "#### 💡 HINT #3\n",
    "\n",
    "When you see `n can be divided by xxx`, you need to think of \"modulo\" (i.e. `n % xxx == 0`)"
   ]
  },
  {
   "cell_type": "markdown",
   "metadata": {},
   "source": [
    "#### 💡 HINT #4\n",
    "\n",
    "You should use combinations of `if` inside other `if`:\n",
    "\n",
    "```python\n",
    "\n",
    "if <condition1>:\n",
    "    if <condition2>:\n",
    "        <code 1=True,2=True>\n",
    "    else:\n",
    "        <code 1=True,2=False>\n",
    "else:\n",
    "    <code 1=False>\n",
    "```\n",
    "\n",
    "... actually, you might need more than 2 levels."
   ]
  },
  {
   "cell_type": "markdown",
   "metadata": {},
   "source": [
    "## Prepare for Session #5\n",
    "\n",
    "1. Finish homework for Session #4 if not finished\n",
    "2. Read lesson #5 about loops and list comprehensions: https://www.kaggle.com/colinmorris/loops-and-list-comprehensions\n",
    "3. Do the practice of lesson #5: https://www.kaggle.com/kernels/fork/1275177\n",
    "4. No suitable HackerRank challenge found right now... but you can try the optional challenge for last session if you have not (see 💡hints above 👆)  \"Write a function (M)\" https://www.hackerrank.com/challenges/write-a-function/problem?isFullScreen=true\n",
    "\n",
    "\n",
    "Notes:\n",
    "* The List Comprehensions is one of Python favorite \"trick\", that few (if any) other programming languages has: it might seem strange at the beginning but once you have understood, you cannot stop using it!\n",
    "* In Kaggle practice, the little 🌶️ represent difficult challenges. Don't hesitate to ask for help if needed. And share some tips with others if you have figured it out and they have not."
   ]
  },
  {
   "cell_type": "markdown",
   "metadata": {},
   "source": [
    "## Prepare for Session #6\n",
    "\n",
    "1. Finish homework for Sessions #1 to #5 if not finished\n",
    "2. Review content learned so far\n",
    "3. Do Quizz #1 for Introduction (Session #1) and Boolean & Logic (Session #2): https://quizizz.com/join?gc=14102265\n",
    "4. Do Quizz #2 for functions (Session #3), lists (Session #4), and loops (Session #5): https://quizizz.com/join?gc=62336761\n",
    "5. **Optional**: do optional practices of previous sessions or optional additional Kaggle Challenges\n",
    "\n",
    "\n",
    "Notes:\n",
    "* In the Quizz, by default you have some \"funny\" meme to light-up the mood. You can disable them at the before starting the Quizz if you don't like them.\n",
    "* In Kaggle practice, the little 🌶️ represent difficult challenges. Don't hesitate to ask for help if needed. And share some tips with others if you have figured it out and they have not."
   ]
  },
  {
   "cell_type": "markdown",
   "metadata": {},
   "source": [
    "## Prepare for Session #7\n",
    "\n",
    "1. Finish homework for Session #1 to #5 if not finished\n",
    "2. Read lesson #6 about strings and dictionaries: https://www.kaggle.com/colinmorris/strings-and-dictionaries\n",
    "3. Do the practice of lesson #6: https://www.kaggle.com/kernels/fork/1275185\n",
    "\n",
    "\n",
    "\n",
    "Notes:\n",
    "* The dictionaries are basically like an index (or a table of contents) in a book: we have a keyword (or a chapter) and an associated page number!\n",
    "* In Kaggle practice, the little 🌶️ represent difficult challenges. Don't hesitate to ask for help if needed. And share some tips with others if you have figured it out and they have not."
   ]
  },
  {
   "cell_type": "markdown",
   "metadata": {},
   "source": [
    "If you are familiar with Excel, here is what a python dictionary could like in Excel:\n",
    "\n",
    "\n",
    "![Dict in Excel](images/Excel-dict.png \"Dictionaries in Excel: TABLES\")\n",
    "\n",
    "Basically: a \"Table\" with 2 columns and the first column being unique (the \"key\") and the second column being an associated vale (the \"value\").\n",
    "\n"
   ]
  },
  {
   "cell_type": "markdown",
   "metadata": {},
   "source": [
    "# THE END 🔚"
   ]
  },
  {
   "cell_type": "markdown",
   "metadata": {},
   "source": [
    "## Any question? 😴😕😱😮🧐😵🤔😷"
   ]
  }
 ],
 "metadata": {
  "interpreter": {
   "hash": "697eb383d1660011c7748e9fbfe727a5dcacfec6a464ebd1b9e634c07186009d"
  },
  "kernelspec": {
   "display_name": "Python 3 (ipykernel)",
   "language": "python",
   "name": "python3"
  },
  "language_info": {
   "codemirror_mode": {
    "name": "ipython",
    "version": 3
   },
   "file_extension": ".py",
   "mimetype": "text/x-python",
   "name": "python",
   "nbconvert_exporter": "python",
   "pygments_lexer": "ipython3",
   "version": "3.10.2"
  },
  "toc": {
   "base_numbering": 1,
   "nav_menu": {},
   "number_sections": true,
   "sideBar": true,
   "skip_h1_title": false,
   "title_cell": "Table of Contents",
   "title_sidebar": "Contents",
   "toc_cell": false,
   "toc_position": {
    "height": "calc(100% - 180px)",
    "left": "10px",
    "top": "150px",
    "width": "165px"
   },
   "toc_section_display": true,
   "toc_window_display": false
  }
 },
 "nbformat": 4,
 "nbformat_minor": 2
}

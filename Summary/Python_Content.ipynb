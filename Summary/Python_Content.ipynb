{
 "cells": [
  {
   "cell_type": "markdown",
   "metadata": {},
   "source": [
    "# 🐍Python Bootcamp PY101 #2\n",
    "\n",
    "---"
   ]
  },
  {
   "cell_type": "markdown",
   "metadata": {},
   "source": [
    "# Summary of what we learned"
   ]
  },
  {
   "cell_type": "markdown",
   "metadata": {},
   "source": [
    "## 📓Jupyter\n",
    "\n",
    "\n",
    "Jupyter is a kind of application that allows editing and running notebook documents via a web browser.\n",
    "\n",
    "**Kaggle** notebooks are based on Jupyter.\n",
    "\n",
    "\n",
    "**Jupyter Notebooks** (extension `.ipynb`):\n",
    "\n",
    "* Notebook-based code editor\n",
    "* Usually run in web browser (but can run in IDE like Visual Studio Code)\n",
    "* Mix code + text + visualization (graphs, tables, pictures, etc.)\n",
    "* Useful when doing research / exploration (e.g. data science)\n",
    "\n",
    "What you are currently look at is a Jupyter Notebook"
   ]
  },
  {
   "cell_type": "markdown",
   "metadata": {},
   "source": [
    "A notebook is composed of 3 types of elements:\n",
    "\n",
    "* **cells of text** in Markdown language (like this block of text)\n",
    "* **cells of Python code** (like what is below)\n",
    "* **results of code cells** (the result of running the code)"
   ]
  },
  {
   "cell_type": "code",
   "execution_count": null,
   "metadata": {},
   "outputs": [],
   "source": [
    "variable = 10\n",
    "variable + 5"
   ]
  },
  {
   "cell_type": "markdown",
   "metadata": {},
   "source": [
    "Jupyter will display the value of the element in the last line of code ... for example:"
   ]
  },
  {
   "cell_type": "code",
   "execution_count": null,
   "metadata": {},
   "outputs": [],
   "source": [
    "\"Hello \" + \"You!\""
   ]
  },
  {
   "cell_type": "markdown",
   "metadata": {},
   "source": [
    "It can also remember values between cells"
   ]
  },
  {
   "cell_type": "code",
   "execution_count": null,
   "metadata": {},
   "outputs": [],
   "source": [
    "print(variable)"
   ]
  },
  {
   "cell_type": "markdown",
   "metadata": {},
   "source": [
    "You can \"run\" cells with code (i.e. execute the code) in different ways:\n",
    "\n",
    "* Click on the \"Play\" icon ▶️ (top left of cell in VS Code ... or in the toolbar in Jupyter)\n",
    "* <kbd>Shift</kbd> + <kbd>ENTER</kbd> to run the cell and move to the next cell\n",
    "* <kbd>Ctrl</kbd> + <kbd>ENTER</kbd> (<kbd>Cmd</kbd> + <kbd>ENTER</kbd> on Mac) to just run the cell\n"
   ]
  },
  {
   "cell_type": "markdown",
   "metadata": {},
   "source": [
    "## 📑Python Basics and Functions\n"
   ]
  },
  {
   "cell_type": "markdown",
   "metadata": {},
   "source": [
    "Basic types of data:\n",
    "\n",
    "* integers: numbers without fractional part (e.g. `-5`, `0`, `10`)\n",
    "* floats: numbers with a fractional part (e.g. `3.14`, `123.456`)\n",
    "* strings: equivalent of text (e.g. `Python is awesome`)\n",
    "\n",
    "*Note: There is another type we will see later: `bool`. Python also supports also complex numbers*\n",
    "\n",
    "You can convert from one type to another (when it makes sense) with a function named after the type: `int()`, `float()`, `str()`.\n"
   ]
  },
  {
   "cell_type": "code",
   "execution_count": null,
   "metadata": {},
   "outputs": [],
   "source": [
    "print( int(1234.5678) )\n",
    "print( float(123) )\n",
    "print( str(123) + str(456) )"
   ]
  },
  {
   "cell_type": "markdown",
   "metadata": {},
   "source": [
    "\n",
    "1. We can add **comments** to explain what we do  (`# ...`)\n",
    "2. **Variables** are used to store and re-use values (`some_name = ... `)\n",
    "3. We can show values, messages, variables with `print(...)`\n",
    "4. We can create **functions** when we want to re-use the same code several times with only small variations (`def name_of_my_function( ... )`)\n",
    "5. We can insert code and variables into \"strings\" (i.e. text) with the powerful **f-string** (`f\"value={variable}\"`)"
   ]
  },
  {
   "cell_type": "code",
   "execution_count": null,
   "metadata": {},
   "outputs": [],
   "source": [
    "def hello(name):  # [4] define a function with a parameter \"name\"\n",
    "    \"\"\"Say hello to someone\"\"\"\n",
    "    print(f\"Hello {name}\")  # [5] using f-string to print a string with the value of \"name\"\n",
    "\n",
    "\n",
    "print(\"Hi!\")  # [3] print a message in output of the cell\n",
    "hello(\"me\")  # [4] call the function and print \"Hello me!\"\n",
    "\n",
    "you = \"You!\"  # [2] define a variable\n",
    "hello(you)  # [2] use the variable and print \"Hello You!\"\n",
    "\n",
    "# [1] Since the number is the last line of the cell, it will display in the output of the cell\n",
    "str(123) + str(456)\n"
   ]
  },
  {
   "cell_type": "markdown",
   "metadata": {},
   "source": [
    "⚡Common Pitfalls while writing a function:\n",
    "\n",
    "1. Don't forget the `def` and the parentheses\n",
    "2. Don't forget the `:` after the parentheses\n",
    "3. Don't forget to correctly indent the implementation of the function\n",
    "4. ... and to help you (and potential users) remember what this does, put a clear **docstring**"
   ]
  },
  {
   "cell_type": "markdown",
   "metadata": {},
   "source": [
    "**🙋QUESTION: What is the difference between comments and a docstring?**"
   ]
  },
  {
   "cell_type": "markdown",
   "metadata": {},
   "source": [
    "# Practice"
   ]
  },
  {
   "cell_type": "markdown",
   "metadata": {},
   "source": [
    "## Session 1 (WARMUP)\n",
    "\n",
    "* \"Say Hello World\": https://www.hackerrank.com/challenges/py-hello-world/problem\n",
    "* \"Arithmetic Operations\": https://www.hackerrank.com/challenges/python-arithmetic-operators/problem\n"
   ]
  },
  {
   "cell_type": "markdown",
   "metadata": {},
   "source": [
    "## Session 2 (Functions)\n",
    "\n",
    "* \"What's your name\": https://www.hackerrank.com/challenges/whats-your-name/problem\n",
    "* \"Python: Division\" **WHILE USING A FUNCTION**: https://www.hackerrank.com/challenges/python-division/problem"
   ]
  },
  {
   "cell_type": "markdown",
   "metadata": {},
   "source": [
    "# THE END 🔚"
   ]
  },
  {
   "cell_type": "markdown",
   "metadata": {},
   "source": [
    "## Any question? 😴😕😱😮🧐😵🤔😷"
   ]
  }
 ],
 "metadata": {
  "interpreter": {
   "hash": "697eb383d1660011c7748e9fbfe727a5dcacfec6a464ebd1b9e634c07186009d"
  },
  "kernelspec": {
   "display_name": "Python 3 (ipykernel)",
   "language": "python",
   "name": "python3"
  },
  "language_info": {
   "codemirror_mode": {
    "name": "ipython",
    "version": 3
   },
   "file_extension": ".py",
   "mimetype": "text/x-python",
   "name": "python",
   "nbconvert_exporter": "python",
   "pygments_lexer": "ipython3",
   "version": "3.9.6"
  },
  "toc": {
   "base_numbering": 1,
   "nav_menu": {},
   "number_sections": true,
   "sideBar": true,
   "skip_h1_title": false,
   "title_cell": "Table of Contents",
   "title_sidebar": "Contents",
   "toc_cell": false,
   "toc_position": {
    "height": "calc(100% - 180px)",
    "left": "10px",
    "top": "150px",
    "width": "165px"
   },
   "toc_section_display": true,
   "toc_window_display": false
  }
 },
 "nbformat": 4,
 "nbformat_minor": 2
}
